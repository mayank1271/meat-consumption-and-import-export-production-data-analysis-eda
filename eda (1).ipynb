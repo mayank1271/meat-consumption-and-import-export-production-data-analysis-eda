{
 "cells": [
  {
   "cell_type": "code",
   "execution_count": 1,
   "id": "dc00a015-7806-4431-92bb-3579190f0e3e",
   "metadata": {},
   "outputs": [],
   "source": [
    "import pandas as pd\n",
    "import numpy as np\n",
    "import matplotlib.pyplot as plt\n",
    "from skimpy import skim\n",
    "import seaborn as sns\n",
    "import numpy as np\n",
    "import warnings\n",
    "warnings.filterwarnings(\"ignore\")\n"
   ]
  },
  {
   "cell_type": "code",
   "execution_count": 2,
   "id": "c01fbe1c-174a-4bbe-82a5-fb5342896574",
   "metadata": {},
   "outputs": [],
   "source": [
    "data=pd.read_csv(r\"C:\\Users\\mayank manjhi\\Downloads\\meshy_data.csv\")"
   ]
  },
  {
   "cell_type": "code",
   "execution_count": 3,
   "id": "0ab808ae-bcc2-43d0-9d83-c5411e84c19b",
   "metadata": {},
   "outputs": [
    {
     "name": "stdout",
     "output_type": "stream",
     "text": [
      "<class 'pandas.core.frame.DataFrame'>\n",
      "RangeIndex: 6720 entries, 0 to 6719\n",
      "Data columns (total 28 columns):\n",
      " #   Column                    Non-Null Count  Dtype  \n",
      "---  ------                    --------------  -----  \n",
      " 0   STRUCTURE                 6720 non-null   object \n",
      " 1   STRUCTURE_ID              6720 non-null   object \n",
      " 2   STRUCTURE_NAME            6720 non-null   object \n",
      " 3   ACTION                    6720 non-null   object \n",
      " 4   REF_AREA                  6720 non-null   object \n",
      " 5   Reference area            6720 non-null   object \n",
      " 6   FREQ                      6720 non-null   object \n",
      " 7   Frequency of observation  6720 non-null   object \n",
      " 8   COMMODITY                 6720 non-null   object \n",
      " 9   Commodity                 6720 non-null   object \n",
      " 10  MEASURE                   6720 non-null   object \n",
      " 11  Measure                   6720 non-null   object \n",
      " 12  UNIT_MEASURE              6720 non-null   object \n",
      " 13  Unit of measure           6720 non-null   object \n",
      " 14  VERSION_ID                6720 non-null   object \n",
      " 15  Version ID                6720 non-null   object \n",
      " 16  TIME_PERIOD               6384 non-null   float64\n",
      " 17  Time period               0 non-null      float64\n",
      " 18  OBS_VALUE                 6384 non-null   float64\n",
      " 19  Observation value         0 non-null      float64\n",
      " 20  OBS_STATUS                6720 non-null   object \n",
      " 21  Observation status        6720 non-null   object \n",
      " 22  UNIT_MULT                 6384 non-null   float64\n",
      " 23  Unit multiplier           6720 non-null   object \n",
      " 24  DECIMALS                  6384 non-null   float64\n",
      " 25  Decimals                  6720 non-null   object \n",
      " 26  CONVENTION                5376 non-null   object \n",
      " 27  Agricultural convention   5376 non-null   object \n",
      "dtypes: float64(6), object(22)\n",
      "memory usage: 1.4+ MB\n"
     ]
    }
   ],
   "source": [
    "#### give brief information about data\n",
    "data.info()"
   ]
  },
  {
   "cell_type": "code",
   "execution_count": 4,
   "id": "43f15843-ff04-40bd-b450-541f6d410b9c",
   "metadata": {},
   "outputs": [
    {
     "data": {
      "text/html": [
       "<div>\n",
       "<style scoped>\n",
       "    .dataframe tbody tr th:only-of-type {\n",
       "        vertical-align: middle;\n",
       "    }\n",
       "\n",
       "    .dataframe tbody tr th {\n",
       "        vertical-align: top;\n",
       "    }\n",
       "\n",
       "    .dataframe thead th {\n",
       "        text-align: right;\n",
       "    }\n",
       "</style>\n",
       "<table border=\"1\" class=\"dataframe\">\n",
       "  <thead>\n",
       "    <tr style=\"text-align: right;\">\n",
       "      <th></th>\n",
       "      <th>STRUCTURE</th>\n",
       "      <th>STRUCTURE_ID</th>\n",
       "      <th>STRUCTURE_NAME</th>\n",
       "      <th>ACTION</th>\n",
       "      <th>REF_AREA</th>\n",
       "      <th>Reference area</th>\n",
       "      <th>FREQ</th>\n",
       "      <th>Frequency of observation</th>\n",
       "      <th>COMMODITY</th>\n",
       "      <th>Commodity</th>\n",
       "      <th>...</th>\n",
       "      <th>OBS_VALUE</th>\n",
       "      <th>Observation value</th>\n",
       "      <th>OBS_STATUS</th>\n",
       "      <th>Observation status</th>\n",
       "      <th>UNIT_MULT</th>\n",
       "      <th>Unit multiplier</th>\n",
       "      <th>DECIMALS</th>\n",
       "      <th>Decimals</th>\n",
       "      <th>CONVENTION</th>\n",
       "      <th>Agricultural convention</th>\n",
       "    </tr>\n",
       "  </thead>\n",
       "  <tbody>\n",
       "    <tr>\n",
       "      <th>0</th>\n",
       "      <td>DATAFLOW</td>\n",
       "      <td>OECD.TAD.ATM:DSD_AGR@DF_OUTLOOK_2021_2030(1.0)</td>\n",
       "      <td>OECD-FAO Agricultural Outlook 2021-2030</td>\n",
       "      <td>I</td>\n",
       "      <td>IND</td>\n",
       "      <td>India</td>\n",
       "      <td>A</td>\n",
       "      <td>Annual</td>\n",
       "      <td>CPC_EX_PK</td>\n",
       "      <td>Pigmeat</td>\n",
       "      <td>...</td>\n",
       "      <td>382.140698</td>\n",
       "      <td>NaN</td>\n",
       "      <td>A</td>\n",
       "      <td>Normal value</td>\n",
       "      <td>3.130361</td>\n",
       "      <td>Thousands</td>\n",
       "      <td>2.087570</td>\n",
       "      <td>Two</td>\n",
       "      <td>CWE</td>\n",
       "      <td>Carcass weight equivalent</td>\n",
       "    </tr>\n",
       "    <tr>\n",
       "      <th>1</th>\n",
       "      <td>DATAFLOW</td>\n",
       "      <td>OECD.TAD.ATM:DSD_AGR@DF_OUTLOOK_2021_2030(1.0)</td>\n",
       "      <td>OECD-FAO Agricultural Outlook 2021-2030</td>\n",
       "      <td>I</td>\n",
       "      <td>TUR</td>\n",
       "      <td>Türkiye</td>\n",
       "      <td>A</td>\n",
       "      <td>Annual</td>\n",
       "      <td>CPC_EX_PT</td>\n",
       "      <td>Poultry meat</td>\n",
       "      <td>...</td>\n",
       "      <td>2031.219856</td>\n",
       "      <td>NaN</td>\n",
       "      <td>A</td>\n",
       "      <td>Normal value</td>\n",
       "      <td>2.888025</td>\n",
       "      <td>Thousands</td>\n",
       "      <td>1.833157</td>\n",
       "      <td>Two</td>\n",
       "      <td>RTOC</td>\n",
       "      <td>Ready to cook</td>\n",
       "    </tr>\n",
       "    <tr>\n",
       "      <th>2</th>\n",
       "      <td>DATAFLOW</td>\n",
       "      <td>OECD.TAD.ATM:DSD_AGR@DF_OUTLOOK_2021_2030(1.0)</td>\n",
       "      <td>OECD-FAO Agricultural Outlook 2021-2030</td>\n",
       "      <td>I</td>\n",
       "      <td>IDN</td>\n",
       "      <td>Indonesia</td>\n",
       "      <td>A</td>\n",
       "      <td>Annual</td>\n",
       "      <td>CPC_EX_SH</td>\n",
       "      <td>Sheepmeat</td>\n",
       "      <td>...</td>\n",
       "      <td>0.232868</td>\n",
       "      <td>NaN</td>\n",
       "      <td>A</td>\n",
       "      <td>Normal value</td>\n",
       "      <td>2.842481</td>\n",
       "      <td>Thousands</td>\n",
       "      <td>1.891426</td>\n",
       "      <td>Two</td>\n",
       "      <td>CWE</td>\n",
       "      <td>Carcass weight equivalent</td>\n",
       "    </tr>\n",
       "    <tr>\n",
       "      <th>3</th>\n",
       "      <td>DATAFLOW</td>\n",
       "      <td>OECD.TAD.ATM:DSD_AGR@DF_OUTLOOK_2021_2030(1.0)</td>\n",
       "      <td>OECD-FAO Agricultural Outlook 2021-2030</td>\n",
       "      <td>I</td>\n",
       "      <td>IND</td>\n",
       "      <td>India</td>\n",
       "      <td>A</td>\n",
       "      <td>Annual</td>\n",
       "      <td>CPC_EX_PK</td>\n",
       "      <td>Pigmeat</td>\n",
       "      <td>...</td>\n",
       "      <td>364.275583</td>\n",
       "      <td>NaN</td>\n",
       "      <td>A</td>\n",
       "      <td>Normal value</td>\n",
       "      <td>2.925527</td>\n",
       "      <td>Thousands</td>\n",
       "      <td>2.010140</td>\n",
       "      <td>Two</td>\n",
       "      <td>CWE</td>\n",
       "      <td>Carcass weight equivalent</td>\n",
       "    </tr>\n",
       "    <tr>\n",
       "      <th>4</th>\n",
       "      <td>DATAFLOW</td>\n",
       "      <td>OECD.TAD.ATM:DSD_AGR@DF_OUTLOOK_2021_2030(1.0)</td>\n",
       "      <td>OECD-FAO Agricultural Outlook 2021-2030</td>\n",
       "      <td>I</td>\n",
       "      <td>CHN</td>\n",
       "      <td>China (People’s Republic of)</td>\n",
       "      <td>A</td>\n",
       "      <td>Annual</td>\n",
       "      <td>CPC_EX_SH</td>\n",
       "      <td>Sheepmeat</td>\n",
       "      <td>...</td>\n",
       "      <td>319.134483</td>\n",
       "      <td>NaN</td>\n",
       "      <td>A</td>\n",
       "      <td>Normal value</td>\n",
       "      <td>2.996662</td>\n",
       "      <td>Thousands</td>\n",
       "      <td>1.914077</td>\n",
       "      <td>Two</td>\n",
       "      <td>CWE</td>\n",
       "      <td>Carcass weight equivalent</td>\n",
       "    </tr>\n",
       "    <tr>\n",
       "      <th>5</th>\n",
       "      <td>DATAFLOW</td>\n",
       "      <td>OECD.TAD.ATM:DSD_AGR@DF_OUTLOOK_2021_2030(1.0)</td>\n",
       "      <td>OECD-FAO Agricultural Outlook 2021-2030</td>\n",
       "      <td>I</td>\n",
       "      <td>PAK</td>\n",
       "      <td>Pakistan</td>\n",
       "      <td>A</td>\n",
       "      <td>Annual</td>\n",
       "      <td>CPC_EX_BV</td>\n",
       "      <td>Beef and veal</td>\n",
       "      <td>...</td>\n",
       "      <td>48.172533</td>\n",
       "      <td>NaN</td>\n",
       "      <td>A</td>\n",
       "      <td>Normal value</td>\n",
       "      <td>3.056963</td>\n",
       "      <td>Thousands</td>\n",
       "      <td>NaN</td>\n",
       "      <td>Two</td>\n",
       "      <td>CWE</td>\n",
       "      <td>Carcass weight equivalent</td>\n",
       "    </tr>\n",
       "    <tr>\n",
       "      <th>6</th>\n",
       "      <td>DATAFLOW</td>\n",
       "      <td>OECD.TAD.ATM:DSD_AGR@DF_OUTLOOK_2021_2030(1.0)</td>\n",
       "      <td>OECD-FAO Agricultural Outlook 2021-2030</td>\n",
       "      <td>I</td>\n",
       "      <td>PAK</td>\n",
       "      <td>Pakistan</td>\n",
       "      <td>A</td>\n",
       "      <td>Annual</td>\n",
       "      <td>CPC_EX_PT</td>\n",
       "      <td>Poultry meat</td>\n",
       "      <td>...</td>\n",
       "      <td>2272.414897</td>\n",
       "      <td>NaN</td>\n",
       "      <td>A</td>\n",
       "      <td>Normal value</td>\n",
       "      <td>3.055426</td>\n",
       "      <td>Thousands</td>\n",
       "      <td>1.842999</td>\n",
       "      <td>Two</td>\n",
       "      <td>RTOC</td>\n",
       "      <td>Ready to cook</td>\n",
       "    </tr>\n",
       "    <tr>\n",
       "      <th>7</th>\n",
       "      <td>DATAFLOW</td>\n",
       "      <td>OECD.TAD.ATM:DSD_AGR@DF_OUTLOOK_2021_2030(1.0)</td>\n",
       "      <td>OECD-FAO Agricultural Outlook 2021-2030</td>\n",
       "      <td>I</td>\n",
       "      <td>JPN</td>\n",
       "      <td>Japan</td>\n",
       "      <td>A</td>\n",
       "      <td>Annual</td>\n",
       "      <td>CPC_EX_BV</td>\n",
       "      <td>Beef and veal</td>\n",
       "      <td>...</td>\n",
       "      <td>6.000930</td>\n",
       "      <td>NaN</td>\n",
       "      <td>A</td>\n",
       "      <td>Normal value</td>\n",
       "      <td>3.047550</td>\n",
       "      <td>Thousands</td>\n",
       "      <td>2.017414</td>\n",
       "      <td>Two</td>\n",
       "      <td>CWE</td>\n",
       "      <td>Carcass weight equivalent</td>\n",
       "    </tr>\n",
       "    <tr>\n",
       "      <th>8</th>\n",
       "      <td>DATAFLOW</td>\n",
       "      <td>OECD.TAD.ATM:DSD_AGR@DF_OUTLOOK_2021_2030(1.0)</td>\n",
       "      <td>OECD-FAO Agricultural Outlook 2021-2030</td>\n",
       "      <td>I</td>\n",
       "      <td>OECD</td>\n",
       "      <td>OECD</td>\n",
       "      <td>A</td>\n",
       "      <td>Annual</td>\n",
       "      <td>CPC_EX_PT</td>\n",
       "      <td>Poultry meat</td>\n",
       "      <td>...</td>\n",
       "      <td>6697.026145</td>\n",
       "      <td>NaN</td>\n",
       "      <td>A</td>\n",
       "      <td>Normal value</td>\n",
       "      <td>3.089724</td>\n",
       "      <td>Thousands</td>\n",
       "      <td>1.937717</td>\n",
       "      <td>Two</td>\n",
       "      <td>RTOC</td>\n",
       "      <td>Ready to cook</td>\n",
       "    </tr>\n",
       "    <tr>\n",
       "      <th>9</th>\n",
       "      <td>DATAFLOW</td>\n",
       "      <td>OECD.TAD.ATM:DSD_AGR@DF_OUTLOOK_2021_2030(1.0)</td>\n",
       "      <td>OECD-FAO Agricultural Outlook 2021-2030</td>\n",
       "      <td>I</td>\n",
       "      <td>TUR</td>\n",
       "      <td>Türkiye</td>\n",
       "      <td>A</td>\n",
       "      <td>Annual</td>\n",
       "      <td>CPC_EX_BV</td>\n",
       "      <td>Beef and veal</td>\n",
       "      <td>...</td>\n",
       "      <td>1052.775310</td>\n",
       "      <td>NaN</td>\n",
       "      <td>A</td>\n",
       "      <td>Normal value</td>\n",
       "      <td>2.962352</td>\n",
       "      <td>Thousands</td>\n",
       "      <td>1.825278</td>\n",
       "      <td>Two</td>\n",
       "      <td>CWE</td>\n",
       "      <td>Carcass weight equivalent</td>\n",
       "    </tr>\n",
       "    <tr>\n",
       "      <th>10</th>\n",
       "      <td>DATAFLOW</td>\n",
       "      <td>OECD.TAD.ATM:DSD_AGR@DF_OUTLOOK_2021_2030(1.0)</td>\n",
       "      <td>OECD-FAO Agricultural Outlook 2021-2030</td>\n",
       "      <td>I</td>\n",
       "      <td>MYS</td>\n",
       "      <td>Malaysia</td>\n",
       "      <td>A</td>\n",
       "      <td>Annual</td>\n",
       "      <td>CPC_EX_SH</td>\n",
       "      <td>Sheepmeat</td>\n",
       "      <td>...</td>\n",
       "      <td>33.830338</td>\n",
       "      <td>NaN</td>\n",
       "      <td>A</td>\n",
       "      <td>Normal value</td>\n",
       "      <td>3.109740</td>\n",
       "      <td>Thousands</td>\n",
       "      <td>1.924426</td>\n",
       "      <td>Two</td>\n",
       "      <td>CWE</td>\n",
       "      <td>Carcass weight equivalent</td>\n",
       "    </tr>\n",
       "    <tr>\n",
       "      <th>11</th>\n",
       "      <td>DATAFLOW</td>\n",
       "      <td>OECD.TAD.ATM:DSD_AGR@DF_OUTLOOK_2021_2030(1.0)</td>\n",
       "      <td>OECD-FAO Agricultural Outlook 2021-2030</td>\n",
       "      <td>I</td>\n",
       "      <td>KOR</td>\n",
       "      <td>Korea</td>\n",
       "      <td>A</td>\n",
       "      <td>Annual</td>\n",
       "      <td>CPC_EX_SH</td>\n",
       "      <td>Sheepmeat</td>\n",
       "      <td>...</td>\n",
       "      <td>4.201719</td>\n",
       "      <td>NaN</td>\n",
       "      <td>A</td>\n",
       "      <td>Normal value</td>\n",
       "      <td>2.948251</td>\n",
       "      <td>Thousands</td>\n",
       "      <td>1.997483</td>\n",
       "      <td>Two</td>\n",
       "      <td>CWE</td>\n",
       "      <td>Carcass weight equivalent</td>\n",
       "    </tr>\n",
       "    <tr>\n",
       "      <th>12</th>\n",
       "      <td>DATAFLOW</td>\n",
       "      <td>OECD.TAD.ATM:DSD_AGR@DF_OUTLOOK_2021_2030(1.0)</td>\n",
       "      <td>OECD-FAO Agricultural Outlook 2021-2030</td>\n",
       "      <td>I</td>\n",
       "      <td>KOR</td>\n",
       "      <td>Korea</td>\n",
       "      <td>A</td>\n",
       "      <td>Annual</td>\n",
       "      <td>CPC_EX_BV</td>\n",
       "      <td>Beef and veal</td>\n",
       "      <td>...</td>\n",
       "      <td>726.536144</td>\n",
       "      <td>NaN</td>\n",
       "      <td>A</td>\n",
       "      <td>Normal value</td>\n",
       "      <td>3.043189</td>\n",
       "      <td>Thousands</td>\n",
       "      <td>1.867275</td>\n",
       "      <td>Two</td>\n",
       "      <td>CWE</td>\n",
       "      <td>Carcass weight equivalent</td>\n",
       "    </tr>\n",
       "    <tr>\n",
       "      <th>13</th>\n",
       "      <td>DATAFLOW</td>\n",
       "      <td>OECD.TAD.ATM:DSD_AGR@DF_OUTLOOK_2021_2030(1.0)</td>\n",
       "      <td>OECD-FAO Agricultural Outlook 2021-2030</td>\n",
       "      <td>I</td>\n",
       "      <td>S</td>\n",
       "      <td>Asia</td>\n",
       "      <td>A</td>\n",
       "      <td>Annual</td>\n",
       "      <td>CPC_EX_SH</td>\n",
       "      <td>Sheepmeat</td>\n",
       "      <td>...</td>\n",
       "      <td>10811.497355</td>\n",
       "      <td>NaN</td>\n",
       "      <td>A</td>\n",
       "      <td>Normal value</td>\n",
       "      <td>3.131213</td>\n",
       "      <td>Thousands</td>\n",
       "      <td>NaN</td>\n",
       "      <td>Two</td>\n",
       "      <td>CWE</td>\n",
       "      <td>Carcass weight equivalent</td>\n",
       "    </tr>\n",
       "    <tr>\n",
       "      <th>14</th>\n",
       "      <td>DATAFLOW</td>\n",
       "      <td>OECD.TAD.ATM:DSD_AGR@DF_OUTLOOK_2021_2030(1.0)</td>\n",
       "      <td>OECD-FAO Agricultural Outlook 2021-2030</td>\n",
       "      <td>I</td>\n",
       "      <td>CHN</td>\n",
       "      <td>China (People’s Republic of)</td>\n",
       "      <td>A</td>\n",
       "      <td>Annual</td>\n",
       "      <td>CPC_EX_PK</td>\n",
       "      <td>Pigmeat</td>\n",
       "      <td>...</td>\n",
       "      <td>44502.374590</td>\n",
       "      <td>NaN</td>\n",
       "      <td>A</td>\n",
       "      <td>Normal value</td>\n",
       "      <td>3.045990</td>\n",
       "      <td>Thousands</td>\n",
       "      <td>NaN</td>\n",
       "      <td>Two</td>\n",
       "      <td>CWE</td>\n",
       "      <td>Carcass weight equivalent</td>\n",
       "    </tr>\n",
       "    <tr>\n",
       "      <th>15</th>\n",
       "      <td>DATAFLOW</td>\n",
       "      <td>OECD.TAD.ATM:DSD_AGR@DF_OUTLOOK_2021_2030(1.0)</td>\n",
       "      <td>OECD-FAO Agricultural Outlook 2021-2030</td>\n",
       "      <td>I</td>\n",
       "      <td>PAK</td>\n",
       "      <td>Pakistan</td>\n",
       "      <td>A</td>\n",
       "      <td>Annual</td>\n",
       "      <td>CPC_EX_BV</td>\n",
       "      <td>Beef and veal</td>\n",
       "      <td>...</td>\n",
       "      <td>80.326934</td>\n",
       "      <td>NaN</td>\n",
       "      <td>A</td>\n",
       "      <td>Normal value</td>\n",
       "      <td>2.944585</td>\n",
       "      <td>Thousands</td>\n",
       "      <td>1.854422</td>\n",
       "      <td>Two</td>\n",
       "      <td>CWE</td>\n",
       "      <td>Carcass weight equivalent</td>\n",
       "    </tr>\n",
       "    <tr>\n",
       "      <th>16</th>\n",
       "      <td>DATAFLOW</td>\n",
       "      <td>OECD.TAD.ATM:DSD_AGR@DF_OUTLOOK_2021_2030(1.0)</td>\n",
       "      <td>OECD-FAO Agricultural Outlook 2021-2030</td>\n",
       "      <td>I</td>\n",
       "      <td>JPN</td>\n",
       "      <td>Japan</td>\n",
       "      <td>A</td>\n",
       "      <td>Annual</td>\n",
       "      <td>CPC_EX_PK</td>\n",
       "      <td>Pigmeat</td>\n",
       "      <td>...</td>\n",
       "      <td>1250.053853</td>\n",
       "      <td>NaN</td>\n",
       "      <td>A</td>\n",
       "      <td>Normal value</td>\n",
       "      <td>2.868320</td>\n",
       "      <td>Thousands</td>\n",
       "      <td>1.838972</td>\n",
       "      <td>Two</td>\n",
       "      <td>CWE</td>\n",
       "      <td>Carcass weight equivalent</td>\n",
       "    </tr>\n",
       "    <tr>\n",
       "      <th>17</th>\n",
       "      <td>DATAFLOW</td>\n",
       "      <td>OECD.TAD.ATM:DSD_AGR@DF_OUTLOOK_2021_2030(1.0)</td>\n",
       "      <td>OECD-FAO Agricultural Outlook 2021-2030</td>\n",
       "      <td>I</td>\n",
       "      <td>TUR</td>\n",
       "      <td>Türkiye</td>\n",
       "      <td>A</td>\n",
       "      <td>Annual</td>\n",
       "      <td>CPC_EX_PK</td>\n",
       "      <td>Pigmeat</td>\n",
       "      <td>...</td>\n",
       "      <td>18.623008</td>\n",
       "      <td>NaN</td>\n",
       "      <td>A</td>\n",
       "      <td>Normal value</td>\n",
       "      <td>2.957624</td>\n",
       "      <td>Thousands</td>\n",
       "      <td>1.861414</td>\n",
       "      <td>Two</td>\n",
       "      <td>CWE</td>\n",
       "      <td>Carcass weight equivalent</td>\n",
       "    </tr>\n",
       "    <tr>\n",
       "      <th>18</th>\n",
       "      <td>DATAFLOW</td>\n",
       "      <td>OECD.TAD.ATM:DSD_AGR@DF_OUTLOOK_2021_2030(1.0)</td>\n",
       "      <td>OECD-FAO Agricultural Outlook 2021-2030</td>\n",
       "      <td>I</td>\n",
       "      <td>THA</td>\n",
       "      <td>Thailand</td>\n",
       "      <td>A</td>\n",
       "      <td>Annual</td>\n",
       "      <td>CPC_EX_PK</td>\n",
       "      <td>Pigmeat</td>\n",
       "      <td>...</td>\n",
       "      <td>917.607401</td>\n",
       "      <td>NaN</td>\n",
       "      <td>A</td>\n",
       "      <td>Normal value</td>\n",
       "      <td>3.018042</td>\n",
       "      <td>Thousands</td>\n",
       "      <td>1.995157</td>\n",
       "      <td>Two</td>\n",
       "      <td>CWE</td>\n",
       "      <td>Carcass weight equivalent</td>\n",
       "    </tr>\n",
       "    <tr>\n",
       "      <th>19</th>\n",
       "      <td>DATAFLOW</td>\n",
       "      <td>OECD.TAD.ATM:DSD_AGR@DF_OUTLOOK_2021_2030(1.0)</td>\n",
       "      <td>OECD-FAO Agricultural Outlook 2021-2030</td>\n",
       "      <td>I</td>\n",
       "      <td>IRN</td>\n",
       "      <td>Iran</td>\n",
       "      <td>A</td>\n",
       "      <td>Annual</td>\n",
       "      <td>CPC_EX_PT</td>\n",
       "      <td>Poultry meat</td>\n",
       "      <td>...</td>\n",
       "      <td>18.143213</td>\n",
       "      <td>NaN</td>\n",
       "      <td>A</td>\n",
       "      <td>Normal value</td>\n",
       "      <td>2.947416</td>\n",
       "      <td>Thousands</td>\n",
       "      <td>1.921970</td>\n",
       "      <td>Two</td>\n",
       "      <td>RTOC</td>\n",
       "      <td>Ready to cook</td>\n",
       "    </tr>\n",
       "  </tbody>\n",
       "</table>\n",
       "<p>20 rows × 28 columns</p>\n",
       "</div>"
      ],
      "text/plain": [
       "   STRUCTURE                                    STRUCTURE_ID  \\\n",
       "0   DATAFLOW  OECD.TAD.ATM:DSD_AGR@DF_OUTLOOK_2021_2030(1.0)   \n",
       "1   DATAFLOW  OECD.TAD.ATM:DSD_AGR@DF_OUTLOOK_2021_2030(1.0)   \n",
       "2   DATAFLOW  OECD.TAD.ATM:DSD_AGR@DF_OUTLOOK_2021_2030(1.0)   \n",
       "3   DATAFLOW  OECD.TAD.ATM:DSD_AGR@DF_OUTLOOK_2021_2030(1.0)   \n",
       "4   DATAFLOW  OECD.TAD.ATM:DSD_AGR@DF_OUTLOOK_2021_2030(1.0)   \n",
       "5   DATAFLOW  OECD.TAD.ATM:DSD_AGR@DF_OUTLOOK_2021_2030(1.0)   \n",
       "6   DATAFLOW  OECD.TAD.ATM:DSD_AGR@DF_OUTLOOK_2021_2030(1.0)   \n",
       "7   DATAFLOW  OECD.TAD.ATM:DSD_AGR@DF_OUTLOOK_2021_2030(1.0)   \n",
       "8   DATAFLOW  OECD.TAD.ATM:DSD_AGR@DF_OUTLOOK_2021_2030(1.0)   \n",
       "9   DATAFLOW  OECD.TAD.ATM:DSD_AGR@DF_OUTLOOK_2021_2030(1.0)   \n",
       "10  DATAFLOW  OECD.TAD.ATM:DSD_AGR@DF_OUTLOOK_2021_2030(1.0)   \n",
       "11  DATAFLOW  OECD.TAD.ATM:DSD_AGR@DF_OUTLOOK_2021_2030(1.0)   \n",
       "12  DATAFLOW  OECD.TAD.ATM:DSD_AGR@DF_OUTLOOK_2021_2030(1.0)   \n",
       "13  DATAFLOW  OECD.TAD.ATM:DSD_AGR@DF_OUTLOOK_2021_2030(1.0)   \n",
       "14  DATAFLOW  OECD.TAD.ATM:DSD_AGR@DF_OUTLOOK_2021_2030(1.0)   \n",
       "15  DATAFLOW  OECD.TAD.ATM:DSD_AGR@DF_OUTLOOK_2021_2030(1.0)   \n",
       "16  DATAFLOW  OECD.TAD.ATM:DSD_AGR@DF_OUTLOOK_2021_2030(1.0)   \n",
       "17  DATAFLOW  OECD.TAD.ATM:DSD_AGR@DF_OUTLOOK_2021_2030(1.0)   \n",
       "18  DATAFLOW  OECD.TAD.ATM:DSD_AGR@DF_OUTLOOK_2021_2030(1.0)   \n",
       "19  DATAFLOW  OECD.TAD.ATM:DSD_AGR@DF_OUTLOOK_2021_2030(1.0)   \n",
       "\n",
       "                             STRUCTURE_NAME ACTION REF_AREA  \\\n",
       "0   OECD-FAO Agricultural Outlook 2021-2030      I      IND   \n",
       "1   OECD-FAO Agricultural Outlook 2021-2030      I      TUR   \n",
       "2   OECD-FAO Agricultural Outlook 2021-2030      I      IDN   \n",
       "3   OECD-FAO Agricultural Outlook 2021-2030      I      IND   \n",
       "4   OECD-FAO Agricultural Outlook 2021-2030      I      CHN   \n",
       "5   OECD-FAO Agricultural Outlook 2021-2030      I      PAK   \n",
       "6   OECD-FAO Agricultural Outlook 2021-2030      I      PAK   \n",
       "7   OECD-FAO Agricultural Outlook 2021-2030      I      JPN   \n",
       "8   OECD-FAO Agricultural Outlook 2021-2030      I     OECD   \n",
       "9   OECD-FAO Agricultural Outlook 2021-2030      I      TUR   \n",
       "10  OECD-FAO Agricultural Outlook 2021-2030      I      MYS   \n",
       "11  OECD-FAO Agricultural Outlook 2021-2030      I      KOR   \n",
       "12  OECD-FAO Agricultural Outlook 2021-2030      I      KOR   \n",
       "13  OECD-FAO Agricultural Outlook 2021-2030      I        S   \n",
       "14  OECD-FAO Agricultural Outlook 2021-2030      I      CHN   \n",
       "15  OECD-FAO Agricultural Outlook 2021-2030      I      PAK   \n",
       "16  OECD-FAO Agricultural Outlook 2021-2030      I      JPN   \n",
       "17  OECD-FAO Agricultural Outlook 2021-2030      I      TUR   \n",
       "18  OECD-FAO Agricultural Outlook 2021-2030      I      THA   \n",
       "19  OECD-FAO Agricultural Outlook 2021-2030      I      IRN   \n",
       "\n",
       "                  Reference area FREQ Frequency of observation  COMMODITY  \\\n",
       "0                          India    A                   Annual  CPC_EX_PK   \n",
       "1                        Türkiye    A                   Annual  CPC_EX_PT   \n",
       "2                      Indonesia    A                   Annual  CPC_EX_SH   \n",
       "3                          India    A                   Annual  CPC_EX_PK   \n",
       "4   China (People’s Republic of)    A                   Annual  CPC_EX_SH   \n",
       "5                       Pakistan    A                   Annual  CPC_EX_BV   \n",
       "6                       Pakistan    A                   Annual  CPC_EX_PT   \n",
       "7                          Japan    A                   Annual  CPC_EX_BV   \n",
       "8                           OECD    A                   Annual  CPC_EX_PT   \n",
       "9                        Türkiye    A                   Annual  CPC_EX_BV   \n",
       "10                      Malaysia    A                   Annual  CPC_EX_SH   \n",
       "11                         Korea    A                   Annual  CPC_EX_SH   \n",
       "12                         Korea    A                   Annual  CPC_EX_BV   \n",
       "13                          Asia    A                   Annual  CPC_EX_SH   \n",
       "14  China (People’s Republic of)    A                   Annual  CPC_EX_PK   \n",
       "15                      Pakistan    A                   Annual  CPC_EX_BV   \n",
       "16                         Japan    A                   Annual  CPC_EX_PK   \n",
       "17                       Türkiye    A                   Annual  CPC_EX_PK   \n",
       "18                      Thailand    A                   Annual  CPC_EX_PK   \n",
       "19                          Iran    A                   Annual  CPC_EX_PT   \n",
       "\n",
       "        Commodity  ...     OBS_VALUE Observation value OBS_STATUS  \\\n",
       "0         Pigmeat  ...    382.140698               NaN          A   \n",
       "1    Poultry meat  ...   2031.219856               NaN          A   \n",
       "2       Sheepmeat  ...      0.232868               NaN          A   \n",
       "3         Pigmeat  ...    364.275583               NaN          A   \n",
       "4       Sheepmeat  ...    319.134483               NaN          A   \n",
       "5   Beef and veal  ...     48.172533               NaN          A   \n",
       "6    Poultry meat  ...   2272.414897               NaN          A   \n",
       "7   Beef and veal  ...      6.000930               NaN          A   \n",
       "8    Poultry meat  ...   6697.026145               NaN          A   \n",
       "9   Beef and veal  ...   1052.775310               NaN          A   \n",
       "10      Sheepmeat  ...     33.830338               NaN          A   \n",
       "11      Sheepmeat  ...      4.201719               NaN          A   \n",
       "12  Beef and veal  ...    726.536144               NaN          A   \n",
       "13      Sheepmeat  ...  10811.497355               NaN          A   \n",
       "14        Pigmeat  ...  44502.374590               NaN          A   \n",
       "15  Beef and veal  ...     80.326934               NaN          A   \n",
       "16        Pigmeat  ...   1250.053853               NaN          A   \n",
       "17        Pigmeat  ...     18.623008               NaN          A   \n",
       "18        Pigmeat  ...    917.607401               NaN          A   \n",
       "19   Poultry meat  ...     18.143213               NaN          A   \n",
       "\n",
       "   Observation status UNIT_MULT Unit multiplier  DECIMALS  Decimals  \\\n",
       "0        Normal value  3.130361       Thousands  2.087570       Two   \n",
       "1        Normal value  2.888025       Thousands  1.833157       Two   \n",
       "2        Normal value  2.842481       Thousands  1.891426       Two   \n",
       "3        Normal value  2.925527       Thousands  2.010140       Two   \n",
       "4        Normal value  2.996662       Thousands  1.914077       Two   \n",
       "5        Normal value  3.056963       Thousands       NaN       Two   \n",
       "6        Normal value  3.055426       Thousands  1.842999       Two   \n",
       "7        Normal value  3.047550       Thousands  2.017414       Two   \n",
       "8        Normal value  3.089724       Thousands  1.937717       Two   \n",
       "9        Normal value  2.962352       Thousands  1.825278       Two   \n",
       "10       Normal value  3.109740       Thousands  1.924426       Two   \n",
       "11       Normal value  2.948251       Thousands  1.997483       Two   \n",
       "12       Normal value  3.043189       Thousands  1.867275       Two   \n",
       "13       Normal value  3.131213       Thousands       NaN       Two   \n",
       "14       Normal value  3.045990       Thousands       NaN       Two   \n",
       "15       Normal value  2.944585       Thousands  1.854422       Two   \n",
       "16       Normal value  2.868320       Thousands  1.838972       Two   \n",
       "17       Normal value  2.957624       Thousands  1.861414       Two   \n",
       "18       Normal value  3.018042       Thousands  1.995157       Two   \n",
       "19       Normal value  2.947416       Thousands  1.921970       Two   \n",
       "\n",
       "    CONVENTION    Agricultural convention  \n",
       "0          CWE  Carcass weight equivalent  \n",
       "1         RTOC              Ready to cook  \n",
       "2          CWE  Carcass weight equivalent  \n",
       "3          CWE  Carcass weight equivalent  \n",
       "4          CWE  Carcass weight equivalent  \n",
       "5          CWE  Carcass weight equivalent  \n",
       "6         RTOC              Ready to cook  \n",
       "7          CWE  Carcass weight equivalent  \n",
       "8         RTOC              Ready to cook  \n",
       "9          CWE  Carcass weight equivalent  \n",
       "10         CWE  Carcass weight equivalent  \n",
       "11         CWE  Carcass weight equivalent  \n",
       "12         CWE  Carcass weight equivalent  \n",
       "13         CWE  Carcass weight equivalent  \n",
       "14         CWE  Carcass weight equivalent  \n",
       "15         CWE  Carcass weight equivalent  \n",
       "16         CWE  Carcass weight equivalent  \n",
       "17         CWE  Carcass weight equivalent  \n",
       "18         CWE  Carcass weight equivalent  \n",
       "19        RTOC              Ready to cook  \n",
       "\n",
       "[20 rows x 28 columns]"
      ]
     },
     "execution_count": 4,
     "metadata": {},
     "output_type": "execute_result"
    }
   ],
   "source": [
    "### give top 20 rows and columns\n",
    "data.head(20)"
   ]
  },
  {
   "cell_type": "markdown",
   "id": "fe607f50-a451-434c-82c9-871e281000f7",
   "metadata": {},
   "source": [
    "# 28 columns in data for accessing every column i used iloc "
   ]
  },
  {
   "cell_type": "code",
   "execution_count": 6,
   "id": "acaf6b93-891e-4d24-b0ac-62d746f89281",
   "metadata": {},
   "outputs": [
    {
     "data": {
      "text/html": [
       "<div>\n",
       "<style scoped>\n",
       "    .dataframe tbody tr th:only-of-type {\n",
       "        vertical-align: middle;\n",
       "    }\n",
       "\n",
       "    .dataframe tbody tr th {\n",
       "        vertical-align: top;\n",
       "    }\n",
       "\n",
       "    .dataframe thead th {\n",
       "        text-align: right;\n",
       "    }\n",
       "</style>\n",
       "<table border=\"1\" class=\"dataframe\">\n",
       "  <thead>\n",
       "    <tr style=\"text-align: right;\">\n",
       "      <th></th>\n",
       "      <th>STRUCTURE</th>\n",
       "      <th>STRUCTURE_ID</th>\n",
       "      <th>STRUCTURE_NAME</th>\n",
       "      <th>ACTION</th>\n",
       "      <th>REF_AREA</th>\n",
       "      <th>Reference area</th>\n",
       "      <th>FREQ</th>\n",
       "      <th>Frequency of observation</th>\n",
       "      <th>COMMODITY</th>\n",
       "      <th>Commodity</th>\n",
       "      <th>MEASURE</th>\n",
       "    </tr>\n",
       "  </thead>\n",
       "  <tbody>\n",
       "    <tr>\n",
       "      <th>0</th>\n",
       "      <td>DATAFLOW</td>\n",
       "      <td>OECD.TAD.ATM:DSD_AGR@DF_OUTLOOK_2021_2030(1.0)</td>\n",
       "      <td>OECD-FAO Agricultural Outlook 2021-2030</td>\n",
       "      <td>I</td>\n",
       "      <td>IND</td>\n",
       "      <td>India</td>\n",
       "      <td>A</td>\n",
       "      <td>Annual</td>\n",
       "      <td>CPC_EX_PK</td>\n",
       "      <td>Pigmeat</td>\n",
       "      <td>QC</td>\n",
       "    </tr>\n",
       "    <tr>\n",
       "      <th>1</th>\n",
       "      <td>DATAFLOW</td>\n",
       "      <td>OECD.TAD.ATM:DSD_AGR@DF_OUTLOOK_2021_2030(1.0)</td>\n",
       "      <td>OECD-FAO Agricultural Outlook 2021-2030</td>\n",
       "      <td>I</td>\n",
       "      <td>TUR</td>\n",
       "      <td>Türkiye</td>\n",
       "      <td>A</td>\n",
       "      <td>Annual</td>\n",
       "      <td>CPC_EX_PT</td>\n",
       "      <td>Poultry meat</td>\n",
       "      <td>QP</td>\n",
       "    </tr>\n",
       "    <tr>\n",
       "      <th>2</th>\n",
       "      <td>DATAFLOW</td>\n",
       "      <td>OECD.TAD.ATM:DSD_AGR@DF_OUTLOOK_2021_2030(1.0)</td>\n",
       "      <td>OECD-FAO Agricultural Outlook 2021-2030</td>\n",
       "      <td>I</td>\n",
       "      <td>IDN</td>\n",
       "      <td>Indonesia</td>\n",
       "      <td>A</td>\n",
       "      <td>Annual</td>\n",
       "      <td>CPC_EX_SH</td>\n",
       "      <td>Sheepmeat</td>\n",
       "      <td>EX</td>\n",
       "    </tr>\n",
       "    <tr>\n",
       "      <th>3</th>\n",
       "      <td>DATAFLOW</td>\n",
       "      <td>OECD.TAD.ATM:DSD_AGR@DF_OUTLOOK_2021_2030(1.0)</td>\n",
       "      <td>OECD-FAO Agricultural Outlook 2021-2030</td>\n",
       "      <td>I</td>\n",
       "      <td>IND</td>\n",
       "      <td>India</td>\n",
       "      <td>A</td>\n",
       "      <td>Annual</td>\n",
       "      <td>CPC_EX_PK</td>\n",
       "      <td>Pigmeat</td>\n",
       "      <td>QP</td>\n",
       "    </tr>\n",
       "    <tr>\n",
       "      <th>4</th>\n",
       "      <td>DATAFLOW</td>\n",
       "      <td>OECD.TAD.ATM:DSD_AGR@DF_OUTLOOK_2021_2030(1.0)</td>\n",
       "      <td>OECD-FAO Agricultural Outlook 2021-2030</td>\n",
       "      <td>I</td>\n",
       "      <td>CHN</td>\n",
       "      <td>China (People’s Republic of)</td>\n",
       "      <td>A</td>\n",
       "      <td>Annual</td>\n",
       "      <td>CPC_EX_SH</td>\n",
       "      <td>Sheepmeat</td>\n",
       "      <td>IM</td>\n",
       "    </tr>\n",
       "    <tr>\n",
       "      <th>5</th>\n",
       "      <td>DATAFLOW</td>\n",
       "      <td>OECD.TAD.ATM:DSD_AGR@DF_OUTLOOK_2021_2030(1.0)</td>\n",
       "      <td>OECD-FAO Agricultural Outlook 2021-2030</td>\n",
       "      <td>I</td>\n",
       "      <td>PAK</td>\n",
       "      <td>Pakistan</td>\n",
       "      <td>A</td>\n",
       "      <td>Annual</td>\n",
       "      <td>CPC_EX_BV</td>\n",
       "      <td>Beef and veal</td>\n",
       "      <td>EX</td>\n",
       "    </tr>\n",
       "    <tr>\n",
       "      <th>6</th>\n",
       "      <td>DATAFLOW</td>\n",
       "      <td>OECD.TAD.ATM:DSD_AGR@DF_OUTLOOK_2021_2030(1.0)</td>\n",
       "      <td>OECD-FAO Agricultural Outlook 2021-2030</td>\n",
       "      <td>I</td>\n",
       "      <td>PAK</td>\n",
       "      <td>Pakistan</td>\n",
       "      <td>A</td>\n",
       "      <td>Annual</td>\n",
       "      <td>CPC_EX_PT</td>\n",
       "      <td>Poultry meat</td>\n",
       "      <td>QC</td>\n",
       "    </tr>\n",
       "    <tr>\n",
       "      <th>7</th>\n",
       "      <td>DATAFLOW</td>\n",
       "      <td>OECD.TAD.ATM:DSD_AGR@DF_OUTLOOK_2021_2030(1.0)</td>\n",
       "      <td>OECD-FAO Agricultural Outlook 2021-2030</td>\n",
       "      <td>I</td>\n",
       "      <td>JPN</td>\n",
       "      <td>Japan</td>\n",
       "      <td>A</td>\n",
       "      <td>Annual</td>\n",
       "      <td>CPC_EX_BV</td>\n",
       "      <td>Beef and veal</td>\n",
       "      <td>EX</td>\n",
       "    </tr>\n",
       "    <tr>\n",
       "      <th>8</th>\n",
       "      <td>DATAFLOW</td>\n",
       "      <td>OECD.TAD.ATM:DSD_AGR@DF_OUTLOOK_2021_2030(1.0)</td>\n",
       "      <td>OECD-FAO Agricultural Outlook 2021-2030</td>\n",
       "      <td>I</td>\n",
       "      <td>OECD</td>\n",
       "      <td>OECD</td>\n",
       "      <td>A</td>\n",
       "      <td>Annual</td>\n",
       "      <td>CPC_EX_PT</td>\n",
       "      <td>Poultry meat</td>\n",
       "      <td>EX</td>\n",
       "    </tr>\n",
       "    <tr>\n",
       "      <th>9</th>\n",
       "      <td>DATAFLOW</td>\n",
       "      <td>OECD.TAD.ATM:DSD_AGR@DF_OUTLOOK_2021_2030(1.0)</td>\n",
       "      <td>OECD-FAO Agricultural Outlook 2021-2030</td>\n",
       "      <td>I</td>\n",
       "      <td>TUR</td>\n",
       "      <td>Türkiye</td>\n",
       "      <td>A</td>\n",
       "      <td>Annual</td>\n",
       "      <td>CPC_EX_BV</td>\n",
       "      <td>Beef and veal</td>\n",
       "      <td>QP</td>\n",
       "    </tr>\n",
       "    <tr>\n",
       "      <th>10</th>\n",
       "      <td>DATAFLOW</td>\n",
       "      <td>OECD.TAD.ATM:DSD_AGR@DF_OUTLOOK_2021_2030(1.0)</td>\n",
       "      <td>OECD-FAO Agricultural Outlook 2021-2030</td>\n",
       "      <td>I</td>\n",
       "      <td>MYS</td>\n",
       "      <td>Malaysia</td>\n",
       "      <td>A</td>\n",
       "      <td>Annual</td>\n",
       "      <td>CPC_EX_SH</td>\n",
       "      <td>Sheepmeat</td>\n",
       "      <td>IM</td>\n",
       "    </tr>\n",
       "    <tr>\n",
       "      <th>11</th>\n",
       "      <td>DATAFLOW</td>\n",
       "      <td>OECD.TAD.ATM:DSD_AGR@DF_OUTLOOK_2021_2030(1.0)</td>\n",
       "      <td>OECD-FAO Agricultural Outlook 2021-2030</td>\n",
       "      <td>I</td>\n",
       "      <td>KOR</td>\n",
       "      <td>Korea</td>\n",
       "      <td>A</td>\n",
       "      <td>Annual</td>\n",
       "      <td>CPC_EX_SH</td>\n",
       "      <td>Sheepmeat</td>\n",
       "      <td>IM</td>\n",
       "    </tr>\n",
       "    <tr>\n",
       "      <th>12</th>\n",
       "      <td>DATAFLOW</td>\n",
       "      <td>OECD.TAD.ATM:DSD_AGR@DF_OUTLOOK_2021_2030(1.0)</td>\n",
       "      <td>OECD-FAO Agricultural Outlook 2021-2030</td>\n",
       "      <td>I</td>\n",
       "      <td>KOR</td>\n",
       "      <td>Korea</td>\n",
       "      <td>A</td>\n",
       "      <td>Annual</td>\n",
       "      <td>CPC_EX_BV</td>\n",
       "      <td>Beef and veal</td>\n",
       "      <td>QC</td>\n",
       "    </tr>\n",
       "    <tr>\n",
       "      <th>13</th>\n",
       "      <td>DATAFLOW</td>\n",
       "      <td>OECD.TAD.ATM:DSD_AGR@DF_OUTLOOK_2021_2030(1.0)</td>\n",
       "      <td>OECD-FAO Agricultural Outlook 2021-2030</td>\n",
       "      <td>I</td>\n",
       "      <td>S</td>\n",
       "      <td>Asia</td>\n",
       "      <td>A</td>\n",
       "      <td>Annual</td>\n",
       "      <td>CPC_EX_SH</td>\n",
       "      <td>Sheepmeat</td>\n",
       "      <td>QC</td>\n",
       "    </tr>\n",
       "    <tr>\n",
       "      <th>14</th>\n",
       "      <td>DATAFLOW</td>\n",
       "      <td>OECD.TAD.ATM:DSD_AGR@DF_OUTLOOK_2021_2030(1.0)</td>\n",
       "      <td>OECD-FAO Agricultural Outlook 2021-2030</td>\n",
       "      <td>I</td>\n",
       "      <td>CHN</td>\n",
       "      <td>China (People’s Republic of)</td>\n",
       "      <td>A</td>\n",
       "      <td>Annual</td>\n",
       "      <td>CPC_EX_PK</td>\n",
       "      <td>Pigmeat</td>\n",
       "      <td>QC</td>\n",
       "    </tr>\n",
       "    <tr>\n",
       "      <th>15</th>\n",
       "      <td>DATAFLOW</td>\n",
       "      <td>OECD.TAD.ATM:DSD_AGR@DF_OUTLOOK_2021_2030(1.0)</td>\n",
       "      <td>OECD-FAO Agricultural Outlook 2021-2030</td>\n",
       "      <td>I</td>\n",
       "      <td>PAK</td>\n",
       "      <td>Pakistan</td>\n",
       "      <td>A</td>\n",
       "      <td>Annual</td>\n",
       "      <td>CPC_EX_BV</td>\n",
       "      <td>Beef and veal</td>\n",
       "      <td>EX</td>\n",
       "    </tr>\n",
       "    <tr>\n",
       "      <th>16</th>\n",
       "      <td>DATAFLOW</td>\n",
       "      <td>OECD.TAD.ATM:DSD_AGR@DF_OUTLOOK_2021_2030(1.0)</td>\n",
       "      <td>OECD-FAO Agricultural Outlook 2021-2030</td>\n",
       "      <td>I</td>\n",
       "      <td>JPN</td>\n",
       "      <td>Japan</td>\n",
       "      <td>A</td>\n",
       "      <td>Annual</td>\n",
       "      <td>CPC_EX_PK</td>\n",
       "      <td>Pigmeat</td>\n",
       "      <td>QP</td>\n",
       "    </tr>\n",
       "    <tr>\n",
       "      <th>17</th>\n",
       "      <td>DATAFLOW</td>\n",
       "      <td>OECD.TAD.ATM:DSD_AGR@DF_OUTLOOK_2021_2030(1.0)</td>\n",
       "      <td>OECD-FAO Agricultural Outlook 2021-2030</td>\n",
       "      <td>I</td>\n",
       "      <td>TUR</td>\n",
       "      <td>Türkiye</td>\n",
       "      <td>A</td>\n",
       "      <td>Annual</td>\n",
       "      <td>CPC_EX_PK</td>\n",
       "      <td>Pigmeat</td>\n",
       "      <td>EX</td>\n",
       "    </tr>\n",
       "    <tr>\n",
       "      <th>18</th>\n",
       "      <td>DATAFLOW</td>\n",
       "      <td>OECD.TAD.ATM:DSD_AGR@DF_OUTLOOK_2021_2030(1.0)</td>\n",
       "      <td>OECD-FAO Agricultural Outlook 2021-2030</td>\n",
       "      <td>I</td>\n",
       "      <td>THA</td>\n",
       "      <td>Thailand</td>\n",
       "      <td>A</td>\n",
       "      <td>Annual</td>\n",
       "      <td>CPC_EX_PK</td>\n",
       "      <td>Pigmeat</td>\n",
       "      <td>QC</td>\n",
       "    </tr>\n",
       "    <tr>\n",
       "      <th>19</th>\n",
       "      <td>DATAFLOW</td>\n",
       "      <td>OECD.TAD.ATM:DSD_AGR@DF_OUTLOOK_2021_2030(1.0)</td>\n",
       "      <td>OECD-FAO Agricultural Outlook 2021-2030</td>\n",
       "      <td>I</td>\n",
       "      <td>IRN</td>\n",
       "      <td>Iran</td>\n",
       "      <td>A</td>\n",
       "      <td>Annual</td>\n",
       "      <td>CPC_EX_PT</td>\n",
       "      <td>Poultry meat</td>\n",
       "      <td>IM</td>\n",
       "    </tr>\n",
       "  </tbody>\n",
       "</table>\n",
       "</div>"
      ],
      "text/plain": [
       "   STRUCTURE                                    STRUCTURE_ID  \\\n",
       "0   DATAFLOW  OECD.TAD.ATM:DSD_AGR@DF_OUTLOOK_2021_2030(1.0)   \n",
       "1   DATAFLOW  OECD.TAD.ATM:DSD_AGR@DF_OUTLOOK_2021_2030(1.0)   \n",
       "2   DATAFLOW  OECD.TAD.ATM:DSD_AGR@DF_OUTLOOK_2021_2030(1.0)   \n",
       "3   DATAFLOW  OECD.TAD.ATM:DSD_AGR@DF_OUTLOOK_2021_2030(1.0)   \n",
       "4   DATAFLOW  OECD.TAD.ATM:DSD_AGR@DF_OUTLOOK_2021_2030(1.0)   \n",
       "5   DATAFLOW  OECD.TAD.ATM:DSD_AGR@DF_OUTLOOK_2021_2030(1.0)   \n",
       "6   DATAFLOW  OECD.TAD.ATM:DSD_AGR@DF_OUTLOOK_2021_2030(1.0)   \n",
       "7   DATAFLOW  OECD.TAD.ATM:DSD_AGR@DF_OUTLOOK_2021_2030(1.0)   \n",
       "8   DATAFLOW  OECD.TAD.ATM:DSD_AGR@DF_OUTLOOK_2021_2030(1.0)   \n",
       "9   DATAFLOW  OECD.TAD.ATM:DSD_AGR@DF_OUTLOOK_2021_2030(1.0)   \n",
       "10  DATAFLOW  OECD.TAD.ATM:DSD_AGR@DF_OUTLOOK_2021_2030(1.0)   \n",
       "11  DATAFLOW  OECD.TAD.ATM:DSD_AGR@DF_OUTLOOK_2021_2030(1.0)   \n",
       "12  DATAFLOW  OECD.TAD.ATM:DSD_AGR@DF_OUTLOOK_2021_2030(1.0)   \n",
       "13  DATAFLOW  OECD.TAD.ATM:DSD_AGR@DF_OUTLOOK_2021_2030(1.0)   \n",
       "14  DATAFLOW  OECD.TAD.ATM:DSD_AGR@DF_OUTLOOK_2021_2030(1.0)   \n",
       "15  DATAFLOW  OECD.TAD.ATM:DSD_AGR@DF_OUTLOOK_2021_2030(1.0)   \n",
       "16  DATAFLOW  OECD.TAD.ATM:DSD_AGR@DF_OUTLOOK_2021_2030(1.0)   \n",
       "17  DATAFLOW  OECD.TAD.ATM:DSD_AGR@DF_OUTLOOK_2021_2030(1.0)   \n",
       "18  DATAFLOW  OECD.TAD.ATM:DSD_AGR@DF_OUTLOOK_2021_2030(1.0)   \n",
       "19  DATAFLOW  OECD.TAD.ATM:DSD_AGR@DF_OUTLOOK_2021_2030(1.0)   \n",
       "\n",
       "                             STRUCTURE_NAME ACTION REF_AREA  \\\n",
       "0   OECD-FAO Agricultural Outlook 2021-2030      I      IND   \n",
       "1   OECD-FAO Agricultural Outlook 2021-2030      I      TUR   \n",
       "2   OECD-FAO Agricultural Outlook 2021-2030      I      IDN   \n",
       "3   OECD-FAO Agricultural Outlook 2021-2030      I      IND   \n",
       "4   OECD-FAO Agricultural Outlook 2021-2030      I      CHN   \n",
       "5   OECD-FAO Agricultural Outlook 2021-2030      I      PAK   \n",
       "6   OECD-FAO Agricultural Outlook 2021-2030      I      PAK   \n",
       "7   OECD-FAO Agricultural Outlook 2021-2030      I      JPN   \n",
       "8   OECD-FAO Agricultural Outlook 2021-2030      I     OECD   \n",
       "9   OECD-FAO Agricultural Outlook 2021-2030      I      TUR   \n",
       "10  OECD-FAO Agricultural Outlook 2021-2030      I      MYS   \n",
       "11  OECD-FAO Agricultural Outlook 2021-2030      I      KOR   \n",
       "12  OECD-FAO Agricultural Outlook 2021-2030      I      KOR   \n",
       "13  OECD-FAO Agricultural Outlook 2021-2030      I        S   \n",
       "14  OECD-FAO Agricultural Outlook 2021-2030      I      CHN   \n",
       "15  OECD-FAO Agricultural Outlook 2021-2030      I      PAK   \n",
       "16  OECD-FAO Agricultural Outlook 2021-2030      I      JPN   \n",
       "17  OECD-FAO Agricultural Outlook 2021-2030      I      TUR   \n",
       "18  OECD-FAO Agricultural Outlook 2021-2030      I      THA   \n",
       "19  OECD-FAO Agricultural Outlook 2021-2030      I      IRN   \n",
       "\n",
       "                  Reference area FREQ Frequency of observation  COMMODITY  \\\n",
       "0                          India    A                   Annual  CPC_EX_PK   \n",
       "1                        Türkiye    A                   Annual  CPC_EX_PT   \n",
       "2                      Indonesia    A                   Annual  CPC_EX_SH   \n",
       "3                          India    A                   Annual  CPC_EX_PK   \n",
       "4   China (People’s Republic of)    A                   Annual  CPC_EX_SH   \n",
       "5                       Pakistan    A                   Annual  CPC_EX_BV   \n",
       "6                       Pakistan    A                   Annual  CPC_EX_PT   \n",
       "7                          Japan    A                   Annual  CPC_EX_BV   \n",
       "8                           OECD    A                   Annual  CPC_EX_PT   \n",
       "9                        Türkiye    A                   Annual  CPC_EX_BV   \n",
       "10                      Malaysia    A                   Annual  CPC_EX_SH   \n",
       "11                         Korea    A                   Annual  CPC_EX_SH   \n",
       "12                         Korea    A                   Annual  CPC_EX_BV   \n",
       "13                          Asia    A                   Annual  CPC_EX_SH   \n",
       "14  China (People’s Republic of)    A                   Annual  CPC_EX_PK   \n",
       "15                      Pakistan    A                   Annual  CPC_EX_BV   \n",
       "16                         Japan    A                   Annual  CPC_EX_PK   \n",
       "17                       Türkiye    A                   Annual  CPC_EX_PK   \n",
       "18                      Thailand    A                   Annual  CPC_EX_PK   \n",
       "19                          Iran    A                   Annual  CPC_EX_PT   \n",
       "\n",
       "        Commodity MEASURE  \n",
       "0         Pigmeat      QC  \n",
       "1    Poultry meat      QP  \n",
       "2       Sheepmeat      EX  \n",
       "3         Pigmeat      QP  \n",
       "4       Sheepmeat      IM  \n",
       "5   Beef and veal      EX  \n",
       "6    Poultry meat      QC  \n",
       "7   Beef and veal      EX  \n",
       "8    Poultry meat      EX  \n",
       "9   Beef and veal      QP  \n",
       "10      Sheepmeat      IM  \n",
       "11      Sheepmeat      IM  \n",
       "12  Beef and veal      QC  \n",
       "13      Sheepmeat      QC  \n",
       "14        Pigmeat      QC  \n",
       "15  Beef and veal      EX  \n",
       "16        Pigmeat      QP  \n",
       "17        Pigmeat      EX  \n",
       "18        Pigmeat      QC  \n",
       "19   Poultry meat      IM  "
      ]
     },
     "execution_count": 6,
     "metadata": {},
     "output_type": "execute_result"
    }
   ],
   "source": [
    "top10col=data.iloc[0:20,0:11]\n",
    "top10col"
   ]
  },
  {
   "cell_type": "code",
   "execution_count": 7,
   "id": "4851644f-dfe7-4ba6-94c9-b30bf23f1359",
   "metadata": {},
   "outputs": [
    {
     "data": {
      "text/html": [
       "<div>\n",
       "<style scoped>\n",
       "    .dataframe tbody tr th:only-of-type {\n",
       "        vertical-align: middle;\n",
       "    }\n",
       "\n",
       "    .dataframe tbody tr th {\n",
       "        vertical-align: top;\n",
       "    }\n",
       "\n",
       "    .dataframe thead th {\n",
       "        text-align: right;\n",
       "    }\n",
       "</style>\n",
       "<table border=\"1\" class=\"dataframe\">\n",
       "  <thead>\n",
       "    <tr style=\"text-align: right;\">\n",
       "      <th></th>\n",
       "      <th>Measure</th>\n",
       "      <th>UNIT_MEASURE</th>\n",
       "      <th>Unit of measure</th>\n",
       "      <th>VERSION_ID</th>\n",
       "      <th>Version ID</th>\n",
       "      <th>TIME_PERIOD</th>\n",
       "      <th>Time period</th>\n",
       "      <th>OBS_VALUE</th>\n",
       "    </tr>\n",
       "  </thead>\n",
       "  <tbody>\n",
       "    <tr>\n",
       "      <th>0</th>\n",
       "      <td>Consumption</td>\n",
       "      <td>T</td>\n",
       "      <td>Tonnes</td>\n",
       "      <td>AO_2021_2030</td>\n",
       "      <td>Agricultural Outlook 2021-2030</td>\n",
       "      <td>2016.955515</td>\n",
       "      <td>NaN</td>\n",
       "      <td>382.140698</td>\n",
       "    </tr>\n",
       "    <tr>\n",
       "      <th>1</th>\n",
       "      <td>Production</td>\n",
       "      <td>T</td>\n",
       "      <td>Tonnes</td>\n",
       "      <td>AO_2021_2030</td>\n",
       "      <td>Agricultural Outlook 2021-2030</td>\n",
       "      <td>2014.881298</td>\n",
       "      <td>NaN</td>\n",
       "      <td>2031.219856</td>\n",
       "    </tr>\n",
       "    <tr>\n",
       "      <th>2</th>\n",
       "      <td>Exports</td>\n",
       "      <td>T</td>\n",
       "      <td>Tonnes</td>\n",
       "      <td>AO_2021_2030</td>\n",
       "      <td>Agricultural Outlook 2021-2030</td>\n",
       "      <td>2009.907791</td>\n",
       "      <td>NaN</td>\n",
       "      <td>0.232868</td>\n",
       "    </tr>\n",
       "    <tr>\n",
       "      <th>3</th>\n",
       "      <td>Production</td>\n",
       "      <td>T</td>\n",
       "      <td>Tonnes</td>\n",
       "      <td>AO_2021_2030</td>\n",
       "      <td>Agricultural Outlook 2021-2030</td>\n",
       "      <td>2011.145152</td>\n",
       "      <td>NaN</td>\n",
       "      <td>364.275583</td>\n",
       "    </tr>\n",
       "    <tr>\n",
       "      <th>4</th>\n",
       "      <td>Imports</td>\n",
       "      <td>T</td>\n",
       "      <td>Tonnes</td>\n",
       "      <td>AO_2021_2030</td>\n",
       "      <td>Agricultural Outlook 2021-2030</td>\n",
       "      <td>2018.164958</td>\n",
       "      <td>NaN</td>\n",
       "      <td>319.134483</td>\n",
       "    </tr>\n",
       "    <tr>\n",
       "      <th>5</th>\n",
       "      <td>Exports</td>\n",
       "      <td>T</td>\n",
       "      <td>Tonnes</td>\n",
       "      <td>AO_2021_2030</td>\n",
       "      <td>Agricultural Outlook 2021-2030</td>\n",
       "      <td>2013.955052</td>\n",
       "      <td>NaN</td>\n",
       "      <td>48.172533</td>\n",
       "    </tr>\n",
       "    <tr>\n",
       "      <th>6</th>\n",
       "      <td>Consumption</td>\n",
       "      <td>T</td>\n",
       "      <td>Tonnes</td>\n",
       "      <td>AO_2021_2030</td>\n",
       "      <td>Agricultural Outlook 2021-2030</td>\n",
       "      <td>2030.008528</td>\n",
       "      <td>NaN</td>\n",
       "      <td>2272.414897</td>\n",
       "    </tr>\n",
       "    <tr>\n",
       "      <th>7</th>\n",
       "      <td>Exports</td>\n",
       "      <td>T</td>\n",
       "      <td>Tonnes</td>\n",
       "      <td>AO_2021_2030</td>\n",
       "      <td>Agricultural Outlook 2021-2030</td>\n",
       "      <td>2019.177728</td>\n",
       "      <td>NaN</td>\n",
       "      <td>6.000930</td>\n",
       "    </tr>\n",
       "    <tr>\n",
       "      <th>8</th>\n",
       "      <td>Exports</td>\n",
       "      <td>T</td>\n",
       "      <td>Tonnes</td>\n",
       "      <td>AO_2021_2030</td>\n",
       "      <td>Agricultural Outlook 2021-2030</td>\n",
       "      <td>2013.082192</td>\n",
       "      <td>NaN</td>\n",
       "      <td>6697.026145</td>\n",
       "    </tr>\n",
       "    <tr>\n",
       "      <th>9</th>\n",
       "      <td>Production</td>\n",
       "      <td>T</td>\n",
       "      <td>Tonnes</td>\n",
       "      <td>AO_2021_2030</td>\n",
       "      <td>Agricultural Outlook 2021-2030</td>\n",
       "      <td>2018.831382</td>\n",
       "      <td>NaN</td>\n",
       "      <td>1052.775310</td>\n",
       "    </tr>\n",
       "    <tr>\n",
       "      <th>10</th>\n",
       "      <td>Imports</td>\n",
       "      <td>T</td>\n",
       "      <td>Tonnes</td>\n",
       "      <td>AO_2021_2030</td>\n",
       "      <td>Agricultural Outlook 2021-2030</td>\n",
       "      <td>2019.132332</td>\n",
       "      <td>NaN</td>\n",
       "      <td>33.830338</td>\n",
       "    </tr>\n",
       "    <tr>\n",
       "      <th>11</th>\n",
       "      <td>Imports</td>\n",
       "      <td>T</td>\n",
       "      <td>Tonnes</td>\n",
       "      <td>AO_2021_2030</td>\n",
       "      <td>Agricultural Outlook 2021-2030</td>\n",
       "      <td>2010.114123</td>\n",
       "      <td>NaN</td>\n",
       "      <td>4.201719</td>\n",
       "    </tr>\n",
       "    <tr>\n",
       "      <th>12</th>\n",
       "      <td>Consumption</td>\n",
       "      <td>T</td>\n",
       "      <td>Tonnes</td>\n",
       "      <td>AO_2021_2030</td>\n",
       "      <td>Agricultural Outlook 2021-2030</td>\n",
       "      <td>2015.148374</td>\n",
       "      <td>NaN</td>\n",
       "      <td>726.536144</td>\n",
       "    </tr>\n",
       "    <tr>\n",
       "      <th>13</th>\n",
       "      <td>Consumption</td>\n",
       "      <td>T</td>\n",
       "      <td>Tonnes</td>\n",
       "      <td>AO_2021_2030</td>\n",
       "      <td>Agricultural Outlook 2021-2030</td>\n",
       "      <td>2023.038843</td>\n",
       "      <td>NaN</td>\n",
       "      <td>10811.497355</td>\n",
       "    </tr>\n",
       "    <tr>\n",
       "      <th>14</th>\n",
       "      <td>Consumption</td>\n",
       "      <td>T</td>\n",
       "      <td>Tonnes</td>\n",
       "      <td>AO_2021_2030</td>\n",
       "      <td>Agricultural Outlook 2021-2030</td>\n",
       "      <td>2019.100843</td>\n",
       "      <td>NaN</td>\n",
       "      <td>44502.374590</td>\n",
       "    </tr>\n",
       "    <tr>\n",
       "      <th>15</th>\n",
       "      <td>Exports</td>\n",
       "      <td>T</td>\n",
       "      <td>Tonnes</td>\n",
       "      <td>AO_2021_2030</td>\n",
       "      <td>Agricultural Outlook 2021-2030</td>\n",
       "      <td>2020.108656</td>\n",
       "      <td>NaN</td>\n",
       "      <td>80.326934</td>\n",
       "    </tr>\n",
       "    <tr>\n",
       "      <th>16</th>\n",
       "      <td>Production</td>\n",
       "      <td>T</td>\n",
       "      <td>Tonnes</td>\n",
       "      <td>AO_2021_2030</td>\n",
       "      <td>Agricultural Outlook 2021-2030</td>\n",
       "      <td>2029.075608</td>\n",
       "      <td>NaN</td>\n",
       "      <td>1250.053853</td>\n",
       "    </tr>\n",
       "    <tr>\n",
       "      <th>17</th>\n",
       "      <td>Exports</td>\n",
       "      <td>T</td>\n",
       "      <td>Tonnes</td>\n",
       "      <td>AO_2021_2030</td>\n",
       "      <td>Agricultural Outlook 2021-2030</td>\n",
       "      <td>2022.032861</td>\n",
       "      <td>NaN</td>\n",
       "      <td>18.623008</td>\n",
       "    </tr>\n",
       "    <tr>\n",
       "      <th>18</th>\n",
       "      <td>Consumption</td>\n",
       "      <td>T</td>\n",
       "      <td>Tonnes</td>\n",
       "      <td>AO_2021_2030</td>\n",
       "      <td>Agricultural Outlook 2021-2030</td>\n",
       "      <td>2015.968041</td>\n",
       "      <td>NaN</td>\n",
       "      <td>917.607401</td>\n",
       "    </tr>\n",
       "    <tr>\n",
       "      <th>19</th>\n",
       "      <td>Imports</td>\n",
       "      <td>T</td>\n",
       "      <td>Tonnes</td>\n",
       "      <td>AO_2021_2030</td>\n",
       "      <td>Agricultural Outlook 2021-2030</td>\n",
       "      <td>2013.017448</td>\n",
       "      <td>NaN</td>\n",
       "      <td>18.143213</td>\n",
       "    </tr>\n",
       "  </tbody>\n",
       "</table>\n",
       "</div>"
      ],
      "text/plain": [
       "        Measure UNIT_MEASURE Unit of measure    VERSION_ID  \\\n",
       "0   Consumption            T          Tonnes  AO_2021_2030   \n",
       "1    Production            T          Tonnes  AO_2021_2030   \n",
       "2       Exports            T          Tonnes  AO_2021_2030   \n",
       "3    Production            T          Tonnes  AO_2021_2030   \n",
       "4       Imports            T          Tonnes  AO_2021_2030   \n",
       "5       Exports            T          Tonnes  AO_2021_2030   \n",
       "6   Consumption            T          Tonnes  AO_2021_2030   \n",
       "7       Exports            T          Tonnes  AO_2021_2030   \n",
       "8       Exports            T          Tonnes  AO_2021_2030   \n",
       "9    Production            T          Tonnes  AO_2021_2030   \n",
       "10      Imports            T          Tonnes  AO_2021_2030   \n",
       "11      Imports            T          Tonnes  AO_2021_2030   \n",
       "12  Consumption            T          Tonnes  AO_2021_2030   \n",
       "13  Consumption            T          Tonnes  AO_2021_2030   \n",
       "14  Consumption            T          Tonnes  AO_2021_2030   \n",
       "15      Exports            T          Tonnes  AO_2021_2030   \n",
       "16   Production            T          Tonnes  AO_2021_2030   \n",
       "17      Exports            T          Tonnes  AO_2021_2030   \n",
       "18  Consumption            T          Tonnes  AO_2021_2030   \n",
       "19      Imports            T          Tonnes  AO_2021_2030   \n",
       "\n",
       "                        Version ID  TIME_PERIOD  Time period     OBS_VALUE  \n",
       "0   Agricultural Outlook 2021-2030  2016.955515          NaN    382.140698  \n",
       "1   Agricultural Outlook 2021-2030  2014.881298          NaN   2031.219856  \n",
       "2   Agricultural Outlook 2021-2030  2009.907791          NaN      0.232868  \n",
       "3   Agricultural Outlook 2021-2030  2011.145152          NaN    364.275583  \n",
       "4   Agricultural Outlook 2021-2030  2018.164958          NaN    319.134483  \n",
       "5   Agricultural Outlook 2021-2030  2013.955052          NaN     48.172533  \n",
       "6   Agricultural Outlook 2021-2030  2030.008528          NaN   2272.414897  \n",
       "7   Agricultural Outlook 2021-2030  2019.177728          NaN      6.000930  \n",
       "8   Agricultural Outlook 2021-2030  2013.082192          NaN   6697.026145  \n",
       "9   Agricultural Outlook 2021-2030  2018.831382          NaN   1052.775310  \n",
       "10  Agricultural Outlook 2021-2030  2019.132332          NaN     33.830338  \n",
       "11  Agricultural Outlook 2021-2030  2010.114123          NaN      4.201719  \n",
       "12  Agricultural Outlook 2021-2030  2015.148374          NaN    726.536144  \n",
       "13  Agricultural Outlook 2021-2030  2023.038843          NaN  10811.497355  \n",
       "14  Agricultural Outlook 2021-2030  2019.100843          NaN  44502.374590  \n",
       "15  Agricultural Outlook 2021-2030  2020.108656          NaN     80.326934  \n",
       "16  Agricultural Outlook 2021-2030  2029.075608          NaN   1250.053853  \n",
       "17  Agricultural Outlook 2021-2030  2022.032861          NaN     18.623008  \n",
       "18  Agricultural Outlook 2021-2030  2015.968041          NaN    917.607401  \n",
       "19  Agricultural Outlook 2021-2030  2013.017448          NaN     18.143213  "
      ]
     },
     "execution_count": 7,
     "metadata": {},
     "output_type": "execute_result"
    }
   ],
   "source": [
    "col_11to20=data.iloc[0:20,11:19]\n",
    "col_11to20.head(20)\n",
    "\n"
   ]
  },
  {
   "cell_type": "markdown",
   "id": "2ad71c29-258b-4609-a457-4054fcaccadc",
   "metadata": {},
   "source": [
    "###skim is skimpy methode which give deep information about the data "
   ]
  },
  {
   "cell_type": "code",
   "execution_count": 9,
   "id": "31390a27-357d-4e5b-8870-0af24ebff48a",
   "metadata": {},
   "outputs": [
    {
     "data": {
      "text/html": [
       "<pre style=\"white-space:pre;overflow-x:auto;line-height:normal;font-family:Menlo,'DejaVu Sans Mono',consolas,'Courier New',monospace\">╭──────────────────────────────────────────────── skimpy summary ─────────────────────────────────────────────────╮\n",
       "│ <span style=\"font-style: italic\">         Data Summary         </span> <span style=\"font-style: italic\">      Data Types       </span>                                                          │\n",
       "│ ┏━━━━━━━━━━━━━━━━━━━┳━━━━━━━━┓ ┏━━━━━━━━━━━━━┳━━━━━━━┓                                                          │\n",
       "│ ┃<span style=\"color: #008080; text-decoration-color: #008080; font-weight: bold\"> Dataframe         </span>┃<span style=\"color: #008080; text-decoration-color: #008080; font-weight: bold\"> Values </span>┃ ┃<span style=\"color: #008080; text-decoration-color: #008080; font-weight: bold\"> Column Type </span>┃<span style=\"color: #008080; text-decoration-color: #008080; font-weight: bold\"> Count </span>┃                                                          │\n",
       "│ ┡━━━━━━━━━━━━━━━━━━━╇━━━━━━━━┩ ┡━━━━━━━━━━━━━╇━━━━━━━┩                                                          │\n",
       "│ │ Number of rows    │ 6720   │ │ string      │ 22    │                                                          │\n",
       "│ │ Number of columns │ 28     │ │ float64     │ 6     │                                                          │\n",
       "│ └───────────────────┴────────┘ └─────────────┴───────┘                                                          │\n",
       "│ <span style=\"font-style: italic\">                                                   All null                                                   </span>  │\n",
       "│ ┏━━━━━━━━━━━━━━━━━━━━━━━━━━━━━━━━━━━━━━━━━━━━━━━━━━━━━━━━━━━━━━━━━┳━━━━━━━━━━━━━━━━━━━━━┳━━━━━━━━━━━━━━━━━━━━┓  │\n",
       "│ ┃<span style=\"font-weight: bold\"> column                                                          </span>┃<span style=\"font-weight: bold\"> NA                  </span>┃<span style=\"font-weight: bold\"> NA %               </span>┃  │\n",
       "│ ┡━━━━━━━━━━━━━━━━━━━━━━━━━━━━━━━━━━━━━━━━━━━━━━━━━━━━━━━━━━━━━━━━━╇━━━━━━━━━━━━━━━━━━━━━╇━━━━━━━━━━━━━━━━━━━━┩  │\n",
       "│ │ <span style=\"color: #af87ff; text-decoration-color: #af87ff\">Time period                                                    </span> │ <span style=\"color: #008080; text-decoration-color: #008080\">               6720</span> │ <span style=\"color: #008080; text-decoration-color: #008080\">               100</span> │  │\n",
       "│ │ <span style=\"color: #af87ff; text-decoration-color: #af87ff\">Observation value                                              </span> │ <span style=\"color: #008080; text-decoration-color: #008080\">               6720</span> │ <span style=\"color: #008080; text-decoration-color: #008080\">               100</span> │  │\n",
       "│ └─────────────────────────────────────────────────────────────────┴─────────────────────┴────────────────────┘  │\n",
       "│ <span style=\"font-style: italic\">                                                    number                                                    </span>  │\n",
       "│ ┏━━━━━━━━━━━━━━━┳━━━━━━┳━━━━━━━┳━━━━━━━━━┳━━━━━━━━━━━┳━━━━━━━━━━┳━━━━━━━━┳━━━━━━━━┳━━━━━━━━┳━━━━━━━━┳━━━━━━━━┓  │\n",
       "│ ┃<span style=\"font-weight: bold\"> column        </span>┃<span style=\"font-weight: bold\"> NA   </span>┃<span style=\"font-weight: bold\"> NA %  </span>┃<span style=\"font-weight: bold\"> mean    </span>┃<span style=\"font-weight: bold\"> sd        </span>┃<span style=\"font-weight: bold\"> p0       </span>┃<span style=\"font-weight: bold\"> p25    </span>┃<span style=\"font-weight: bold\"> p50    </span>┃<span style=\"font-weight: bold\"> p75    </span>┃<span style=\"font-weight: bold\"> p100   </span>┃<span style=\"font-weight: bold\"> hist   </span>┃  │\n",
       "│ ┡━━━━━━━━━━━━━━━╇━━━━━━╇━━━━━━━╇━━━━━━━━━╇━━━━━━━━━━━╇━━━━━━━━━━╇━━━━━━━━╇━━━━━━━━╇━━━━━━━━╇━━━━━━━━╇━━━━━━━━┩  │\n",
       "│ │ <span style=\"color: #af87ff; text-decoration-color: #af87ff\">TIME_PERIOD  </span> │ <span style=\"color: #008080; text-decoration-color: #008080\"> 336</span> │ <span style=\"color: #008080; text-decoration-color: #008080\">    5</span> │ <span style=\"color: #008080; text-decoration-color: #008080\">   2020</span> │ <span style=\"color: #008080; text-decoration-color: #008080\">    6.058</span> │ <span style=\"color: #008080; text-decoration-color: #008080\">    2010</span> │ <span style=\"color: #008080; text-decoration-color: #008080\">  2015</span> │ <span style=\"color: #008080; text-decoration-color: #008080\">  2020</span> │ <span style=\"color: #008080; text-decoration-color: #008080\">  2025</span> │ <span style=\"color: #008080; text-decoration-color: #008080\">  2030</span> │ <span style=\"color: #008000; text-decoration-color: #008000\">▇▆▇▇▆▇</span> │  │\n",
       "│ │ <span style=\"color: #af87ff; text-decoration-color: #af87ff\">OBS_VALUE    </span> │ <span style=\"color: #008080; text-decoration-color: #008080\"> 336</span> │ <span style=\"color: #008080; text-decoration-color: #008080\">    5</span> │ <span style=\"color: #008080; text-decoration-color: #008080\">   3591</span> │ <span style=\"color: #008080; text-decoration-color: #008080\">    10940</span> │ <span style=\"color: #008080; text-decoration-color: #008080\"> -0.3458</span> │ <span style=\"color: #008080; text-decoration-color: #008080\"> 6.835</span> │ <span style=\"color: #008080; text-decoration-color: #008080\">   240</span> │ <span style=\"color: #008080; text-decoration-color: #008080\">  1277</span> │ <span style=\"color: #008080; text-decoration-color: #008080\"> 75520</span> │ <span style=\"color: #008000; text-decoration-color: #008000\">  ▇   </span> │  │\n",
       "│ │ <span style=\"color: #af87ff; text-decoration-color: #af87ff\">UNIT_MULT    </span> │ <span style=\"color: #008080; text-decoration-color: #008080\"> 336</span> │ <span style=\"color: #008080; text-decoration-color: #008080\">    5</span> │ <span style=\"color: #008080; text-decoration-color: #008080\">  2.999</span> │ <span style=\"color: #008080; text-decoration-color: #008080\">  0.09989</span> │ <span style=\"color: #008080; text-decoration-color: #008080\">    2.65</span> │ <span style=\"color: #008080; text-decoration-color: #008080\"> 2.931</span> │ <span style=\"color: #008080; text-decoration-color: #008080\"> 3.001</span> │ <span style=\"color: #008080; text-decoration-color: #008080\"> 3.068</span> │ <span style=\"color: #008080; text-decoration-color: #008080\"> 3.362</span> │ <span style=\"color: #008000; text-decoration-color: #008000\"> ▃▇▇▂ </span> │  │\n",
       "│ │ <span style=\"color: #af87ff; text-decoration-color: #af87ff\">DECIMALS     </span> │ <span style=\"color: #008080; text-decoration-color: #008080\"> 336</span> │ <span style=\"color: #008080; text-decoration-color: #008080\">    5</span> │ <span style=\"color: #008080; text-decoration-color: #008080\">      2</span> │ <span style=\"color: #008080; text-decoration-color: #008080\">  0.09963</span> │ <span style=\"color: #008080; text-decoration-color: #008080\">   1.614</span> │ <span style=\"color: #008080; text-decoration-color: #008080\"> 1.933</span> │ <span style=\"color: #008080; text-decoration-color: #008080\"> 2.001</span> │ <span style=\"color: #008080; text-decoration-color: #008080\"> 2.068</span> │ <span style=\"color: #008080; text-decoration-color: #008080\"> 2.344</span> │ <span style=\"color: #008000; text-decoration-color: #008000\"> ▁▇▇▃ </span> │  │\n",
       "│ └───────────────┴──────┴───────┴─────────┴───────────┴──────────┴────────┴────────┴────────┴────────┴────────┘  │\n",
       "│ <span style=\"font-style: italic\">                                                    string                                                    </span>  │\n",
       "│ ┏━━━━━━━━━━━┳━━━━━━┳━━━━━━┳━━━━━━━━━━━┳━━━━━━━━━━━┳━━━━━━━━━━━┳━━━━━━━━━━━┳━━━━━━━━━━━┳━━━━━━━━━━━┳━━━━━━━━━━┓  │\n",
       "│ ┃<span style=\"font-weight: bold\">           </span>┃<span style=\"font-weight: bold\">      </span>┃<span style=\"font-weight: bold\">      </span>┃<span style=\"font-weight: bold\">           </span>┃<span style=\"font-weight: bold\">           </span>┃<span style=\"font-weight: bold\">           </span>┃<span style=\"font-weight: bold\">           </span>┃<span style=\"font-weight: bold\"> chars per </span>┃<span style=\"font-weight: bold\"> words per </span>┃<span style=\"font-weight: bold\"> total    </span>┃  │\n",
       "│ ┃<span style=\"font-weight: bold\"> column    </span>┃<span style=\"font-weight: bold\"> NA   </span>┃<span style=\"font-weight: bold\"> NA % </span>┃<span style=\"font-weight: bold\"> shortest  </span>┃<span style=\"font-weight: bold\"> longest   </span>┃<span style=\"font-weight: bold\"> min       </span>┃<span style=\"font-weight: bold\"> max       </span>┃<span style=\"font-weight: bold\"> row       </span>┃<span style=\"font-weight: bold\"> row       </span>┃<span style=\"font-weight: bold\"> words    </span>┃  │\n",
       "│ ┡━━━━━━━━━━━╇━━━━━━╇━━━━━━╇━━━━━━━━━━━╇━━━━━━━━━━━╇━━━━━━━━━━━╇━━━━━━━━━━━╇━━━━━━━━━━━╇━━━━━━━━━━━╇━━━━━━━━━━┩  │\n",
       "│ │ <span style=\"color: #af87ff; text-decoration-color: #af87ff\">STRUCTURE</span> │ <span style=\"color: #008080; text-decoration-color: #008080\">   0</span> │ <span style=\"color: #008080; text-decoration-color: #008080\">   0</span> │ <span style=\"color: #af87ff; text-decoration-color: #af87ff\">DATAFLOW </span> │ <span style=\"color: #af87ff; text-decoration-color: #af87ff\">DATAFLOW </span> │ <span style=\"color: #af87ff; text-decoration-color: #af87ff\">DATAFLOW </span> │ <span style=\"color: #af87ff; text-decoration-color: #af87ff\">DATAFLOW </span> │ <span style=\"color: #008080; text-decoration-color: #008080\">        8</span> │ <span style=\"color: #008080; text-decoration-color: #008080\">        1</span> │ <span style=\"color: #008080; text-decoration-color: #008080\">    6720</span> │  │\n",
       "│ │ <span style=\"color: #af87ff; text-decoration-color: #af87ff\">STRUCTURE</span> │ <span style=\"color: #008080; text-decoration-color: #008080\">   0</span> │ <span style=\"color: #008080; text-decoration-color: #008080\">   0</span> │ <span style=\"color: #af87ff; text-decoration-color: #af87ff\">OECD.TAD.</span> │ <span style=\"color: #af87ff; text-decoration-color: #af87ff\">OECD.TAD.</span> │ <span style=\"color: #af87ff; text-decoration-color: #af87ff\">OECD.TAD.</span> │ <span style=\"color: #af87ff; text-decoration-color: #af87ff\">OECD.TAD.</span> │ <span style=\"color: #008080; text-decoration-color: #008080\">       46</span> │ <span style=\"color: #008080; text-decoration-color: #008080\">        1</span> │ <span style=\"color: #008080; text-decoration-color: #008080\">    6720</span> │  │\n",
       "│ │ <span style=\"color: #af87ff; text-decoration-color: #af87ff\">_ID      </span> │      │      │ <span style=\"color: #af87ff; text-decoration-color: #af87ff\">ATM:DSD_A</span> │ <span style=\"color: #af87ff; text-decoration-color: #af87ff\">ATM:DSD_A</span> │ <span style=\"color: #af87ff; text-decoration-color: #af87ff\">ATM:DSD_A</span> │ <span style=\"color: #af87ff; text-decoration-color: #af87ff\">ATM:DSD_A</span> │           │           │          │  │\n",
       "│ │           │      │      │ <span style=\"color: #af87ff; text-decoration-color: #af87ff\">GR@DF_OUT</span> │ <span style=\"color: #af87ff; text-decoration-color: #af87ff\">GR@DF_OUT</span> │ <span style=\"color: #af87ff; text-decoration-color: #af87ff\">GR@DF_OUT</span> │ <span style=\"color: #af87ff; text-decoration-color: #af87ff\">GR@DF_OUT</span> │           │           │          │  │\n",
       "│ │           │      │      │ <span style=\"color: #af87ff; text-decoration-color: #af87ff\">LOOK_2021</span> │ <span style=\"color: #af87ff; text-decoration-color: #af87ff\">LOOK_2021</span> │ <span style=\"color: #af87ff; text-decoration-color: #af87ff\">LOOK_2021</span> │ <span style=\"color: #af87ff; text-decoration-color: #af87ff\">LOOK_2021</span> │           │           │          │  │\n",
       "│ │           │      │      │ <span style=\"color: #af87ff; text-decoration-color: #af87ff\">_2030(1.0</span> │ <span style=\"color: #af87ff; text-decoration-color: #af87ff\">_2030(1.0</span> │ <span style=\"color: #af87ff; text-decoration-color: #af87ff\">_2030(1.0</span> │ <span style=\"color: #af87ff; text-decoration-color: #af87ff\">_2030(1.0</span> │           │           │          │  │\n",
       "│ │           │      │      │ <span style=\"color: #af87ff; text-decoration-color: #af87ff\">)        </span> │ <span style=\"color: #af87ff; text-decoration-color: #af87ff\">)        </span> │ <span style=\"color: #af87ff; text-decoration-color: #af87ff\">)        </span> │ <span style=\"color: #af87ff; text-decoration-color: #af87ff\">)        </span> │           │           │          │  │\n",
       "│ │ <span style=\"color: #af87ff; text-decoration-color: #af87ff\">STRUCTURE</span> │ <span style=\"color: #008080; text-decoration-color: #008080\">   0</span> │ <span style=\"color: #008080; text-decoration-color: #008080\">   0</span> │ <span style=\"color: #af87ff; text-decoration-color: #af87ff\">OECD-FAO </span> │ <span style=\"color: #af87ff; text-decoration-color: #af87ff\">OECD-FAO </span> │ <span style=\"color: #af87ff; text-decoration-color: #af87ff\">OECD-FAO </span> │ <span style=\"color: #af87ff; text-decoration-color: #af87ff\">OECD-FAO </span> │ <span style=\"color: #008080; text-decoration-color: #008080\">       39</span> │ <span style=\"color: #008080; text-decoration-color: #008080\">        4</span> │ <span style=\"color: #008080; text-decoration-color: #008080\">   26880</span> │  │\n",
       "│ │ <span style=\"color: #af87ff; text-decoration-color: #af87ff\">_NAME    </span> │      │      │ <span style=\"color: #af87ff; text-decoration-color: #af87ff\">Agricultu</span> │ <span style=\"color: #af87ff; text-decoration-color: #af87ff\">Agricultu</span> │ <span style=\"color: #af87ff; text-decoration-color: #af87ff\">Agricultu</span> │ <span style=\"color: #af87ff; text-decoration-color: #af87ff\">Agricultu</span> │           │           │          │  │\n",
       "│ │           │      │      │ <span style=\"color: #af87ff; text-decoration-color: #af87ff\">ral      </span> │ <span style=\"color: #af87ff; text-decoration-color: #af87ff\">ral      </span> │ <span style=\"color: #af87ff; text-decoration-color: #af87ff\">ral      </span> │ <span style=\"color: #af87ff; text-decoration-color: #af87ff\">ral      </span> │           │           │          │  │\n",
       "│ │           │      │      │ <span style=\"color: #af87ff; text-decoration-color: #af87ff\">Outlook  </span> │ <span style=\"color: #af87ff; text-decoration-color: #af87ff\">Outlook  </span> │ <span style=\"color: #af87ff; text-decoration-color: #af87ff\">Outlook  </span> │ <span style=\"color: #af87ff; text-decoration-color: #af87ff\">Outlook  </span> │           │           │          │  │\n",
       "│ │           │      │      │ <span style=\"color: #af87ff; text-decoration-color: #af87ff\">2021-2030</span> │ <span style=\"color: #af87ff; text-decoration-color: #af87ff\">2021-2030</span> │ <span style=\"color: #af87ff; text-decoration-color: #af87ff\">2021-2030</span> │ <span style=\"color: #af87ff; text-decoration-color: #af87ff\">2021-2030</span> │           │           │          │  │\n",
       "│ │ <span style=\"color: #af87ff; text-decoration-color: #af87ff\">ACTION   </span> │ <span style=\"color: #008080; text-decoration-color: #008080\">   0</span> │ <span style=\"color: #008080; text-decoration-color: #008080\">   0</span> │ <span style=\"color: #af87ff; text-decoration-color: #af87ff\">I        </span> │ <span style=\"color: #af87ff; text-decoration-color: #af87ff\">I        </span> │ <span style=\"color: #af87ff; text-decoration-color: #af87ff\">I        </span> │ <span style=\"color: #af87ff; text-decoration-color: #af87ff\">I        </span> │ <span style=\"color: #008080; text-decoration-color: #008080\">        1</span> │ <span style=\"color: #008080; text-decoration-color: #008080\">        1</span> │ <span style=\"color: #008080; text-decoration-color: #008080\">    6720</span> │  │\n",
       "│ │ <span style=\"color: #af87ff; text-decoration-color: #af87ff\">REF_AREA </span> │ <span style=\"color: #008080; text-decoration-color: #008080\">   0</span> │ <span style=\"color: #008080; text-decoration-color: #008080\">   0</span> │ <span style=\"color: #af87ff; text-decoration-color: #af87ff\">S        </span> │ <span style=\"color: #af87ff; text-decoration-color: #af87ff\">OECD     </span> │ <span style=\"color: #af87ff; text-decoration-color: #af87ff\">CHN      </span> │ <span style=\"color: #af87ff; text-decoration-color: #af87ff\">VNM      </span> │ <span style=\"color: #008080; text-decoration-color: #008080\">     2.94</span> │ <span style=\"color: #008080; text-decoration-color: #008080\">        1</span> │ <span style=\"color: #008080; text-decoration-color: #008080\">    6720</span> │  │\n",
       "│ │ <span style=\"color: #af87ff; text-decoration-color: #af87ff\">Reference</span> │ <span style=\"color: #008080; text-decoration-color: #008080\">   0</span> │ <span style=\"color: #008080; text-decoration-color: #008080\">   0</span> │ <span style=\"color: #af87ff; text-decoration-color: #af87ff\">OECD     </span> │ <span style=\"color: #af87ff; text-decoration-color: #af87ff\">China    </span> │ <span style=\"color: #af87ff; text-decoration-color: #af87ff\">Asia     </span> │ <span style=\"color: #af87ff; text-decoration-color: #af87ff\">Viet Nam </span> │ <span style=\"color: #008080; text-decoration-color: #008080\">      8.5</span> │ <span style=\"color: #008080; text-decoration-color: #008080\">      1.3</span> │ <span style=\"color: #008080; text-decoration-color: #008080\">    8820</span> │  │\n",
       "│ │ <span style=\"color: #af87ff; text-decoration-color: #af87ff\">area     </span> │      │      │           │ <span style=\"color: #af87ff; text-decoration-color: #af87ff\">(People’s</span> │           │           │           │           │          │  │\n",
       "│ │           │      │      │           │ <span style=\"color: #af87ff; text-decoration-color: #af87ff\">Republic </span> │           │           │           │           │          │  │\n",
       "│ │           │      │      │           │ <span style=\"color: #af87ff; text-decoration-color: #af87ff\">of)      </span> │           │           │           │           │          │  │\n",
       "│ │ <span style=\"color: #af87ff; text-decoration-color: #af87ff\">FREQ     </span> │ <span style=\"color: #008080; text-decoration-color: #008080\">   0</span> │ <span style=\"color: #008080; text-decoration-color: #008080\">   0</span> │ <span style=\"color: #af87ff; text-decoration-color: #af87ff\">A        </span> │ <span style=\"color: #af87ff; text-decoration-color: #af87ff\">A        </span> │ <span style=\"color: #af87ff; text-decoration-color: #af87ff\">A        </span> │ <span style=\"color: #af87ff; text-decoration-color: #af87ff\">A        </span> │ <span style=\"color: #008080; text-decoration-color: #008080\">        1</span> │ <span style=\"color: #008080; text-decoration-color: #008080\">        1</span> │ <span style=\"color: #008080; text-decoration-color: #008080\">    6720</span> │  │\n",
       "│ │ <span style=\"color: #af87ff; text-decoration-color: #af87ff\">Frequency</span> │ <span style=\"color: #008080; text-decoration-color: #008080\">   0</span> │ <span style=\"color: #008080; text-decoration-color: #008080\">   0</span> │ <span style=\"color: #af87ff; text-decoration-color: #af87ff\">Annual   </span> │ <span style=\"color: #af87ff; text-decoration-color: #af87ff\">Annual   </span> │ <span style=\"color: #af87ff; text-decoration-color: #af87ff\">Annual   </span> │ <span style=\"color: #af87ff; text-decoration-color: #af87ff\">Annual   </span> │ <span style=\"color: #008080; text-decoration-color: #008080\">        6</span> │ <span style=\"color: #008080; text-decoration-color: #008080\">        1</span> │ <span style=\"color: #008080; text-decoration-color: #008080\">    6720</span> │  │\n",
       "│ │ <span style=\"color: #af87ff; text-decoration-color: #af87ff\">of       </span> │      │      │           │           │           │           │           │           │          │  │\n",
       "│ │ <span style=\"color: #af87ff; text-decoration-color: #af87ff\">observati</span> │      │      │           │           │           │           │           │           │          │  │\n",
       "│ │ <span style=\"color: #af87ff; text-decoration-color: #af87ff\">on       </span> │      │      │           │           │           │           │           │           │          │  │\n",
       "│ │ <span style=\"color: #af87ff; text-decoration-color: #af87ff\">COMMODITY</span> │ <span style=\"color: #008080; text-decoration-color: #008080\">   0</span> │ <span style=\"color: #008080; text-decoration-color: #008080\">   0</span> │ <span style=\"color: #af87ff; text-decoration-color: #af87ff\">CPC_223  </span> │ <span style=\"color: #af87ff; text-decoration-color: #af87ff\">CPC_EX_PK</span> │ <span style=\"color: #af87ff; text-decoration-color: #af87ff\">CPC_223  </span> │ <span style=\"color: #af87ff; text-decoration-color: #af87ff\">CPC_EX_SH</span> │ <span style=\"color: #008080; text-decoration-color: #008080\">      8.6</span> │ <span style=\"color: #008080; text-decoration-color: #008080\">        1</span> │ <span style=\"color: #008080; text-decoration-color: #008080\">    6720</span> │  │\n",
       "│ │ <span style=\"color: #af87ff; text-decoration-color: #af87ff\">Commodity</span> │ <span style=\"color: #008080; text-decoration-color: #008080\">   0</span> │ <span style=\"color: #008080; text-decoration-color: #008080\">   0</span> │ <span style=\"color: #af87ff; text-decoration-color: #af87ff\">Pigmeat  </span> │ <span style=\"color: #af87ff; text-decoration-color: #af87ff\">Eggs, in </span> │ <span style=\"color: #af87ff; text-decoration-color: #af87ff\">Beef and </span> │ <span style=\"color: #af87ff; text-decoration-color: #af87ff\">Sheepmeat</span> │ <span style=\"color: #008080; text-decoration-color: #008080\">     15.2</span> │ <span style=\"color: #008080; text-decoration-color: #008080\">      2.6</span> │ <span style=\"color: #008080; text-decoration-color: #008080\">   17472</span> │  │\n",
       "│ │           │      │      │           │ <span style=\"color: #af87ff; text-decoration-color: #af87ff\">shell,   </span> │ <span style=\"color: #af87ff; text-decoration-color: #af87ff\">veal     </span> │           │           │           │          │  │\n",
       "│ │           │      │      │           │ <span style=\"color: #af87ff; text-decoration-color: #af87ff\">preserved</span> │           │           │           │           │          │  │\n",
       "│ │           │      │      │           │ <span style=\"color: #af87ff; text-decoration-color: #af87ff\">or cooked</span> │           │           │           │           │          │  │\n",
       "│ │ <span style=\"color: #af87ff; text-decoration-color: #af87ff\">MEASURE  </span> │ <span style=\"color: #008080; text-decoration-color: #008080\">   0</span> │ <span style=\"color: #008080; text-decoration-color: #008080\">   0</span> │ <span style=\"color: #af87ff; text-decoration-color: #af87ff\">QC       </span> │ <span style=\"color: #af87ff; text-decoration-color: #af87ff\">QC       </span> │ <span style=\"color: #af87ff; text-decoration-color: #af87ff\">EX       </span> │ <span style=\"color: #af87ff; text-decoration-color: #af87ff\">QP       </span> │ <span style=\"color: #008080; text-decoration-color: #008080\">        2</span> │ <span style=\"color: #008080; text-decoration-color: #008080\">        1</span> │ <span style=\"color: #008080; text-decoration-color: #008080\">    6720</span> │  │\n",
       "│ │ <span style=\"color: #af87ff; text-decoration-color: #af87ff\">Measure  </span> │ <span style=\"color: #008080; text-decoration-color: #008080\">   0</span> │ <span style=\"color: #008080; text-decoration-color: #008080\">   0</span> │ <span style=\"color: #af87ff; text-decoration-color: #af87ff\">Exports  </span> │ <span style=\"color: #af87ff; text-decoration-color: #af87ff\">Consumpti</span> │ <span style=\"color: #af87ff; text-decoration-color: #af87ff\">Consumpti</span> │ <span style=\"color: #af87ff; text-decoration-color: #af87ff\">Productio</span> │ <span style=\"color: #008080; text-decoration-color: #008080\">     8.75</span> │ <span style=\"color: #008080; text-decoration-color: #008080\">        1</span> │ <span style=\"color: #008080; text-decoration-color: #008080\">    6720</span> │  │\n",
       "│ │           │      │      │           │ <span style=\"color: #af87ff; text-decoration-color: #af87ff\">on       </span> │ <span style=\"color: #af87ff; text-decoration-color: #af87ff\">on       </span> │ <span style=\"color: #af87ff; text-decoration-color: #af87ff\">n        </span> │           │           │          │  │\n",
       "│ │ <span style=\"color: #af87ff; text-decoration-color: #af87ff\">UNIT_MEAS</span> │ <span style=\"color: #008080; text-decoration-color: #008080\">   0</span> │ <span style=\"color: #008080; text-decoration-color: #008080\">   0</span> │ <span style=\"color: #af87ff; text-decoration-color: #af87ff\">T        </span> │ <span style=\"color: #af87ff; text-decoration-color: #af87ff\">T        </span> │ <span style=\"color: #af87ff; text-decoration-color: #af87ff\">T        </span> │ <span style=\"color: #af87ff; text-decoration-color: #af87ff\">T        </span> │ <span style=\"color: #008080; text-decoration-color: #008080\">        1</span> │ <span style=\"color: #008080; text-decoration-color: #008080\">        1</span> │ <span style=\"color: #008080; text-decoration-color: #008080\">    6720</span> │  │\n",
       "│ │ <span style=\"color: #af87ff; text-decoration-color: #af87ff\">URE      </span> │      │      │           │           │           │           │           │           │          │  │\n",
       "│ │ <span style=\"color: #af87ff; text-decoration-color: #af87ff\">Unit of  </span> │ <span style=\"color: #008080; text-decoration-color: #008080\">   0</span> │ <span style=\"color: #008080; text-decoration-color: #008080\">   0</span> │ <span style=\"color: #af87ff; text-decoration-color: #af87ff\">Tonnes   </span> │ <span style=\"color: #af87ff; text-decoration-color: #af87ff\">Tonnes   </span> │ <span style=\"color: #af87ff; text-decoration-color: #af87ff\">Tonnes   </span> │ <span style=\"color: #af87ff; text-decoration-color: #af87ff\">Tonnes   </span> │ <span style=\"color: #008080; text-decoration-color: #008080\">        6</span> │ <span style=\"color: #008080; text-decoration-color: #008080\">        1</span> │ <span style=\"color: #008080; text-decoration-color: #008080\">    6720</span> │  │\n",
       "│ │ <span style=\"color: #af87ff; text-decoration-color: #af87ff\">measure  </span> │      │      │           │           │           │           │           │           │          │  │\n",
       "│ │ <span style=\"color: #af87ff; text-decoration-color: #af87ff\">VERSION_I</span> │ <span style=\"color: #008080; text-decoration-color: #008080\">   0</span> │ <span style=\"color: #008080; text-decoration-color: #008080\">   0</span> │ <span style=\"color: #af87ff; text-decoration-color: #af87ff\">AO_2021_2</span> │ <span style=\"color: #af87ff; text-decoration-color: #af87ff\">AO_2021_2</span> │ <span style=\"color: #af87ff; text-decoration-color: #af87ff\">AO_2021_2</span> │ <span style=\"color: #af87ff; text-decoration-color: #af87ff\">AO_2021_2</span> │ <span style=\"color: #008080; text-decoration-color: #008080\">       12</span> │ <span style=\"color: #008080; text-decoration-color: #008080\">        1</span> │ <span style=\"color: #008080; text-decoration-color: #008080\">    6720</span> │  │\n",
       "│ │ <span style=\"color: #af87ff; text-decoration-color: #af87ff\">D        </span> │      │      │ <span style=\"color: #af87ff; text-decoration-color: #af87ff\">030      </span> │ <span style=\"color: #af87ff; text-decoration-color: #af87ff\">030      </span> │ <span style=\"color: #af87ff; text-decoration-color: #af87ff\">030      </span> │ <span style=\"color: #af87ff; text-decoration-color: #af87ff\">030      </span> │           │           │          │  │\n",
       "│ │ <span style=\"color: #af87ff; text-decoration-color: #af87ff\">Version  </span> │ <span style=\"color: #008080; text-decoration-color: #008080\">   0</span> │ <span style=\"color: #008080; text-decoration-color: #008080\">   0</span> │ <span style=\"color: #af87ff; text-decoration-color: #af87ff\">Agricultu</span> │ <span style=\"color: #af87ff; text-decoration-color: #af87ff\">Agricultu</span> │ <span style=\"color: #af87ff; text-decoration-color: #af87ff\">Agricultu</span> │ <span style=\"color: #af87ff; text-decoration-color: #af87ff\">Agricultu</span> │ <span style=\"color: #008080; text-decoration-color: #008080\">       30</span> │ <span style=\"color: #008080; text-decoration-color: #008080\">        3</span> │ <span style=\"color: #008080; text-decoration-color: #008080\">   20160</span> │  │\n",
       "│ │ <span style=\"color: #af87ff; text-decoration-color: #af87ff\">ID       </span> │      │      │ <span style=\"color: #af87ff; text-decoration-color: #af87ff\">ral      </span> │ <span style=\"color: #af87ff; text-decoration-color: #af87ff\">ral      </span> │ <span style=\"color: #af87ff; text-decoration-color: #af87ff\">ral      </span> │ <span style=\"color: #af87ff; text-decoration-color: #af87ff\">ral      </span> │           │           │          │  │\n",
       "│ │           │      │      │ <span style=\"color: #af87ff; text-decoration-color: #af87ff\">Outlook  </span> │ <span style=\"color: #af87ff; text-decoration-color: #af87ff\">Outlook  </span> │ <span style=\"color: #af87ff; text-decoration-color: #af87ff\">Outlook  </span> │ <span style=\"color: #af87ff; text-decoration-color: #af87ff\">Outlook  </span> │           │           │          │  │\n",
       "│ │           │      │      │ <span style=\"color: #af87ff; text-decoration-color: #af87ff\">2021-2030</span> │ <span style=\"color: #af87ff; text-decoration-color: #af87ff\">2021-2030</span> │ <span style=\"color: #af87ff; text-decoration-color: #af87ff\">2021-2030</span> │ <span style=\"color: #af87ff; text-decoration-color: #af87ff\">2021-2030</span> │           │           │          │  │\n",
       "│ │ <span style=\"color: #af87ff; text-decoration-color: #af87ff\">OBS_STATU</span> │ <span style=\"color: #008080; text-decoration-color: #008080\">   0</span> │ <span style=\"color: #008080; text-decoration-color: #008080\">   0</span> │ <span style=\"color: #af87ff; text-decoration-color: #af87ff\">A        </span> │ <span style=\"color: #af87ff; text-decoration-color: #af87ff\">A        </span> │ <span style=\"color: #af87ff; text-decoration-color: #af87ff\">A        </span> │ <span style=\"color: #af87ff; text-decoration-color: #af87ff\">A        </span> │ <span style=\"color: #008080; text-decoration-color: #008080\">        1</span> │ <span style=\"color: #008080; text-decoration-color: #008080\">        1</span> │ <span style=\"color: #008080; text-decoration-color: #008080\">    6720</span> │  │\n",
       "│ │ <span style=\"color: #af87ff; text-decoration-color: #af87ff\">S        </span> │      │      │           │           │           │           │           │           │          │  │\n",
       "│ │ <span style=\"color: #af87ff; text-decoration-color: #af87ff\">Observati</span> │ <span style=\"color: #008080; text-decoration-color: #008080\">   0</span> │ <span style=\"color: #008080; text-decoration-color: #008080\">   0</span> │ <span style=\"color: #af87ff; text-decoration-color: #af87ff\">Normal   </span> │ <span style=\"color: #af87ff; text-decoration-color: #af87ff\">Normal   </span> │ <span style=\"color: #af87ff; text-decoration-color: #af87ff\">Normal   </span> │ <span style=\"color: #af87ff; text-decoration-color: #af87ff\">Normal   </span> │ <span style=\"color: #008080; text-decoration-color: #008080\">       12</span> │ <span style=\"color: #008080; text-decoration-color: #008080\">        2</span> │ <span style=\"color: #008080; text-decoration-color: #008080\">   13440</span> │  │\n",
       "│ │ <span style=\"color: #af87ff; text-decoration-color: #af87ff\">on status</span> │      │      │ <span style=\"color: #af87ff; text-decoration-color: #af87ff\">value    </span> │ <span style=\"color: #af87ff; text-decoration-color: #af87ff\">value    </span> │ <span style=\"color: #af87ff; text-decoration-color: #af87ff\">value    </span> │ <span style=\"color: #af87ff; text-decoration-color: #af87ff\">value    </span> │           │           │          │  │\n",
       "│ │ <span style=\"color: #af87ff; text-decoration-color: #af87ff\">Unit     </span> │ <span style=\"color: #008080; text-decoration-color: #008080\">   0</span> │ <span style=\"color: #008080; text-decoration-color: #008080\">   0</span> │ <span style=\"color: #af87ff; text-decoration-color: #af87ff\">Thousands</span> │ <span style=\"color: #af87ff; text-decoration-color: #af87ff\">Thousands</span> │ <span style=\"color: #af87ff; text-decoration-color: #af87ff\">Thousands</span> │ <span style=\"color: #af87ff; text-decoration-color: #af87ff\">Thousands</span> │ <span style=\"color: #008080; text-decoration-color: #008080\">        9</span> │ <span style=\"color: #008080; text-decoration-color: #008080\">        1</span> │ <span style=\"color: #008080; text-decoration-color: #008080\">    6720</span> │  │\n",
       "│ │ <span style=\"color: #af87ff; text-decoration-color: #af87ff\">multiplie</span> │      │      │           │           │           │           │           │           │          │  │\n",
       "│ │ <span style=\"color: #af87ff; text-decoration-color: #af87ff\">r        </span> │      │      │           │           │           │           │           │           │          │  │\n",
       "│ │ <span style=\"color: #af87ff; text-decoration-color: #af87ff\">Decimals </span> │ <span style=\"color: #008080; text-decoration-color: #008080\">   0</span> │ <span style=\"color: #008080; text-decoration-color: #008080\">   0</span> │ <span style=\"color: #af87ff; text-decoration-color: #af87ff\">Two      </span> │ <span style=\"color: #af87ff; text-decoration-color: #af87ff\">Two      </span> │ <span style=\"color: #af87ff; text-decoration-color: #af87ff\">Two      </span> │ <span style=\"color: #af87ff; text-decoration-color: #af87ff\">Two      </span> │ <span style=\"color: #008080; text-decoration-color: #008080\">        3</span> │ <span style=\"color: #008080; text-decoration-color: #008080\">        1</span> │ <span style=\"color: #008080; text-decoration-color: #008080\">    6720</span> │  │\n",
       "│ │ <span style=\"color: #af87ff; text-decoration-color: #af87ff\">CONVENTIO</span> │ <span style=\"color: #008080; text-decoration-color: #008080\">1344</span> │ <span style=\"color: #008080; text-decoration-color: #008080\">  20</span> │ <span style=\"color: #af87ff; text-decoration-color: #af87ff\">CWE      </span> │ <span style=\"color: #af87ff; text-decoration-color: #af87ff\">RTOC     </span> │ <span style=\"color: #af87ff; text-decoration-color: #af87ff\">CWE      </span> │ <span style=\"color: #af87ff; text-decoration-color: #af87ff\">RTOC     </span> │ <span style=\"color: #008080; text-decoration-color: #008080\">     3.25</span> │ <span style=\"color: #008080; text-decoration-color: #008080\">      0.8</span> │ <span style=\"color: #008080; text-decoration-color: #008080\">    5376</span> │  │\n",
       "│ │ <span style=\"color: #af87ff; text-decoration-color: #af87ff\">N        </span> │      │      │           │           │           │           │           │           │          │  │\n",
       "│ │ <span style=\"color: #af87ff; text-decoration-color: #af87ff\">Agricultu</span> │ <span style=\"color: #008080; text-decoration-color: #008080\">1344</span> │ <span style=\"color: #008080; text-decoration-color: #008080\">  20</span> │ <span style=\"color: #af87ff; text-decoration-color: #af87ff\">Ready to </span> │ <span style=\"color: #af87ff; text-decoration-color: #af87ff\">Carcass  </span> │ <span style=\"color: #af87ff; text-decoration-color: #af87ff\">Carcass  </span> │ <span style=\"color: #af87ff; text-decoration-color: #af87ff\">Ready to </span> │ <span style=\"color: #008080; text-decoration-color: #008080\">       22</span> │ <span style=\"color: #008080; text-decoration-color: #008080\">      2.4</span> │ <span style=\"color: #008080; text-decoration-color: #008080\">   16128</span> │  │\n",
       "│ │ <span style=\"color: #af87ff; text-decoration-color: #af87ff\">ral      </span> │      │      │ <span style=\"color: #af87ff; text-decoration-color: #af87ff\">cook     </span> │ <span style=\"color: #af87ff; text-decoration-color: #af87ff\">weight   </span> │ <span style=\"color: #af87ff; text-decoration-color: #af87ff\">weight   </span> │ <span style=\"color: #af87ff; text-decoration-color: #af87ff\">cook     </span> │           │           │          │  │\n",
       "│ │ <span style=\"color: #af87ff; text-decoration-color: #af87ff\">conventio</span> │      │      │           │ <span style=\"color: #af87ff; text-decoration-color: #af87ff\">equivalen</span> │ <span style=\"color: #af87ff; text-decoration-color: #af87ff\">equivalen</span> │           │           │           │          │  │\n",
       "│ │ <span style=\"color: #af87ff; text-decoration-color: #af87ff\">n        </span> │      │      │           │ <span style=\"color: #af87ff; text-decoration-color: #af87ff\">t        </span> │ <span style=\"color: #af87ff; text-decoration-color: #af87ff\">t        </span> │           │           │           │          │  │\n",
       "│ └───────────┴──────┴──────┴───────────┴───────────┴───────────┴───────────┴───────────┴───────────┴──────────┘  │\n",
       "╰────────────────────────────────────────────────────── End ──────────────────────────────────────────────────────╯\n",
       "</pre>\n"
      ],
      "text/plain": [
       "╭──────────────────────────────────────────────── skimpy summary ─────────────────────────────────────────────────╮\n",
       "│ \u001b[3m         Data Summary         \u001b[0m \u001b[3m      Data Types       \u001b[0m                                                          │\n",
       "│ ┏━━━━━━━━━━━━━━━━━━━┳━━━━━━━━┓ ┏━━━━━━━━━━━━━┳━━━━━━━┓                                                          │\n",
       "│ ┃\u001b[1;36m \u001b[0m\u001b[1;36mDataframe        \u001b[0m\u001b[1;36m \u001b[0m┃\u001b[1;36m \u001b[0m\u001b[1;36mValues\u001b[0m\u001b[1;36m \u001b[0m┃ ┃\u001b[1;36m \u001b[0m\u001b[1;36mColumn Type\u001b[0m\u001b[1;36m \u001b[0m┃\u001b[1;36m \u001b[0m\u001b[1;36mCount\u001b[0m\u001b[1;36m \u001b[0m┃                                                          │\n",
       "│ ┡━━━━━━━━━━━━━━━━━━━╇━━━━━━━━┩ ┡━━━━━━━━━━━━━╇━━━━━━━┩                                                          │\n",
       "│ │ Number of rows    │ 6720   │ │ string      │ 22    │                                                          │\n",
       "│ │ Number of columns │ 28     │ │ float64     │ 6     │                                                          │\n",
       "│ └───────────────────┴────────┘ └─────────────┴───────┘                                                          │\n",
       "│ \u001b[3m                                                   All null                                                   \u001b[0m  │\n",
       "│ ┏━━━━━━━━━━━━━━━━━━━━━━━━━━━━━━━━━━━━━━━━━━━━━━━━━━━━━━━━━━━━━━━━━┳━━━━━━━━━━━━━━━━━━━━━┳━━━━━━━━━━━━━━━━━━━━┓  │\n",
       "│ ┃\u001b[1m \u001b[0m\u001b[1mcolumn                                                         \u001b[0m\u001b[1m \u001b[0m┃\u001b[1m \u001b[0m\u001b[1mNA                 \u001b[0m\u001b[1m \u001b[0m┃\u001b[1m \u001b[0m\u001b[1mNA %              \u001b[0m\u001b[1m \u001b[0m┃  │\n",
       "│ ┡━━━━━━━━━━━━━━━━━━━━━━━━━━━━━━━━━━━━━━━━━━━━━━━━━━━━━━━━━━━━━━━━━╇━━━━━━━━━━━━━━━━━━━━━╇━━━━━━━━━━━━━━━━━━━━┩  │\n",
       "│ │ \u001b[38;5;141mTime period                                                    \u001b[0m │ \u001b[36m               6720\u001b[0m │ \u001b[36m               100\u001b[0m │  │\n",
       "│ │ \u001b[38;5;141mObservation value                                              \u001b[0m │ \u001b[36m               6720\u001b[0m │ \u001b[36m               100\u001b[0m │  │\n",
       "│ └─────────────────────────────────────────────────────────────────┴─────────────────────┴────────────────────┘  │\n",
       "│ \u001b[3m                                                    number                                                    \u001b[0m  │\n",
       "│ ┏━━━━━━━━━━━━━━━┳━━━━━━┳━━━━━━━┳━━━━━━━━━┳━━━━━━━━━━━┳━━━━━━━━━━┳━━━━━━━━┳━━━━━━━━┳━━━━━━━━┳━━━━━━━━┳━━━━━━━━┓  │\n",
       "│ ┃\u001b[1m \u001b[0m\u001b[1mcolumn       \u001b[0m\u001b[1m \u001b[0m┃\u001b[1m \u001b[0m\u001b[1mNA  \u001b[0m\u001b[1m \u001b[0m┃\u001b[1m \u001b[0m\u001b[1mNA % \u001b[0m\u001b[1m \u001b[0m┃\u001b[1m \u001b[0m\u001b[1mmean   \u001b[0m\u001b[1m \u001b[0m┃\u001b[1m \u001b[0m\u001b[1msd       \u001b[0m\u001b[1m \u001b[0m┃\u001b[1m \u001b[0m\u001b[1mp0      \u001b[0m\u001b[1m \u001b[0m┃\u001b[1m \u001b[0m\u001b[1mp25   \u001b[0m\u001b[1m \u001b[0m┃\u001b[1m \u001b[0m\u001b[1mp50   \u001b[0m\u001b[1m \u001b[0m┃\u001b[1m \u001b[0m\u001b[1mp75   \u001b[0m\u001b[1m \u001b[0m┃\u001b[1m \u001b[0m\u001b[1mp100  \u001b[0m\u001b[1m \u001b[0m┃\u001b[1m \u001b[0m\u001b[1mhist  \u001b[0m\u001b[1m \u001b[0m┃  │\n",
       "│ ┡━━━━━━━━━━━━━━━╇━━━━━━╇━━━━━━━╇━━━━━━━━━╇━━━━━━━━━━━╇━━━━━━━━━━╇━━━━━━━━╇━━━━━━━━╇━━━━━━━━╇━━━━━━━━╇━━━━━━━━┩  │\n",
       "│ │ \u001b[38;5;141mTIME_PERIOD  \u001b[0m │ \u001b[36m 336\u001b[0m │ \u001b[36m    5\u001b[0m │ \u001b[36m   2020\u001b[0m │ \u001b[36m    6.058\u001b[0m │ \u001b[36m    2010\u001b[0m │ \u001b[36m  2015\u001b[0m │ \u001b[36m  2020\u001b[0m │ \u001b[36m  2025\u001b[0m │ \u001b[36m  2030\u001b[0m │ \u001b[32m▇▆▇▇▆▇\u001b[0m │  │\n",
       "│ │ \u001b[38;5;141mOBS_VALUE    \u001b[0m │ \u001b[36m 336\u001b[0m │ \u001b[36m    5\u001b[0m │ \u001b[36m   3591\u001b[0m │ \u001b[36m    10940\u001b[0m │ \u001b[36m -0.3458\u001b[0m │ \u001b[36m 6.835\u001b[0m │ \u001b[36m   240\u001b[0m │ \u001b[36m  1277\u001b[0m │ \u001b[36m 75520\u001b[0m │ \u001b[32m  ▇   \u001b[0m │  │\n",
       "│ │ \u001b[38;5;141mUNIT_MULT    \u001b[0m │ \u001b[36m 336\u001b[0m │ \u001b[36m    5\u001b[0m │ \u001b[36m  2.999\u001b[0m │ \u001b[36m  0.09989\u001b[0m │ \u001b[36m    2.65\u001b[0m │ \u001b[36m 2.931\u001b[0m │ \u001b[36m 3.001\u001b[0m │ \u001b[36m 3.068\u001b[0m │ \u001b[36m 3.362\u001b[0m │ \u001b[32m ▃▇▇▂ \u001b[0m │  │\n",
       "│ │ \u001b[38;5;141mDECIMALS     \u001b[0m │ \u001b[36m 336\u001b[0m │ \u001b[36m    5\u001b[0m │ \u001b[36m      2\u001b[0m │ \u001b[36m  0.09963\u001b[0m │ \u001b[36m   1.614\u001b[0m │ \u001b[36m 1.933\u001b[0m │ \u001b[36m 2.001\u001b[0m │ \u001b[36m 2.068\u001b[0m │ \u001b[36m 2.344\u001b[0m │ \u001b[32m ▁▇▇▃ \u001b[0m │  │\n",
       "│ └───────────────┴──────┴───────┴─────────┴───────────┴──────────┴────────┴────────┴────────┴────────┴────────┘  │\n",
       "│ \u001b[3m                                                    string                                                    \u001b[0m  │\n",
       "│ ┏━━━━━━━━━━━┳━━━━━━┳━━━━━━┳━━━━━━━━━━━┳━━━━━━━━━━━┳━━━━━━━━━━━┳━━━━━━━━━━━┳━━━━━━━━━━━┳━━━━━━━━━━━┳━━━━━━━━━━┓  │\n",
       "│ ┃\u001b[1m           \u001b[0m┃\u001b[1m      \u001b[0m┃\u001b[1m      \u001b[0m┃\u001b[1m           \u001b[0m┃\u001b[1m           \u001b[0m┃\u001b[1m           \u001b[0m┃\u001b[1m           \u001b[0m┃\u001b[1m \u001b[0m\u001b[1mchars per\u001b[0m\u001b[1m \u001b[0m┃\u001b[1m \u001b[0m\u001b[1mwords per\u001b[0m\u001b[1m \u001b[0m┃\u001b[1m \u001b[0m\u001b[1mtotal   \u001b[0m\u001b[1m \u001b[0m┃  │\n",
       "│ ┃\u001b[1m \u001b[0m\u001b[1mcolumn   \u001b[0m\u001b[1m \u001b[0m┃\u001b[1m \u001b[0m\u001b[1mNA  \u001b[0m\u001b[1m \u001b[0m┃\u001b[1m \u001b[0m\u001b[1mNA %\u001b[0m\u001b[1m \u001b[0m┃\u001b[1m \u001b[0m\u001b[1mshortest \u001b[0m\u001b[1m \u001b[0m┃\u001b[1m \u001b[0m\u001b[1mlongest  \u001b[0m\u001b[1m \u001b[0m┃\u001b[1m \u001b[0m\u001b[1mmin      \u001b[0m\u001b[1m \u001b[0m┃\u001b[1m \u001b[0m\u001b[1mmax      \u001b[0m\u001b[1m \u001b[0m┃\u001b[1m \u001b[0m\u001b[1mrow      \u001b[0m\u001b[1m \u001b[0m┃\u001b[1m \u001b[0m\u001b[1mrow      \u001b[0m\u001b[1m \u001b[0m┃\u001b[1m \u001b[0m\u001b[1mwords   \u001b[0m\u001b[1m \u001b[0m┃  │\n",
       "│ ┡━━━━━━━━━━━╇━━━━━━╇━━━━━━╇━━━━━━━━━━━╇━━━━━━━━━━━╇━━━━━━━━━━━╇━━━━━━━━━━━╇━━━━━━━━━━━╇━━━━━━━━━━━╇━━━━━━━━━━┩  │\n",
       "│ │ \u001b[38;5;141mSTRUCTURE\u001b[0m │ \u001b[36m   0\u001b[0m │ \u001b[36m   0\u001b[0m │ \u001b[38;5;141mDATAFLOW \u001b[0m │ \u001b[38;5;141mDATAFLOW \u001b[0m │ \u001b[38;5;141mDATAFLOW \u001b[0m │ \u001b[38;5;141mDATAFLOW \u001b[0m │ \u001b[36m        8\u001b[0m │ \u001b[36m        1\u001b[0m │ \u001b[36m    6720\u001b[0m │  │\n",
       "│ │ \u001b[38;5;141mSTRUCTURE\u001b[0m │ \u001b[36m   0\u001b[0m │ \u001b[36m   0\u001b[0m │ \u001b[38;5;141mOECD.TAD.\u001b[0m │ \u001b[38;5;141mOECD.TAD.\u001b[0m │ \u001b[38;5;141mOECD.TAD.\u001b[0m │ \u001b[38;5;141mOECD.TAD.\u001b[0m │ \u001b[36m       46\u001b[0m │ \u001b[36m        1\u001b[0m │ \u001b[36m    6720\u001b[0m │  │\n",
       "│ │ \u001b[38;5;141m_ID      \u001b[0m │      │      │ \u001b[38;5;141mATM:DSD_A\u001b[0m │ \u001b[38;5;141mATM:DSD_A\u001b[0m │ \u001b[38;5;141mATM:DSD_A\u001b[0m │ \u001b[38;5;141mATM:DSD_A\u001b[0m │           │           │          │  │\n",
       "│ │           │      │      │ \u001b[38;5;141mGR@DF_OUT\u001b[0m │ \u001b[38;5;141mGR@DF_OUT\u001b[0m │ \u001b[38;5;141mGR@DF_OUT\u001b[0m │ \u001b[38;5;141mGR@DF_OUT\u001b[0m │           │           │          │  │\n",
       "│ │           │      │      │ \u001b[38;5;141mLOOK_2021\u001b[0m │ \u001b[38;5;141mLOOK_2021\u001b[0m │ \u001b[38;5;141mLOOK_2021\u001b[0m │ \u001b[38;5;141mLOOK_2021\u001b[0m │           │           │          │  │\n",
       "│ │           │      │      │ \u001b[38;5;141m_2030(1.0\u001b[0m │ \u001b[38;5;141m_2030(1.0\u001b[0m │ \u001b[38;5;141m_2030(1.0\u001b[0m │ \u001b[38;5;141m_2030(1.0\u001b[0m │           │           │          │  │\n",
       "│ │           │      │      │ \u001b[38;5;141m)        \u001b[0m │ \u001b[38;5;141m)        \u001b[0m │ \u001b[38;5;141m)        \u001b[0m │ \u001b[38;5;141m)        \u001b[0m │           │           │          │  │\n",
       "│ │ \u001b[38;5;141mSTRUCTURE\u001b[0m │ \u001b[36m   0\u001b[0m │ \u001b[36m   0\u001b[0m │ \u001b[38;5;141mOECD-FAO \u001b[0m │ \u001b[38;5;141mOECD-FAO \u001b[0m │ \u001b[38;5;141mOECD-FAO \u001b[0m │ \u001b[38;5;141mOECD-FAO \u001b[0m │ \u001b[36m       39\u001b[0m │ \u001b[36m        4\u001b[0m │ \u001b[36m   26880\u001b[0m │  │\n",
       "│ │ \u001b[38;5;141m_NAME    \u001b[0m │      │      │ \u001b[38;5;141mAgricultu\u001b[0m │ \u001b[38;5;141mAgricultu\u001b[0m │ \u001b[38;5;141mAgricultu\u001b[0m │ \u001b[38;5;141mAgricultu\u001b[0m │           │           │          │  │\n",
       "│ │           │      │      │ \u001b[38;5;141mral      \u001b[0m │ \u001b[38;5;141mral      \u001b[0m │ \u001b[38;5;141mral      \u001b[0m │ \u001b[38;5;141mral      \u001b[0m │           │           │          │  │\n",
       "│ │           │      │      │ \u001b[38;5;141mOutlook  \u001b[0m │ \u001b[38;5;141mOutlook  \u001b[0m │ \u001b[38;5;141mOutlook  \u001b[0m │ \u001b[38;5;141mOutlook  \u001b[0m │           │           │          │  │\n",
       "│ │           │      │      │ \u001b[38;5;141m2021-2030\u001b[0m │ \u001b[38;5;141m2021-2030\u001b[0m │ \u001b[38;5;141m2021-2030\u001b[0m │ \u001b[38;5;141m2021-2030\u001b[0m │           │           │          │  │\n",
       "│ │ \u001b[38;5;141mACTION   \u001b[0m │ \u001b[36m   0\u001b[0m │ \u001b[36m   0\u001b[0m │ \u001b[38;5;141mI        \u001b[0m │ \u001b[38;5;141mI        \u001b[0m │ \u001b[38;5;141mI        \u001b[0m │ \u001b[38;5;141mI        \u001b[0m │ \u001b[36m        1\u001b[0m │ \u001b[36m        1\u001b[0m │ \u001b[36m    6720\u001b[0m │  │\n",
       "│ │ \u001b[38;5;141mREF_AREA \u001b[0m │ \u001b[36m   0\u001b[0m │ \u001b[36m   0\u001b[0m │ \u001b[38;5;141mS        \u001b[0m │ \u001b[38;5;141mOECD     \u001b[0m │ \u001b[38;5;141mCHN      \u001b[0m │ \u001b[38;5;141mVNM      \u001b[0m │ \u001b[36m     2.94\u001b[0m │ \u001b[36m        1\u001b[0m │ \u001b[36m    6720\u001b[0m │  │\n",
       "│ │ \u001b[38;5;141mReference\u001b[0m │ \u001b[36m   0\u001b[0m │ \u001b[36m   0\u001b[0m │ \u001b[38;5;141mOECD     \u001b[0m │ \u001b[38;5;141mChina    \u001b[0m │ \u001b[38;5;141mAsia     \u001b[0m │ \u001b[38;5;141mViet Nam \u001b[0m │ \u001b[36m      8.5\u001b[0m │ \u001b[36m      1.3\u001b[0m │ \u001b[36m    8820\u001b[0m │  │\n",
       "│ │ \u001b[38;5;141marea     \u001b[0m │      │      │           │ \u001b[38;5;141m(People’s\u001b[0m │           │           │           │           │          │  │\n",
       "│ │           │      │      │           │ \u001b[38;5;141mRepublic \u001b[0m │           │           │           │           │          │  │\n",
       "│ │           │      │      │           │ \u001b[38;5;141mof)      \u001b[0m │           │           │           │           │          │  │\n",
       "│ │ \u001b[38;5;141mFREQ     \u001b[0m │ \u001b[36m   0\u001b[0m │ \u001b[36m   0\u001b[0m │ \u001b[38;5;141mA        \u001b[0m │ \u001b[38;5;141mA        \u001b[0m │ \u001b[38;5;141mA        \u001b[0m │ \u001b[38;5;141mA        \u001b[0m │ \u001b[36m        1\u001b[0m │ \u001b[36m        1\u001b[0m │ \u001b[36m    6720\u001b[0m │  │\n",
       "│ │ \u001b[38;5;141mFrequency\u001b[0m │ \u001b[36m   0\u001b[0m │ \u001b[36m   0\u001b[0m │ \u001b[38;5;141mAnnual   \u001b[0m │ \u001b[38;5;141mAnnual   \u001b[0m │ \u001b[38;5;141mAnnual   \u001b[0m │ \u001b[38;5;141mAnnual   \u001b[0m │ \u001b[36m        6\u001b[0m │ \u001b[36m        1\u001b[0m │ \u001b[36m    6720\u001b[0m │  │\n",
       "│ │ \u001b[38;5;141mof       \u001b[0m │      │      │           │           │           │           │           │           │          │  │\n",
       "│ │ \u001b[38;5;141mobservati\u001b[0m │      │      │           │           │           │           │           │           │          │  │\n",
       "│ │ \u001b[38;5;141mon       \u001b[0m │      │      │           │           │           │           │           │           │          │  │\n",
       "│ │ \u001b[38;5;141mCOMMODITY\u001b[0m │ \u001b[36m   0\u001b[0m │ \u001b[36m   0\u001b[0m │ \u001b[38;5;141mCPC_223  \u001b[0m │ \u001b[38;5;141mCPC_EX_PK\u001b[0m │ \u001b[38;5;141mCPC_223  \u001b[0m │ \u001b[38;5;141mCPC_EX_SH\u001b[0m │ \u001b[36m      8.6\u001b[0m │ \u001b[36m        1\u001b[0m │ \u001b[36m    6720\u001b[0m │  │\n",
       "│ │ \u001b[38;5;141mCommodity\u001b[0m │ \u001b[36m   0\u001b[0m │ \u001b[36m   0\u001b[0m │ \u001b[38;5;141mPigmeat  \u001b[0m │ \u001b[38;5;141mEggs, in \u001b[0m │ \u001b[38;5;141mBeef and \u001b[0m │ \u001b[38;5;141mSheepmeat\u001b[0m │ \u001b[36m     15.2\u001b[0m │ \u001b[36m      2.6\u001b[0m │ \u001b[36m   17472\u001b[0m │  │\n",
       "│ │           │      │      │           │ \u001b[38;5;141mshell,   \u001b[0m │ \u001b[38;5;141mveal     \u001b[0m │           │           │           │          │  │\n",
       "│ │           │      │      │           │ \u001b[38;5;141mpreserved\u001b[0m │           │           │           │           │          │  │\n",
       "│ │           │      │      │           │ \u001b[38;5;141mor cooked\u001b[0m │           │           │           │           │          │  │\n",
       "│ │ \u001b[38;5;141mMEASURE  \u001b[0m │ \u001b[36m   0\u001b[0m │ \u001b[36m   0\u001b[0m │ \u001b[38;5;141mQC       \u001b[0m │ \u001b[38;5;141mQC       \u001b[0m │ \u001b[38;5;141mEX       \u001b[0m │ \u001b[38;5;141mQP       \u001b[0m │ \u001b[36m        2\u001b[0m │ \u001b[36m        1\u001b[0m │ \u001b[36m    6720\u001b[0m │  │\n",
       "│ │ \u001b[38;5;141mMeasure  \u001b[0m │ \u001b[36m   0\u001b[0m │ \u001b[36m   0\u001b[0m │ \u001b[38;5;141mExports  \u001b[0m │ \u001b[38;5;141mConsumpti\u001b[0m │ \u001b[38;5;141mConsumpti\u001b[0m │ \u001b[38;5;141mProductio\u001b[0m │ \u001b[36m     8.75\u001b[0m │ \u001b[36m        1\u001b[0m │ \u001b[36m    6720\u001b[0m │  │\n",
       "│ │           │      │      │           │ \u001b[38;5;141mon       \u001b[0m │ \u001b[38;5;141mon       \u001b[0m │ \u001b[38;5;141mn        \u001b[0m │           │           │          │  │\n",
       "│ │ \u001b[38;5;141mUNIT_MEAS\u001b[0m │ \u001b[36m   0\u001b[0m │ \u001b[36m   0\u001b[0m │ \u001b[38;5;141mT        \u001b[0m │ \u001b[38;5;141mT        \u001b[0m │ \u001b[38;5;141mT        \u001b[0m │ \u001b[38;5;141mT        \u001b[0m │ \u001b[36m        1\u001b[0m │ \u001b[36m        1\u001b[0m │ \u001b[36m    6720\u001b[0m │  │\n",
       "│ │ \u001b[38;5;141mURE      \u001b[0m │      │      │           │           │           │           │           │           │          │  │\n",
       "│ │ \u001b[38;5;141mUnit of  \u001b[0m │ \u001b[36m   0\u001b[0m │ \u001b[36m   0\u001b[0m │ \u001b[38;5;141mTonnes   \u001b[0m │ \u001b[38;5;141mTonnes   \u001b[0m │ \u001b[38;5;141mTonnes   \u001b[0m │ \u001b[38;5;141mTonnes   \u001b[0m │ \u001b[36m        6\u001b[0m │ \u001b[36m        1\u001b[0m │ \u001b[36m    6720\u001b[0m │  │\n",
       "│ │ \u001b[38;5;141mmeasure  \u001b[0m │      │      │           │           │           │           │           │           │          │  │\n",
       "│ │ \u001b[38;5;141mVERSION_I\u001b[0m │ \u001b[36m   0\u001b[0m │ \u001b[36m   0\u001b[0m │ \u001b[38;5;141mAO_2021_2\u001b[0m │ \u001b[38;5;141mAO_2021_2\u001b[0m │ \u001b[38;5;141mAO_2021_2\u001b[0m │ \u001b[38;5;141mAO_2021_2\u001b[0m │ \u001b[36m       12\u001b[0m │ \u001b[36m        1\u001b[0m │ \u001b[36m    6720\u001b[0m │  │\n",
       "│ │ \u001b[38;5;141mD        \u001b[0m │      │      │ \u001b[38;5;141m030      \u001b[0m │ \u001b[38;5;141m030      \u001b[0m │ \u001b[38;5;141m030      \u001b[0m │ \u001b[38;5;141m030      \u001b[0m │           │           │          │  │\n",
       "│ │ \u001b[38;5;141mVersion  \u001b[0m │ \u001b[36m   0\u001b[0m │ \u001b[36m   0\u001b[0m │ \u001b[38;5;141mAgricultu\u001b[0m │ \u001b[38;5;141mAgricultu\u001b[0m │ \u001b[38;5;141mAgricultu\u001b[0m │ \u001b[38;5;141mAgricultu\u001b[0m │ \u001b[36m       30\u001b[0m │ \u001b[36m        3\u001b[0m │ \u001b[36m   20160\u001b[0m │  │\n",
       "│ │ \u001b[38;5;141mID       \u001b[0m │      │      │ \u001b[38;5;141mral      \u001b[0m │ \u001b[38;5;141mral      \u001b[0m │ \u001b[38;5;141mral      \u001b[0m │ \u001b[38;5;141mral      \u001b[0m │           │           │          │  │\n",
       "│ │           │      │      │ \u001b[38;5;141mOutlook  \u001b[0m │ \u001b[38;5;141mOutlook  \u001b[0m │ \u001b[38;5;141mOutlook  \u001b[0m │ \u001b[38;5;141mOutlook  \u001b[0m │           │           │          │  │\n",
       "│ │           │      │      │ \u001b[38;5;141m2021-2030\u001b[0m │ \u001b[38;5;141m2021-2030\u001b[0m │ \u001b[38;5;141m2021-2030\u001b[0m │ \u001b[38;5;141m2021-2030\u001b[0m │           │           │          │  │\n",
       "│ │ \u001b[38;5;141mOBS_STATU\u001b[0m │ \u001b[36m   0\u001b[0m │ \u001b[36m   0\u001b[0m │ \u001b[38;5;141mA        \u001b[0m │ \u001b[38;5;141mA        \u001b[0m │ \u001b[38;5;141mA        \u001b[0m │ \u001b[38;5;141mA        \u001b[0m │ \u001b[36m        1\u001b[0m │ \u001b[36m        1\u001b[0m │ \u001b[36m    6720\u001b[0m │  │\n",
       "│ │ \u001b[38;5;141mS        \u001b[0m │      │      │           │           │           │           │           │           │          │  │\n",
       "│ │ \u001b[38;5;141mObservati\u001b[0m │ \u001b[36m   0\u001b[0m │ \u001b[36m   0\u001b[0m │ \u001b[38;5;141mNormal   \u001b[0m │ \u001b[38;5;141mNormal   \u001b[0m │ \u001b[38;5;141mNormal   \u001b[0m │ \u001b[38;5;141mNormal   \u001b[0m │ \u001b[36m       12\u001b[0m │ \u001b[36m        2\u001b[0m │ \u001b[36m   13440\u001b[0m │  │\n",
       "│ │ \u001b[38;5;141mon status\u001b[0m │      │      │ \u001b[38;5;141mvalue    \u001b[0m │ \u001b[38;5;141mvalue    \u001b[0m │ \u001b[38;5;141mvalue    \u001b[0m │ \u001b[38;5;141mvalue    \u001b[0m │           │           │          │  │\n",
       "│ │ \u001b[38;5;141mUnit     \u001b[0m │ \u001b[36m   0\u001b[0m │ \u001b[36m   0\u001b[0m │ \u001b[38;5;141mThousands\u001b[0m │ \u001b[38;5;141mThousands\u001b[0m │ \u001b[38;5;141mThousands\u001b[0m │ \u001b[38;5;141mThousands\u001b[0m │ \u001b[36m        9\u001b[0m │ \u001b[36m        1\u001b[0m │ \u001b[36m    6720\u001b[0m │  │\n",
       "│ │ \u001b[38;5;141mmultiplie\u001b[0m │      │      │           │           │           │           │           │           │          │  │\n",
       "│ │ \u001b[38;5;141mr        \u001b[0m │      │      │           │           │           │           │           │           │          │  │\n",
       "│ │ \u001b[38;5;141mDecimals \u001b[0m │ \u001b[36m   0\u001b[0m │ \u001b[36m   0\u001b[0m │ \u001b[38;5;141mTwo      \u001b[0m │ \u001b[38;5;141mTwo      \u001b[0m │ \u001b[38;5;141mTwo      \u001b[0m │ \u001b[38;5;141mTwo      \u001b[0m │ \u001b[36m        3\u001b[0m │ \u001b[36m        1\u001b[0m │ \u001b[36m    6720\u001b[0m │  │\n",
       "│ │ \u001b[38;5;141mCONVENTIO\u001b[0m │ \u001b[36m1344\u001b[0m │ \u001b[36m  20\u001b[0m │ \u001b[38;5;141mCWE      \u001b[0m │ \u001b[38;5;141mRTOC     \u001b[0m │ \u001b[38;5;141mCWE      \u001b[0m │ \u001b[38;5;141mRTOC     \u001b[0m │ \u001b[36m     3.25\u001b[0m │ \u001b[36m      0.8\u001b[0m │ \u001b[36m    5376\u001b[0m │  │\n",
       "│ │ \u001b[38;5;141mN        \u001b[0m │      │      │           │           │           │           │           │           │          │  │\n",
       "│ │ \u001b[38;5;141mAgricultu\u001b[0m │ \u001b[36m1344\u001b[0m │ \u001b[36m  20\u001b[0m │ \u001b[38;5;141mReady to \u001b[0m │ \u001b[38;5;141mCarcass  \u001b[0m │ \u001b[38;5;141mCarcass  \u001b[0m │ \u001b[38;5;141mReady to \u001b[0m │ \u001b[36m       22\u001b[0m │ \u001b[36m      2.4\u001b[0m │ \u001b[36m   16128\u001b[0m │  │\n",
       "│ │ \u001b[38;5;141mral      \u001b[0m │      │      │ \u001b[38;5;141mcook     \u001b[0m │ \u001b[38;5;141mweight   \u001b[0m │ \u001b[38;5;141mweight   \u001b[0m │ \u001b[38;5;141mcook     \u001b[0m │           │           │          │  │\n",
       "│ │ \u001b[38;5;141mconventio\u001b[0m │      │      │           │ \u001b[38;5;141mequivalen\u001b[0m │ \u001b[38;5;141mequivalen\u001b[0m │           │           │           │          │  │\n",
       "│ │ \u001b[38;5;141mn        \u001b[0m │      │      │           │ \u001b[38;5;141mt        \u001b[0m │ \u001b[38;5;141mt        \u001b[0m │           │           │           │          │  │\n",
       "│ └───────────┴──────┴──────┴───────────┴───────────┴───────────┴───────────┴───────────┴───────────┴──────────┘  │\n",
       "╰────────────────────────────────────────────────────── End ──────────────────────────────────────────────────────╯\n"
      ]
     },
     "metadata": {},
     "output_type": "display_data"
    }
   ],
   "source": [
    "skim(data)"
   ]
  },
  {
   "cell_type": "markdown",
   "id": "bb47bb3e-9c22-4b7c-b049-b8813db56bca",
   "metadata": {},
   "source": [
    "### DATA CLEANING START"
   ]
  },
  {
   "cell_type": "markdown",
   "id": "931fcf05-11d3-4213-a699-616c6135e8aa",
   "metadata": {},
   "source": [
    "##### first drop the duplicates columns #########"
   ]
  },
  {
   "cell_type": "code",
   "execution_count": 12,
   "id": "7cb2efa5-1b02-4343-b6a5-b7cfe6b066d1",
   "metadata": {},
   "outputs": [],
   "source": [
    "data=data.drop(data[data[\"Reference area\"]==\"OECD\"].index,axis=0)"
   ]
  },
  {
   "cell_type": "code",
   "execution_count": 13,
   "id": "39831557-61d5-4ff9-9478-1b709ff2e507",
   "metadata": {},
   "outputs": [],
   "source": [
    "data=data.drop(data[data[\"Reference area\"]==\"Asia\"].index,axis=0)"
   ]
  },
  {
   "cell_type": "code",
   "execution_count": 14,
   "id": "ad5c4768-85b9-4cc1-8478-1b15fd0af008",
   "metadata": {},
   "outputs": [
    {
     "data": {
      "text/plain": [
       "array(['Pigmeat', 'Poultry meat', 'Sheepmeat', 'Beef and veal',\n",
       "       'Eggs, in shell, preserved or cooked'], dtype=object)"
      ]
     },
     "execution_count": 14,
     "metadata": {},
     "output_type": "execute_result"
    }
   ],
   "source": [
    "data[\"Commodity\"].unique()"
   ]
  },
  {
   "cell_type": "code",
   "execution_count": 15,
   "id": "64b71590-1f54-4a05-bbe2-57d228828dca",
   "metadata": {},
   "outputs": [],
   "source": [
    "data[\"Commodity\"]=data[\"Commodity\"].replace({'Eggs, in shell, preserved or cooked':'Egg'})"
   ]
  },
  {
   "cell_type": "code",
   "execution_count": 16,
   "id": "85ec5414-26ee-4371-bca4-002156253077",
   "metadata": {},
   "outputs": [],
   "source": [
    "data[\"Reference area\"]=data[\"Reference area\"].replace({'China (People’s Republic of)':'china'})"
   ]
  },
  {
   "cell_type": "code",
   "execution_count": 17,
   "id": "f67f2b68-fe67-48b3-8480-4bbcefbe2226",
   "metadata": {},
   "outputs": [
    {
     "data": {
      "text/plain": [
       "Index(['STRUCTURE', 'STRUCTURE_ID', 'STRUCTURE_NAME', 'ACTION', 'REF_AREA',\n",
       "       'Reference area', 'FREQ', 'Frequency of observation', 'COMMODITY',\n",
       "       'Commodity', 'MEASURE', 'Measure', 'UNIT_MEASURE', 'Unit of measure',\n",
       "       'VERSION_ID', 'Version ID', 'TIME_PERIOD', 'Time period', 'OBS_VALUE',\n",
       "       'Observation value', 'OBS_STATUS', 'Observation status', 'UNIT_MULT',\n",
       "       'Unit multiplier', 'DECIMALS', 'Decimals', 'CONVENTION',\n",
       "       'Agricultural convention'],\n",
       "      dtype='object')"
      ]
     },
     "execution_count": 17,
     "metadata": {},
     "output_type": "execute_result"
    }
   ],
   "source": [
    "data.columns"
   ]
  },
  {
   "cell_type": "code",
   "execution_count": 18,
   "id": "d674d141-6ce7-479e-a9a6-c0f8b70ca1dc",
   "metadata": {},
   "outputs": [],
   "source": [
    "data.drop([\"Time period\",'Observation value','STRUCTURE','ACTION','REF_AREA'],axis=1,inplace=True)"
   ]
  },
  {
   "cell_type": "code",
   "execution_count": 19,
   "id": "026a558b-c092-4d3e-88e8-0ae81401daa9",
   "metadata": {},
   "outputs": [],
   "source": [
    "data.drop([\"FREQ\",'COMMODITY','MEASURE','UNIT_MEASURE','VERSION_ID'],axis=1,inplace=True)"
   ]
  },
  {
   "cell_type": "markdown",
   "id": "361aa508-17c7-41ea-9e40-ef12c626296c",
   "metadata": {},
   "source": [
    "#### now drop the unimportant column ###########"
   ]
  },
  {
   "cell_type": "code",
   "execution_count": 21,
   "id": "191aae2d-e71c-4550-9261-990264e5da4e",
   "metadata": {},
   "outputs": [],
   "source": [
    "data.drop([\"OBS_STATUS\",\"Decimals\",\"CONVENTION\"],axis=1,inplace=True)"
   ]
  },
  {
   "cell_type": "markdown",
   "id": "8369f4a6-eab7-4424-ab62-46dbeb2247c1",
   "metadata": {},
   "source": [
    "#### time to delete null values "
   ]
  },
  {
   "cell_type": "code",
   "execution_count": 23,
   "id": "809984cb-4f42-451b-8d8d-24a724efac3b",
   "metadata": {},
   "outputs": [],
   "source": [
    "##for TIME_PERIOD columns"
   ]
  },
  {
   "cell_type": "code",
   "execution_count": 24,
   "id": "31e4677c-ca34-4635-9c4e-de7664ddc129",
   "metadata": {},
   "outputs": [
    {
     "data": {
      "text/plain": [
       "0       2016.955515\n",
       "1       2014.881298\n",
       "2       2009.907791\n",
       "3       2011.145152\n",
       "4       2018.164958\n",
       "           ...     \n",
       "6714    2028.900670\n",
       "6715    2025.943873\n",
       "6717    2025.105771\n",
       "6718    2017.797825\n",
       "6719    2010.896541\n",
       "Name: TIME_PERIOD, Length: 5880, dtype: float64"
      ]
     },
     "execution_count": 24,
     "metadata": {},
     "output_type": "execute_result"
    }
   ],
   "source": [
    "data[\"TIME_PERIOD\"]"
   ]
  },
  {
   "cell_type": "markdown",
   "id": "45d647cc-fd69-46fd-9539-086b6f69b6f0",
   "metadata": {},
   "source": [
    "for getting proper values first we have to change its data type\n"
   ]
  },
  {
   "cell_type": "code",
   "execution_count": 108,
   "id": "060f5b0f-67d3-4c8c-9382-10a53ffdafaf",
   "metadata": {},
   "outputs": [],
   "source": [
    "##convert float to numeric\n",
    "data[\"TIME_PERIOD\"]=pd.to_numeric(data[\"TIME_PERIOD\"],errors=\"coerce\")"
   ]
  },
  {
   "cell_type": "code",
   "execution_count": 110,
   "id": "9cd124ad-435c-4991-85d9-5da759b8c030",
   "metadata": {},
   "outputs": [
    {
     "data": {
      "text/plain": [
       "dtype('int64')"
      ]
     },
     "execution_count": 110,
     "metadata": {},
     "output_type": "execute_result"
    }
   ],
   "source": [
    "## check its type now\n",
    "data[\"TIME_PERIOD\"].dtype"
   ]
  },
  {
   "cell_type": "code",
   "execution_count": 112,
   "id": "8baf207a-3225-41cf-97a4-92223fdfe50c",
   "metadata": {},
   "outputs": [
    {
     "data": {
      "text/plain": [
       "array([                2016,                 2014,                 2009,\n",
       "                       2011,                 2018,                 2013,\n",
       "                       2030,                 2019,                 2010,\n",
       "                       2015,                 2020,                 2029,\n",
       "                       2022,                 2021,                 2025,\n",
       "                       2023,                 2027, -9223372036854775808,\n",
       "                       2012,                 2024,                 2017,\n",
       "                       2028,                 2026], dtype=int64)"
      ]
     },
     "execution_count": 112,
     "metadata": {},
     "output_type": "execute_result"
    }
   ],
   "source": [
    "### use unique for finding the outliers\n",
    "### -9223372036854775808 is outlier if we convert time_period to int\n",
    "data[\"TIME_PERIOD\"].unique()"
   ]
  },
  {
   "cell_type": "markdown",
   "id": "9326d239-b40c-4abb-8b58-e50237d2320e",
   "metadata": {},
   "source": [
    "this section is for removing null value but here i find otuliers actually the outliers are the null value if we convert the \n",
    "data into datime but i convert dtype into int its give me some numerical outliers how i dont know so now i drop that 15 rows that hold outliers and keep the dtype as int"
   ]
  },
  {
   "cell_type": "code",
   "execution_count": 114,
   "id": "7f30f14c-c63b-42b3-a610-9295cc98260b",
   "metadata": {},
   "outputs": [],
   "source": [
    "## this line of code remove the row where time period value is -9223372036854775808\n",
    "data=data.drop(data[data[\"TIME_PERIOD\"]==-9223372036854775808].index,axis=0)"
   ]
  },
  {
   "cell_type": "code",
   "execution_count": 116,
   "id": "d6ee9914-249d-42f1-a390-8dcda83aa569",
   "metadata": {},
   "outputs": [
    {
     "data": {
      "text/plain": [
       "0"
      ]
     },
     "execution_count": 116,
     "metadata": {},
     "output_type": "execute_result"
    }
   ],
   "source": [
    "##check there is no null value or not\n",
    "data[\"TIME_PERIOD\"].isnull().sum()"
   ]
  },
  {
   "cell_type": "code",
   "execution_count": 118,
   "id": "5583e278-2f57-4841-9394-718687a729a1",
   "metadata": {},
   "outputs": [
    {
     "data": {
      "text/plain": [
       "array([2009, 2010, 2011, 2012, 2013, 2014, 2015, 2016, 2017, 2018, 2019,\n",
       "       2020, 2021, 2022, 2023, 2024, 2025, 2026, 2027, 2028, 2029, 2030],\n",
       "      dtype=int64)"
      ]
     },
     "execution_count": 118,
     "metadata": {},
     "output_type": "execute_result"
    }
   ],
   "source": [
    "## now check for outliers and sort the value so we got int order wise or year order wise\n",
    "d=data[\"TIME_PERIOD\"].unique()\n",
    "d1=d.sort()\n",
    "d"
   ]
  },
  {
   "cell_type": "code",
   "execution_count": 33,
   "id": "82ab842b-d57f-4c56-a622-4b36b6594f71",
   "metadata": {},
   "outputs": [],
   "source": [
    "### now for  OBS_VALUE column"
   ]
  },
  {
   "cell_type": "code",
   "execution_count": 34,
   "id": "a89f10e4-9178-44af-842b-0e2b3ae629b1",
   "metadata": {},
   "outputs": [
    {
     "data": {
      "text/plain": [
       "Index(['STRUCTURE_ID', 'STRUCTURE_NAME', 'Reference area',\n",
       "       'Frequency of observation', 'Commodity', 'Measure', 'Unit of measure',\n",
       "       'Version ID', 'TIME_PERIOD', 'OBS_VALUE', 'Observation status',\n",
       "       'UNIT_MULT', 'Unit multiplier', 'DECIMALS', 'Agricultural convention'],\n",
       "      dtype='object')"
      ]
     },
     "execution_count": 34,
     "metadata": {},
     "output_type": "execute_result"
    }
   ],
   "source": [
    "data.columns"
   ]
  },
  {
   "cell_type": "code",
   "execution_count": 120,
   "id": "5d6f2ff8-3f47-4688-aced-d71ed0fba939",
   "metadata": {},
   "outputs": [
    {
     "data": {
      "text/plain": [
       "0"
      ]
     },
     "execution_count": 120,
     "metadata": {},
     "output_type": "execute_result"
    }
   ],
   "source": [
    "## check the total numbers of null values\n",
    "data['OBS_VALUE'].isnull().sum()"
   ]
  },
  {
   "cell_type": "code",
   "execution_count": 36,
   "id": "645f2176-2bed-4397-b08d-9d6c9c910e3b",
   "metadata": {},
   "outputs": [
    {
     "data": {
      "text/plain": [
       "dtype('float64')"
      ]
     },
     "execution_count": 36,
     "metadata": {},
     "output_type": "execute_result"
    }
   ],
   "source": [
    "### check the dtype of columns\n",
    "data['OBS_VALUE'].dtype"
   ]
  },
  {
   "cell_type": "code",
   "execution_count": 37,
   "id": "0c9e1eba-b16a-4d7b-b0e9-a294e3bced76",
   "metadata": {},
   "outputs": [
    {
     "data": {
      "text/plain": [
       "1367.3771000009626"
      ]
     },
     "execution_count": 37,
     "metadata": {},
     "output_type": "execute_result"
    }
   ],
   "source": [
    "## now find its mean \n",
    "m=data['OBS_VALUE'].mean()\n",
    "m"
   ]
  },
  {
   "cell_type": "code",
   "execution_count": 38,
   "id": "6db72eae-298f-46c2-b4e7-f9581d5d149b",
   "metadata": {},
   "outputs": [],
   "source": [
    "## with the help of fillna we fill the null values \n",
    "data['OBS_VALUE']=data['OBS_VALUE'].fillna(m)"
   ]
  },
  {
   "cell_type": "code",
   "execution_count": 39,
   "id": "d1650776-1bf0-4ebc-bc26-a2c3c4ffb5e4",
   "metadata": {},
   "outputs": [
    {
     "data": {
      "text/plain": [
       "0"
      ]
     },
     "execution_count": 39,
     "metadata": {},
     "output_type": "execute_result"
    }
   ],
   "source": [
    "## now recheck the null value in column\n",
    "data['OBS_VALUE'].isnull().sum()"
   ]
  },
  {
   "cell_type": "code",
   "execution_count": 40,
   "id": "90d25f2e-3ef2-4750-b4b7-c456cd01a146",
   "metadata": {},
   "outputs": [],
   "source": [
    "### now for the  UNIT_MULT column"
   ]
  },
  {
   "cell_type": "code",
   "execution_count": 41,
   "id": "21710802-5051-4110-b97c-0ceb59cfacc6",
   "metadata": {},
   "outputs": [
    {
     "data": {
      "text/plain": [
       "288"
      ]
     },
     "execution_count": 41,
     "metadata": {},
     "output_type": "execute_result"
    }
   ],
   "source": [
    "data['UNIT_MULT'].isnull().sum()"
   ]
  },
  {
   "cell_type": "code",
   "execution_count": 42,
   "id": "9bf5bb54-ac17-4576-837d-2afd7f311275",
   "metadata": {},
   "outputs": [
    {
     "data": {
      "text/plain": [
       "array([3.13036052, 2.88802511, 2.84248142, ..., 2.78712126, 3.00729268,\n",
       "       2.99832346])"
      ]
     },
     "execution_count": 42,
     "metadata": {},
     "output_type": "execute_result"
    }
   ],
   "source": [
    " data['UNIT_MULT'].unique()"
   ]
  },
  {
   "cell_type": "code",
   "execution_count": 43,
   "id": "34e3c99c-d996-443b-bd99-05d32338083d",
   "metadata": {},
   "outputs": [
    {
     "data": {
      "text/plain": [
       "2.9996255473529523"
      ]
     },
     "execution_count": 43,
     "metadata": {},
     "output_type": "execute_result"
    }
   ],
   "source": [
    "data['UNIT_MULT'].mean()"
   ]
  },
  {
   "cell_type": "code",
   "execution_count": 44,
   "id": "254a64cb-a73c-42ae-8627-6c1368831e3b",
   "metadata": {},
   "outputs": [],
   "source": [
    "data['UNIT_MULT']=data['UNIT_MULT'].fillna(data['UNIT_MULT'].mean())"
   ]
  },
  {
   "cell_type": "code",
   "execution_count": 45,
   "id": "3da342f2-4c17-4e0b-8cd8-9c8a7d891b71",
   "metadata": {},
   "outputs": [],
   "source": [
    "#### now for the decimal column"
   ]
  },
  {
   "cell_type": "code",
   "execution_count": 46,
   "id": "52d5f836-bc85-4afb-85c7-028157175321",
   "metadata": {},
   "outputs": [
    {
     "data": {
      "text/plain": [
       "array([2.08757014, 1.83315732, 1.89142572, ..., 1.95652183, 2.05968277,\n",
       "       2.04423641])"
      ]
     },
     "execution_count": 46,
     "metadata": {},
     "output_type": "execute_result"
    }
   ],
   "source": [
    "data['DECIMALS'].unique()"
   ]
  },
  {
   "cell_type": "code",
   "execution_count": 47,
   "id": "39d0f071-daad-4b5c-a7f3-d96cd88b2e99",
   "metadata": {},
   "outputs": [
    {
     "data": {
      "text/plain": [
       "287"
      ]
     },
     "execution_count": 47,
     "metadata": {},
     "output_type": "execute_result"
    }
   ],
   "source": [
    "data['DECIMALS'].isnull().sum()"
   ]
  },
  {
   "cell_type": "code",
   "execution_count": 48,
   "id": "26c5da3c-cd6c-4c6b-956c-f39775f9fdb7",
   "metadata": {},
   "outputs": [
    {
     "data": {
      "text/plain": [
       "1.999918758297686"
      ]
     },
     "execution_count": 48,
     "metadata": {},
     "output_type": "execute_result"
    }
   ],
   "source": [
    "means=data['DECIMALS'].mean()\n",
    "means"
   ]
  },
  {
   "cell_type": "code",
   "execution_count": 49,
   "id": "d19b0d7b-0837-4e82-bea4-12a4a6def072",
   "metadata": {},
   "outputs": [],
   "source": [
    "data['DECIMALS']=data['UNIT_MULT'].fillna(means)"
   ]
  },
  {
   "cell_type": "code",
   "execution_count": 50,
   "id": "8f143e64-7a66-4ceb-8a19-792f9210984b",
   "metadata": {},
   "outputs": [
    {
     "data": {
      "text/plain": [
       "0"
      ]
     },
     "execution_count": 50,
     "metadata": {},
     "output_type": "execute_result"
    }
   ],
   "source": [
    "data['DECIMALS'].isnull().sum()"
   ]
  },
  {
   "cell_type": "code",
   "execution_count": 51,
   "id": "7ce2148b-d265-47ad-b8b2-cb016e3b5568",
   "metadata": {},
   "outputs": [],
   "source": [
    "#### now for Agricultural convention"
   ]
  },
  {
   "cell_type": "code",
   "execution_count": 52,
   "id": "1188270b-3d88-45db-af65-415fe4a4cd70",
   "metadata": {},
   "outputs": [
    {
     "data": {
      "text/plain": [
       "0       Carcass weight equivalent\n",
       "1                   Ready to cook\n",
       "2       Carcass weight equivalent\n",
       "3       Carcass weight equivalent\n",
       "4       Carcass weight equivalent\n",
       "                  ...            \n",
       "6714    Carcass weight equivalent\n",
       "6715                Ready to cook\n",
       "6717                Ready to cook\n",
       "6718    Carcass weight equivalent\n",
       "6719    Carcass weight equivalent\n",
       "Name: Agricultural convention, Length: 5880, dtype: object"
      ]
     },
     "execution_count": 52,
     "metadata": {},
     "output_type": "execute_result"
    }
   ],
   "source": [
    "data['Agricultural convention']"
   ]
  },
  {
   "cell_type": "code",
   "execution_count": 53,
   "id": "7e80a975-5a72-4245-852d-48fb8c963197",
   "metadata": {},
   "outputs": [
    {
     "data": {
      "text/plain": [
       "1176"
      ]
     },
     "execution_count": 53,
     "metadata": {},
     "output_type": "execute_result"
    }
   ],
   "source": [
    "data['Agricultural convention'].isnull().sum()"
   ]
  },
  {
   "cell_type": "code",
   "execution_count": 54,
   "id": "aaaba72e-9e19-4a70-b7f6-8a3be49607d9",
   "metadata": {},
   "outputs": [
    {
     "data": {
      "text/plain": [
       "'Carcass weight equivalent'"
      ]
     },
     "execution_count": 54,
     "metadata": {},
     "output_type": "execute_result"
    }
   ],
   "source": [
    "mode=data['Agricultural convention'].mode()[0]\n",
    "mode"
   ]
  },
  {
   "cell_type": "code",
   "execution_count": 55,
   "id": "a1fc28d9-f8cc-4d60-b6f7-14079993b5b6",
   "metadata": {},
   "outputs": [],
   "source": [
    "data['Agricultural convention']=data['Agricultural convention'].fillna(mode)"
   ]
  },
  {
   "cell_type": "code",
   "execution_count": 56,
   "id": "fbedd877-7e05-4fc3-877d-746599550718",
   "metadata": {},
   "outputs": [
    {
     "data": {
      "text/plain": [
       "0"
      ]
     },
     "execution_count": 56,
     "metadata": {},
     "output_type": "execute_result"
    }
   ],
   "source": [
    "data['Agricultural convention'].isnull().sum()"
   ]
  },
  {
   "cell_type": "markdown",
   "id": "e69940a9-c7f2-4aa6-a36f-b6fe0412d441",
   "metadata": {},
   "source": [
    "### THE VISUALIZATON START"
   ]
  },
  {
   "cell_type": "code",
   "execution_count": 58,
   "id": "7dcf71ea-4fbd-456e-85c8-c8164377af53",
   "metadata": {},
   "outputs": [
    {
     "data": {
      "text/html": [
       "<div>\n",
       "<style scoped>\n",
       "    .dataframe tbody tr th:only-of-type {\n",
       "        vertical-align: middle;\n",
       "    }\n",
       "\n",
       "    .dataframe tbody tr th {\n",
       "        vertical-align: top;\n",
       "    }\n",
       "\n",
       "    .dataframe thead th {\n",
       "        text-align: right;\n",
       "    }\n",
       "</style>\n",
       "<table border=\"1\" class=\"dataframe\">\n",
       "  <thead>\n",
       "    <tr style=\"text-align: right;\">\n",
       "      <th></th>\n",
       "      <th>STRUCTURE_ID</th>\n",
       "      <th>STRUCTURE_NAME</th>\n",
       "      <th>Reference area</th>\n",
       "      <th>Frequency of observation</th>\n",
       "      <th>Commodity</th>\n",
       "      <th>Measure</th>\n",
       "      <th>Unit of measure</th>\n",
       "      <th>Version ID</th>\n",
       "      <th>TIME_PERIOD</th>\n",
       "      <th>OBS_VALUE</th>\n",
       "      <th>Observation status</th>\n",
       "      <th>UNIT_MULT</th>\n",
       "      <th>Unit multiplier</th>\n",
       "      <th>DECIMALS</th>\n",
       "      <th>Agricultural convention</th>\n",
       "    </tr>\n",
       "  </thead>\n",
       "  <tbody>\n",
       "    <tr>\n",
       "      <th>0</th>\n",
       "      <td>OECD.TAD.ATM:DSD_AGR@DF_OUTLOOK_2021_2030(1.0)</td>\n",
       "      <td>OECD-FAO Agricultural Outlook 2021-2030</td>\n",
       "      <td>India</td>\n",
       "      <td>Annual</td>\n",
       "      <td>Pigmeat</td>\n",
       "      <td>Consumption</td>\n",
       "      <td>Tonnes</td>\n",
       "      <td>Agricultural Outlook 2021-2030</td>\n",
       "      <td>2016.955515</td>\n",
       "      <td>382.140698</td>\n",
       "      <td>Normal value</td>\n",
       "      <td>3.130361</td>\n",
       "      <td>Thousands</td>\n",
       "      <td>3.130361</td>\n",
       "      <td>Carcass weight equivalent</td>\n",
       "    </tr>\n",
       "    <tr>\n",
       "      <th>1</th>\n",
       "      <td>OECD.TAD.ATM:DSD_AGR@DF_OUTLOOK_2021_2030(1.0)</td>\n",
       "      <td>OECD-FAO Agricultural Outlook 2021-2030</td>\n",
       "      <td>Türkiye</td>\n",
       "      <td>Annual</td>\n",
       "      <td>Poultry meat</td>\n",
       "      <td>Production</td>\n",
       "      <td>Tonnes</td>\n",
       "      <td>Agricultural Outlook 2021-2030</td>\n",
       "      <td>2014.881298</td>\n",
       "      <td>2031.219856</td>\n",
       "      <td>Normal value</td>\n",
       "      <td>2.888025</td>\n",
       "      <td>Thousands</td>\n",
       "      <td>2.888025</td>\n",
       "      <td>Ready to cook</td>\n",
       "    </tr>\n",
       "    <tr>\n",
       "      <th>2</th>\n",
       "      <td>OECD.TAD.ATM:DSD_AGR@DF_OUTLOOK_2021_2030(1.0)</td>\n",
       "      <td>OECD-FAO Agricultural Outlook 2021-2030</td>\n",
       "      <td>Indonesia</td>\n",
       "      <td>Annual</td>\n",
       "      <td>Sheepmeat</td>\n",
       "      <td>Exports</td>\n",
       "      <td>Tonnes</td>\n",
       "      <td>Agricultural Outlook 2021-2030</td>\n",
       "      <td>2009.907791</td>\n",
       "      <td>0.232868</td>\n",
       "      <td>Normal value</td>\n",
       "      <td>2.842481</td>\n",
       "      <td>Thousands</td>\n",
       "      <td>2.842481</td>\n",
       "      <td>Carcass weight equivalent</td>\n",
       "    </tr>\n",
       "    <tr>\n",
       "      <th>3</th>\n",
       "      <td>OECD.TAD.ATM:DSD_AGR@DF_OUTLOOK_2021_2030(1.0)</td>\n",
       "      <td>OECD-FAO Agricultural Outlook 2021-2030</td>\n",
       "      <td>India</td>\n",
       "      <td>Annual</td>\n",
       "      <td>Pigmeat</td>\n",
       "      <td>Production</td>\n",
       "      <td>Tonnes</td>\n",
       "      <td>Agricultural Outlook 2021-2030</td>\n",
       "      <td>2011.145152</td>\n",
       "      <td>364.275583</td>\n",
       "      <td>Normal value</td>\n",
       "      <td>2.925527</td>\n",
       "      <td>Thousands</td>\n",
       "      <td>2.925527</td>\n",
       "      <td>Carcass weight equivalent</td>\n",
       "    </tr>\n",
       "    <tr>\n",
       "      <th>4</th>\n",
       "      <td>OECD.TAD.ATM:DSD_AGR@DF_OUTLOOK_2021_2030(1.0)</td>\n",
       "      <td>OECD-FAO Agricultural Outlook 2021-2030</td>\n",
       "      <td>china</td>\n",
       "      <td>Annual</td>\n",
       "      <td>Sheepmeat</td>\n",
       "      <td>Imports</td>\n",
       "      <td>Tonnes</td>\n",
       "      <td>Agricultural Outlook 2021-2030</td>\n",
       "      <td>2018.164958</td>\n",
       "      <td>319.134483</td>\n",
       "      <td>Normal value</td>\n",
       "      <td>2.996662</td>\n",
       "      <td>Thousands</td>\n",
       "      <td>2.996662</td>\n",
       "      <td>Carcass weight equivalent</td>\n",
       "    </tr>\n",
       "    <tr>\n",
       "      <th>5</th>\n",
       "      <td>OECD.TAD.ATM:DSD_AGR@DF_OUTLOOK_2021_2030(1.0)</td>\n",
       "      <td>OECD-FAO Agricultural Outlook 2021-2030</td>\n",
       "      <td>Pakistan</td>\n",
       "      <td>Annual</td>\n",
       "      <td>Beef and veal</td>\n",
       "      <td>Exports</td>\n",
       "      <td>Tonnes</td>\n",
       "      <td>Agricultural Outlook 2021-2030</td>\n",
       "      <td>2013.955052</td>\n",
       "      <td>48.172533</td>\n",
       "      <td>Normal value</td>\n",
       "      <td>3.056963</td>\n",
       "      <td>Thousands</td>\n",
       "      <td>3.056963</td>\n",
       "      <td>Carcass weight equivalent</td>\n",
       "    </tr>\n",
       "    <tr>\n",
       "      <th>6</th>\n",
       "      <td>OECD.TAD.ATM:DSD_AGR@DF_OUTLOOK_2021_2030(1.0)</td>\n",
       "      <td>OECD-FAO Agricultural Outlook 2021-2030</td>\n",
       "      <td>Pakistan</td>\n",
       "      <td>Annual</td>\n",
       "      <td>Poultry meat</td>\n",
       "      <td>Consumption</td>\n",
       "      <td>Tonnes</td>\n",
       "      <td>Agricultural Outlook 2021-2030</td>\n",
       "      <td>2030.008528</td>\n",
       "      <td>2272.414897</td>\n",
       "      <td>Normal value</td>\n",
       "      <td>3.055426</td>\n",
       "      <td>Thousands</td>\n",
       "      <td>3.055426</td>\n",
       "      <td>Ready to cook</td>\n",
       "    </tr>\n",
       "    <tr>\n",
       "      <th>7</th>\n",
       "      <td>OECD.TAD.ATM:DSD_AGR@DF_OUTLOOK_2021_2030(1.0)</td>\n",
       "      <td>OECD-FAO Agricultural Outlook 2021-2030</td>\n",
       "      <td>Japan</td>\n",
       "      <td>Annual</td>\n",
       "      <td>Beef and veal</td>\n",
       "      <td>Exports</td>\n",
       "      <td>Tonnes</td>\n",
       "      <td>Agricultural Outlook 2021-2030</td>\n",
       "      <td>2019.177728</td>\n",
       "      <td>6.000930</td>\n",
       "      <td>Normal value</td>\n",
       "      <td>3.047550</td>\n",
       "      <td>Thousands</td>\n",
       "      <td>3.047550</td>\n",
       "      <td>Carcass weight equivalent</td>\n",
       "    </tr>\n",
       "    <tr>\n",
       "      <th>9</th>\n",
       "      <td>OECD.TAD.ATM:DSD_AGR@DF_OUTLOOK_2021_2030(1.0)</td>\n",
       "      <td>OECD-FAO Agricultural Outlook 2021-2030</td>\n",
       "      <td>Türkiye</td>\n",
       "      <td>Annual</td>\n",
       "      <td>Beef and veal</td>\n",
       "      <td>Production</td>\n",
       "      <td>Tonnes</td>\n",
       "      <td>Agricultural Outlook 2021-2030</td>\n",
       "      <td>2018.831382</td>\n",
       "      <td>1052.775310</td>\n",
       "      <td>Normal value</td>\n",
       "      <td>2.962352</td>\n",
       "      <td>Thousands</td>\n",
       "      <td>2.962352</td>\n",
       "      <td>Carcass weight equivalent</td>\n",
       "    </tr>\n",
       "    <tr>\n",
       "      <th>10</th>\n",
       "      <td>OECD.TAD.ATM:DSD_AGR@DF_OUTLOOK_2021_2030(1.0)</td>\n",
       "      <td>OECD-FAO Agricultural Outlook 2021-2030</td>\n",
       "      <td>Malaysia</td>\n",
       "      <td>Annual</td>\n",
       "      <td>Sheepmeat</td>\n",
       "      <td>Imports</td>\n",
       "      <td>Tonnes</td>\n",
       "      <td>Agricultural Outlook 2021-2030</td>\n",
       "      <td>2019.132332</td>\n",
       "      <td>33.830338</td>\n",
       "      <td>Normal value</td>\n",
       "      <td>3.109740</td>\n",
       "      <td>Thousands</td>\n",
       "      <td>3.109740</td>\n",
       "      <td>Carcass weight equivalent</td>\n",
       "    </tr>\n",
       "    <tr>\n",
       "      <th>11</th>\n",
       "      <td>OECD.TAD.ATM:DSD_AGR@DF_OUTLOOK_2021_2030(1.0)</td>\n",
       "      <td>OECD-FAO Agricultural Outlook 2021-2030</td>\n",
       "      <td>Korea</td>\n",
       "      <td>Annual</td>\n",
       "      <td>Sheepmeat</td>\n",
       "      <td>Imports</td>\n",
       "      <td>Tonnes</td>\n",
       "      <td>Agricultural Outlook 2021-2030</td>\n",
       "      <td>2010.114123</td>\n",
       "      <td>4.201719</td>\n",
       "      <td>Normal value</td>\n",
       "      <td>2.948251</td>\n",
       "      <td>Thousands</td>\n",
       "      <td>2.948251</td>\n",
       "      <td>Carcass weight equivalent</td>\n",
       "    </tr>\n",
       "    <tr>\n",
       "      <th>12</th>\n",
       "      <td>OECD.TAD.ATM:DSD_AGR@DF_OUTLOOK_2021_2030(1.0)</td>\n",
       "      <td>OECD-FAO Agricultural Outlook 2021-2030</td>\n",
       "      <td>Korea</td>\n",
       "      <td>Annual</td>\n",
       "      <td>Beef and veal</td>\n",
       "      <td>Consumption</td>\n",
       "      <td>Tonnes</td>\n",
       "      <td>Agricultural Outlook 2021-2030</td>\n",
       "      <td>2015.148374</td>\n",
       "      <td>726.536144</td>\n",
       "      <td>Normal value</td>\n",
       "      <td>3.043189</td>\n",
       "      <td>Thousands</td>\n",
       "      <td>3.043189</td>\n",
       "      <td>Carcass weight equivalent</td>\n",
       "    </tr>\n",
       "    <tr>\n",
       "      <th>14</th>\n",
       "      <td>OECD.TAD.ATM:DSD_AGR@DF_OUTLOOK_2021_2030(1.0)</td>\n",
       "      <td>OECD-FAO Agricultural Outlook 2021-2030</td>\n",
       "      <td>china</td>\n",
       "      <td>Annual</td>\n",
       "      <td>Pigmeat</td>\n",
       "      <td>Consumption</td>\n",
       "      <td>Tonnes</td>\n",
       "      <td>Agricultural Outlook 2021-2030</td>\n",
       "      <td>2019.100843</td>\n",
       "      <td>44502.374590</td>\n",
       "      <td>Normal value</td>\n",
       "      <td>3.045990</td>\n",
       "      <td>Thousands</td>\n",
       "      <td>3.045990</td>\n",
       "      <td>Carcass weight equivalent</td>\n",
       "    </tr>\n",
       "    <tr>\n",
       "      <th>15</th>\n",
       "      <td>OECD.TAD.ATM:DSD_AGR@DF_OUTLOOK_2021_2030(1.0)</td>\n",
       "      <td>OECD-FAO Agricultural Outlook 2021-2030</td>\n",
       "      <td>Pakistan</td>\n",
       "      <td>Annual</td>\n",
       "      <td>Beef and veal</td>\n",
       "      <td>Exports</td>\n",
       "      <td>Tonnes</td>\n",
       "      <td>Agricultural Outlook 2021-2030</td>\n",
       "      <td>2020.108656</td>\n",
       "      <td>80.326934</td>\n",
       "      <td>Normal value</td>\n",
       "      <td>2.944585</td>\n",
       "      <td>Thousands</td>\n",
       "      <td>2.944585</td>\n",
       "      <td>Carcass weight equivalent</td>\n",
       "    </tr>\n",
       "    <tr>\n",
       "      <th>16</th>\n",
       "      <td>OECD.TAD.ATM:DSD_AGR@DF_OUTLOOK_2021_2030(1.0)</td>\n",
       "      <td>OECD-FAO Agricultural Outlook 2021-2030</td>\n",
       "      <td>Japan</td>\n",
       "      <td>Annual</td>\n",
       "      <td>Pigmeat</td>\n",
       "      <td>Production</td>\n",
       "      <td>Tonnes</td>\n",
       "      <td>Agricultural Outlook 2021-2030</td>\n",
       "      <td>2029.075608</td>\n",
       "      <td>1250.053853</td>\n",
       "      <td>Normal value</td>\n",
       "      <td>2.868320</td>\n",
       "      <td>Thousands</td>\n",
       "      <td>2.868320</td>\n",
       "      <td>Carcass weight equivalent</td>\n",
       "    </tr>\n",
       "    <tr>\n",
       "      <th>17</th>\n",
       "      <td>OECD.TAD.ATM:DSD_AGR@DF_OUTLOOK_2021_2030(1.0)</td>\n",
       "      <td>OECD-FAO Agricultural Outlook 2021-2030</td>\n",
       "      <td>Türkiye</td>\n",
       "      <td>Annual</td>\n",
       "      <td>Pigmeat</td>\n",
       "      <td>Exports</td>\n",
       "      <td>Tonnes</td>\n",
       "      <td>Agricultural Outlook 2021-2030</td>\n",
       "      <td>2022.032861</td>\n",
       "      <td>18.623008</td>\n",
       "      <td>Normal value</td>\n",
       "      <td>2.957624</td>\n",
       "      <td>Thousands</td>\n",
       "      <td>2.957624</td>\n",
       "      <td>Carcass weight equivalent</td>\n",
       "    </tr>\n",
       "    <tr>\n",
       "      <th>18</th>\n",
       "      <td>OECD.TAD.ATM:DSD_AGR@DF_OUTLOOK_2021_2030(1.0)</td>\n",
       "      <td>OECD-FAO Agricultural Outlook 2021-2030</td>\n",
       "      <td>Thailand</td>\n",
       "      <td>Annual</td>\n",
       "      <td>Pigmeat</td>\n",
       "      <td>Consumption</td>\n",
       "      <td>Tonnes</td>\n",
       "      <td>Agricultural Outlook 2021-2030</td>\n",
       "      <td>2015.968041</td>\n",
       "      <td>917.607401</td>\n",
       "      <td>Normal value</td>\n",
       "      <td>3.018042</td>\n",
       "      <td>Thousands</td>\n",
       "      <td>3.018042</td>\n",
       "      <td>Carcass weight equivalent</td>\n",
       "    </tr>\n",
       "    <tr>\n",
       "      <th>19</th>\n",
       "      <td>OECD.TAD.ATM:DSD_AGR@DF_OUTLOOK_2021_2030(1.0)</td>\n",
       "      <td>OECD-FAO Agricultural Outlook 2021-2030</td>\n",
       "      <td>Iran</td>\n",
       "      <td>Annual</td>\n",
       "      <td>Poultry meat</td>\n",
       "      <td>Imports</td>\n",
       "      <td>Tonnes</td>\n",
       "      <td>Agricultural Outlook 2021-2030</td>\n",
       "      <td>2013.017448</td>\n",
       "      <td>18.143213</td>\n",
       "      <td>Normal value</td>\n",
       "      <td>2.947416</td>\n",
       "      <td>Thousands</td>\n",
       "      <td>2.947416</td>\n",
       "      <td>Ready to cook</td>\n",
       "    </tr>\n",
       "    <tr>\n",
       "      <th>20</th>\n",
       "      <td>OECD.TAD.ATM:DSD_AGR@DF_OUTLOOK_2021_2030(1.0)</td>\n",
       "      <td>OECD-FAO Agricultural Outlook 2021-2030</td>\n",
       "      <td>Indonesia</td>\n",
       "      <td>Annual</td>\n",
       "      <td>Pigmeat</td>\n",
       "      <td>Imports</td>\n",
       "      <td>Tonnes</td>\n",
       "      <td>Agricultural Outlook 2021-2030</td>\n",
       "      <td>2030.042781</td>\n",
       "      <td>7.618277</td>\n",
       "      <td>Normal value</td>\n",
       "      <td>2.924469</td>\n",
       "      <td>Thousands</td>\n",
       "      <td>2.924469</td>\n",
       "      <td>Carcass weight equivalent</td>\n",
       "    </tr>\n",
       "    <tr>\n",
       "      <th>21</th>\n",
       "      <td>OECD.TAD.ATM:DSD_AGR@DF_OUTLOOK_2021_2030(1.0)</td>\n",
       "      <td>OECD-FAO Agricultural Outlook 2021-2030</td>\n",
       "      <td>Türkiye</td>\n",
       "      <td>Annual</td>\n",
       "      <td>Egg</td>\n",
       "      <td>Consumption</td>\n",
       "      <td>Tonnes</td>\n",
       "      <td>Agricultural Outlook 2021-2030</td>\n",
       "      <td>2019.029976</td>\n",
       "      <td>588.002537</td>\n",
       "      <td>Normal value</td>\n",
       "      <td>2.999626</td>\n",
       "      <td>Thousands</td>\n",
       "      <td>2.999626</td>\n",
       "      <td>Carcass weight equivalent</td>\n",
       "    </tr>\n",
       "  </tbody>\n",
       "</table>\n",
       "</div>"
      ],
      "text/plain": [
       "                                      STRUCTURE_ID  \\\n",
       "0   OECD.TAD.ATM:DSD_AGR@DF_OUTLOOK_2021_2030(1.0)   \n",
       "1   OECD.TAD.ATM:DSD_AGR@DF_OUTLOOK_2021_2030(1.0)   \n",
       "2   OECD.TAD.ATM:DSD_AGR@DF_OUTLOOK_2021_2030(1.0)   \n",
       "3   OECD.TAD.ATM:DSD_AGR@DF_OUTLOOK_2021_2030(1.0)   \n",
       "4   OECD.TAD.ATM:DSD_AGR@DF_OUTLOOK_2021_2030(1.0)   \n",
       "5   OECD.TAD.ATM:DSD_AGR@DF_OUTLOOK_2021_2030(1.0)   \n",
       "6   OECD.TAD.ATM:DSD_AGR@DF_OUTLOOK_2021_2030(1.0)   \n",
       "7   OECD.TAD.ATM:DSD_AGR@DF_OUTLOOK_2021_2030(1.0)   \n",
       "9   OECD.TAD.ATM:DSD_AGR@DF_OUTLOOK_2021_2030(1.0)   \n",
       "10  OECD.TAD.ATM:DSD_AGR@DF_OUTLOOK_2021_2030(1.0)   \n",
       "11  OECD.TAD.ATM:DSD_AGR@DF_OUTLOOK_2021_2030(1.0)   \n",
       "12  OECD.TAD.ATM:DSD_AGR@DF_OUTLOOK_2021_2030(1.0)   \n",
       "14  OECD.TAD.ATM:DSD_AGR@DF_OUTLOOK_2021_2030(1.0)   \n",
       "15  OECD.TAD.ATM:DSD_AGR@DF_OUTLOOK_2021_2030(1.0)   \n",
       "16  OECD.TAD.ATM:DSD_AGR@DF_OUTLOOK_2021_2030(1.0)   \n",
       "17  OECD.TAD.ATM:DSD_AGR@DF_OUTLOOK_2021_2030(1.0)   \n",
       "18  OECD.TAD.ATM:DSD_AGR@DF_OUTLOOK_2021_2030(1.0)   \n",
       "19  OECD.TAD.ATM:DSD_AGR@DF_OUTLOOK_2021_2030(1.0)   \n",
       "20  OECD.TAD.ATM:DSD_AGR@DF_OUTLOOK_2021_2030(1.0)   \n",
       "21  OECD.TAD.ATM:DSD_AGR@DF_OUTLOOK_2021_2030(1.0)   \n",
       "\n",
       "                             STRUCTURE_NAME Reference area  \\\n",
       "0   OECD-FAO Agricultural Outlook 2021-2030          India   \n",
       "1   OECD-FAO Agricultural Outlook 2021-2030        Türkiye   \n",
       "2   OECD-FAO Agricultural Outlook 2021-2030      Indonesia   \n",
       "3   OECD-FAO Agricultural Outlook 2021-2030          India   \n",
       "4   OECD-FAO Agricultural Outlook 2021-2030          china   \n",
       "5   OECD-FAO Agricultural Outlook 2021-2030       Pakistan   \n",
       "6   OECD-FAO Agricultural Outlook 2021-2030       Pakistan   \n",
       "7   OECD-FAO Agricultural Outlook 2021-2030          Japan   \n",
       "9   OECD-FAO Agricultural Outlook 2021-2030        Türkiye   \n",
       "10  OECD-FAO Agricultural Outlook 2021-2030       Malaysia   \n",
       "11  OECD-FAO Agricultural Outlook 2021-2030          Korea   \n",
       "12  OECD-FAO Agricultural Outlook 2021-2030          Korea   \n",
       "14  OECD-FAO Agricultural Outlook 2021-2030          china   \n",
       "15  OECD-FAO Agricultural Outlook 2021-2030       Pakistan   \n",
       "16  OECD-FAO Agricultural Outlook 2021-2030          Japan   \n",
       "17  OECD-FAO Agricultural Outlook 2021-2030        Türkiye   \n",
       "18  OECD-FAO Agricultural Outlook 2021-2030       Thailand   \n",
       "19  OECD-FAO Agricultural Outlook 2021-2030           Iran   \n",
       "20  OECD-FAO Agricultural Outlook 2021-2030      Indonesia   \n",
       "21  OECD-FAO Agricultural Outlook 2021-2030        Türkiye   \n",
       "\n",
       "   Frequency of observation      Commodity      Measure Unit of measure  \\\n",
       "0                    Annual        Pigmeat  Consumption          Tonnes   \n",
       "1                    Annual   Poultry meat   Production          Tonnes   \n",
       "2                    Annual      Sheepmeat      Exports          Tonnes   \n",
       "3                    Annual        Pigmeat   Production          Tonnes   \n",
       "4                    Annual      Sheepmeat      Imports          Tonnes   \n",
       "5                    Annual  Beef and veal      Exports          Tonnes   \n",
       "6                    Annual   Poultry meat  Consumption          Tonnes   \n",
       "7                    Annual  Beef and veal      Exports          Tonnes   \n",
       "9                    Annual  Beef and veal   Production          Tonnes   \n",
       "10                   Annual      Sheepmeat      Imports          Tonnes   \n",
       "11                   Annual      Sheepmeat      Imports          Tonnes   \n",
       "12                   Annual  Beef and veal  Consumption          Tonnes   \n",
       "14                   Annual        Pigmeat  Consumption          Tonnes   \n",
       "15                   Annual  Beef and veal      Exports          Tonnes   \n",
       "16                   Annual        Pigmeat   Production          Tonnes   \n",
       "17                   Annual        Pigmeat      Exports          Tonnes   \n",
       "18                   Annual        Pigmeat  Consumption          Tonnes   \n",
       "19                   Annual   Poultry meat      Imports          Tonnes   \n",
       "20                   Annual        Pigmeat      Imports          Tonnes   \n",
       "21                   Annual            Egg  Consumption          Tonnes   \n",
       "\n",
       "                        Version ID  TIME_PERIOD     OBS_VALUE  \\\n",
       "0   Agricultural Outlook 2021-2030  2016.955515    382.140698   \n",
       "1   Agricultural Outlook 2021-2030  2014.881298   2031.219856   \n",
       "2   Agricultural Outlook 2021-2030  2009.907791      0.232868   \n",
       "3   Agricultural Outlook 2021-2030  2011.145152    364.275583   \n",
       "4   Agricultural Outlook 2021-2030  2018.164958    319.134483   \n",
       "5   Agricultural Outlook 2021-2030  2013.955052     48.172533   \n",
       "6   Agricultural Outlook 2021-2030  2030.008528   2272.414897   \n",
       "7   Agricultural Outlook 2021-2030  2019.177728      6.000930   \n",
       "9   Agricultural Outlook 2021-2030  2018.831382   1052.775310   \n",
       "10  Agricultural Outlook 2021-2030  2019.132332     33.830338   \n",
       "11  Agricultural Outlook 2021-2030  2010.114123      4.201719   \n",
       "12  Agricultural Outlook 2021-2030  2015.148374    726.536144   \n",
       "14  Agricultural Outlook 2021-2030  2019.100843  44502.374590   \n",
       "15  Agricultural Outlook 2021-2030  2020.108656     80.326934   \n",
       "16  Agricultural Outlook 2021-2030  2029.075608   1250.053853   \n",
       "17  Agricultural Outlook 2021-2030  2022.032861     18.623008   \n",
       "18  Agricultural Outlook 2021-2030  2015.968041    917.607401   \n",
       "19  Agricultural Outlook 2021-2030  2013.017448     18.143213   \n",
       "20  Agricultural Outlook 2021-2030  2030.042781      7.618277   \n",
       "21  Agricultural Outlook 2021-2030  2019.029976    588.002537   \n",
       "\n",
       "   Observation status  UNIT_MULT Unit multiplier  DECIMALS  \\\n",
       "0        Normal value   3.130361       Thousands  3.130361   \n",
       "1        Normal value   2.888025       Thousands  2.888025   \n",
       "2        Normal value   2.842481       Thousands  2.842481   \n",
       "3        Normal value   2.925527       Thousands  2.925527   \n",
       "4        Normal value   2.996662       Thousands  2.996662   \n",
       "5        Normal value   3.056963       Thousands  3.056963   \n",
       "6        Normal value   3.055426       Thousands  3.055426   \n",
       "7        Normal value   3.047550       Thousands  3.047550   \n",
       "9        Normal value   2.962352       Thousands  2.962352   \n",
       "10       Normal value   3.109740       Thousands  3.109740   \n",
       "11       Normal value   2.948251       Thousands  2.948251   \n",
       "12       Normal value   3.043189       Thousands  3.043189   \n",
       "14       Normal value   3.045990       Thousands  3.045990   \n",
       "15       Normal value   2.944585       Thousands  2.944585   \n",
       "16       Normal value   2.868320       Thousands  2.868320   \n",
       "17       Normal value   2.957624       Thousands  2.957624   \n",
       "18       Normal value   3.018042       Thousands  3.018042   \n",
       "19       Normal value   2.947416       Thousands  2.947416   \n",
       "20       Normal value   2.924469       Thousands  2.924469   \n",
       "21       Normal value   2.999626       Thousands  2.999626   \n",
       "\n",
       "      Agricultural convention  \n",
       "0   Carcass weight equivalent  \n",
       "1               Ready to cook  \n",
       "2   Carcass weight equivalent  \n",
       "3   Carcass weight equivalent  \n",
       "4   Carcass weight equivalent  \n",
       "5   Carcass weight equivalent  \n",
       "6               Ready to cook  \n",
       "7   Carcass weight equivalent  \n",
       "9   Carcass weight equivalent  \n",
       "10  Carcass weight equivalent  \n",
       "11  Carcass weight equivalent  \n",
       "12  Carcass weight equivalent  \n",
       "14  Carcass weight equivalent  \n",
       "15  Carcass weight equivalent  \n",
       "16  Carcass weight equivalent  \n",
       "17  Carcass weight equivalent  \n",
       "18  Carcass weight equivalent  \n",
       "19              Ready to cook  \n",
       "20  Carcass weight equivalent  \n",
       "21  Carcass weight equivalent  "
      ]
     },
     "execution_count": 58,
     "metadata": {},
     "output_type": "execute_result"
    }
   ],
   "source": [
    "data.head(20)"
   ]
  },
  {
   "cell_type": "markdown",
   "id": "05f0af96-550c-4e85-b1ad-1dfae072a431",
   "metadata": {},
   "source": [
    "1 data[\"Commodity\"].unique()"
   ]
  },
  {
   "cell_type": "code",
   "execution_count": 60,
   "id": "44f036a4-2521-4a0c-9326-0f0aa48f3a10",
   "metadata": {},
   "outputs": [
    {
     "data": {
      "text/plain": [
       "Index(['STRUCTURE_ID', 'STRUCTURE_NAME', 'Reference area',\n",
       "       'Frequency of observation', 'Commodity', 'Measure', 'Unit of measure',\n",
       "       'Version ID', 'TIME_PERIOD', 'OBS_VALUE', 'Observation status',\n",
       "       'UNIT_MULT', 'Unit multiplier', 'DECIMALS', 'Agricultural convention'],\n",
       "      dtype='object')"
      ]
     },
     "execution_count": 60,
     "metadata": {},
     "output_type": "execute_result"
    }
   ],
   "source": [
    "data.columns"
   ]
  },
  {
   "cell_type": "code",
   "execution_count": 61,
   "id": "cddd3070-7f2a-40ec-87c0-d310cf6b2584",
   "metadata": {},
   "outputs": [],
   "source": [
    "# which countries do more consumption production expo and imp0"
   ]
  },
  {
   "cell_type": "code",
   "execution_count": 62,
   "id": "1741bf50-c73b-4248-98f7-e53d8fe79823",
   "metadata": {},
   "outputs": [
    {
     "data": {
      "text/plain": [
       "<Axes: xlabel='Reference area', ylabel='percent'>"
      ]
     },
     "execution_count": 62,
     "metadata": {},
     "output_type": "execute_result"
    },
    {
     "data": {
      "image/png": "[encoded data removed]",
      "text/plain": [
       "<Figure size 1800x600 with 1 Axes>"
      ]
     },
     "metadata": {},
     "output_type": "display_data"
    }
   ],
   "source": [
    "plt.figure(figsize=(18,6))\n",
    "sns.countplot(data, x=\"Reference area\", hue=\"Measure\",stat=\"percent\")"
   ]
  },
  {
   "cell_type": "code",
   "execution_count": 63,
   "id": "faf6bd06-0fa3-4f30-806c-8eb60dfdd58e",
   "metadata": {},
   "outputs": [],
   "source": [
    "##which meat type consume more"
   ]
  },
  {
   "cell_type": "code",
   "execution_count": 64,
   "id": "69afa126-2c23-499b-b560-5cd54b687c6f",
   "metadata": {},
   "outputs": [
    {
     "data": {
      "text/plain": [
       "0       Consumption\n",
       "1        Production\n",
       "2           Exports\n",
       "3        Production\n",
       "4           Imports\n",
       "           ...     \n",
       "6714     Production\n",
       "6715     Production\n",
       "6717        Exports\n",
       "6718        Imports\n",
       "6719        Exports\n",
       "Name: Measure, Length: 5880, dtype: object"
      ]
     },
     "execution_count": 64,
     "metadata": {},
     "output_type": "execute_result"
    }
   ],
   "source": [
    "data[\"Measure\"]"
   ]
  },
  {
   "cell_type": "code",
   "execution_count": 65,
   "id": "2108568c-99a0-4a35-9968-4d3c8c23f02d",
   "metadata": {},
   "outputs": [
    {
     "data": {
      "text/plain": [
       "<Axes: xlabel='Commodity'>"
      ]
     },
     "execution_count": 65,
     "metadata": {},
     "output_type": "execute_result"
    },
    {
     "data": {
      "image/png": "[encoded data removed]",
      "text/plain": [
       "<Figure size 640x480 with 1 Axes>"
      ]
     },
     "metadata": {},
     "output_type": "display_data"
    }
   ],
   "source": [
    "consumption=data[data['Measure']=='Consumption']\n",
    "c1=consumption.groupby([\"Commodity\"])[[\"OBS_VALUE\"]].max().sort_values(by=\"OBS_VALUE\",ascending=False)\n",
    "c1.plot(kind='bar',color=\"grey\",edgecolor=\"red\")"
   ]
  },
  {
   "cell_type": "code",
   "execution_count": 66,
   "id": "520191b0-ffe7-459d-b774-532345a80168",
   "metadata": {},
   "outputs": [],
   "source": [
    "##in which year pigmeat consumption is more"
   ]
  },
  {
   "cell_type": "code",
   "execution_count": 156,
   "id": "5799cf8d-0a07-4c67-8b90-86228ddf3a0f",
   "metadata": {},
   "outputs": [
    {
     "data": {
      "text/plain": [
       "<Axes: xlabel='TIME_PERIOD'>"
      ]
     },
     "execution_count": 156,
     "metadata": {},
     "output_type": "execute_result"
    },
    {
     "data": {
      "image/png": "[encoded data removed]",
      "text/plain": [
       "<Figure size 640x480 with 1 Axes>"
      ]
     },
     "metadata": {},
     "output_type": "display_data"
    }
   ],
   "source": [
    "pgcon=data[data['Measure']=='Consumption']\n",
    "pgcon1=pgcon[pgcon[\"Commodity\"]==\"Pigmeat\"]\n",
    "pg=pgcon1.groupby('TIME_PERIOD')[[\"OBS_VALUE\"]].max().sort_values(by=\"OBS_VALUE\",ascending=False)\n",
    "pg[0:5].plot(kind=\"line\",color=\"purple\")"
   ]
  },
  {
   "cell_type": "code",
   "execution_count": null,
   "id": "21ed3938-15a4-4218-a97e-cd8a7715f7c5",
   "metadata": {},
   "outputs": [],
   "source": [
    "### which country consume more pigmeat"
   ]
  },
  {
   "cell_type": "code",
   "execution_count": 122,
   "id": "d8456656-2733-432a-9a98-78854cca7ec5",
   "metadata": {},
   "outputs": [
    {
     "data": {
      "text/plain": [
       "array([<Axes: ylabel='OBS_VALUE'>], dtype=object)"
      ]
     },
     "execution_count": 122,
     "metadata": {},
     "output_type": "execute_result"
    },
    {
     "data": {
      "image/png": "[encoded data removed]",
      "text/plain": [
       "<Figure size 640x480 with 1 Axes>"
      ]
     },
     "metadata": {},
     "output_type": "display_data"
    }
   ],
   "source": [
    "pgcon=data[data['Measure']=='Consumption']\n",
    "pgcon1=pgcon[pgcon[\"Commodity\"]==\"Pigmeat\"]\n",
    "pg=pgcon1.groupby('Reference area')[[\"OBS_VALUE\"]].max().sort_values(by=\"OBS_VALUE\",ascending=False)\n",
    "pg[0:5].plot(kind=\"pie\",subplots=True,autopct=\"%.0f%%\",legend=False)"
   ]
  },
  {
   "cell_type": "code",
   "execution_count": null,
   "id": "a5898291-b7b1-4421-8231-54ce69023391",
   "metadata": {},
   "outputs": [],
   "source": [
    "## which country import pigmeat more"
   ]
  },
  {
   "cell_type": "code",
   "execution_count": 124,
   "id": "77895824-c9fc-4a4c-b14a-f5fa21e8005e",
   "metadata": {},
   "outputs": [
    {
     "data": {
      "text/plain": [
       "<Axes: xlabel='Reference area'>"
      ]
     },
     "execution_count": 124,
     "metadata": {},
     "output_type": "execute_result"
    },
    {
     "data": {
      "image/png": "[encoded data removed]",
      "text/plain": [
       "<Figure size 640x480 with 1 Axes>"
      ]
     },
     "metadata": {},
     "output_type": "display_data"
    }
   ],
   "source": [
    "pgcon=data[data['Measure']=='Imports']\n",
    "pgcon1=pgcon[pgcon[\"Commodity\"]==\"Pigmeat\"]\n",
    "pg=pgcon1.groupby('Reference area')[[\"OBS_VALUE\"]].max().sort_values(by=\"OBS_VALUE\",ascending=False)\n",
    "pg1=pg[0:5]\n",
    "sns.scatterplot(pg1,palette='hot')"
   ]
  },
  {
   "cell_type": "code",
   "execution_count": null,
   "id": "8094b0fd-7ec9-4c98-b85c-4e821a6c0199",
   "metadata": {},
   "outputs": [],
   "source": [
    "## which country export the pigmeat on lage scale\n"
   ]
  },
  {
   "cell_type": "code",
   "execution_count": 126,
   "id": "abd997c7-bf0b-4d0b-b540-ae073eebdfc3",
   "metadata": {},
   "outputs": [
    {
     "data": {
      "text/plain": [
       "<seaborn.axisgrid.FacetGrid at 0x2347691c590>"
      ]
     },
     "execution_count": 126,
     "metadata": {},
     "output_type": "execute_result"
    },
    {
     "data": {
      "image/png": "[encoded data removed]",
      "text/plain": [
       "<Figure size 630.125x500 with 1 Axes>"
      ]
     },
     "metadata": {},
     "output_type": "display_data"
    }
   ],
   "source": [
    "pgcon=data[data['Measure']=='Exports']\n",
    "pgcon1=pgcon[pgcon[\"Commodity\"]==\"Pigmeat\"]\n",
    "pg=pgcon1.groupby('Reference area')[[\"OBS_VALUE\"]].max().sort_values(by=\"OBS_VALUE\",ascending=False)\n",
    "pg1=pg[0:5]\n",
    "sns.relplot(pg1,palette='rainbow')"
   ]
  },
  {
   "cell_type": "code",
   "execution_count": null,
   "id": "d02968d5-1d31-4142-83d8-7ef5885d51d4",
   "metadata": {},
   "outputs": [],
   "source": [
    "data[data['Measure'] == 'Imports']"
   ]
  },
  {
   "cell_type": "code",
   "execution_count": null,
   "id": "25fcf351-f6bc-403f-b48a-8eb20e27749e",
   "metadata": {},
   "outputs": [],
   "source": [
    "### country with less pigmeat  cunsumption"
   ]
  },
  {
   "cell_type": "code",
   "execution_count": 128,
   "id": "01787208-b97d-438f-b457-518dc24a0851",
   "metadata": {},
   "outputs": [
    {
     "data": {
      "text/plain": [
       "<Axes: ylabel='Reference area'>"
      ]
     },
     "execution_count": 128,
     "metadata": {},
     "output_type": "execute_result"
    },
    {
     "data": {
      "image/png": "[encoded data removed]",
      "text/plain": [
       "<Figure size 640x480 with 1 Axes>"
      ]
     },
     "metadata": {},
     "output_type": "display_data"
    }
   ],
   "source": [
    "pgcon=data[data['Measure']=='Consumption']\n",
    "pgcon1=pgcon[pgcon[\"Commodity\"]==\"Pigmeat\"]\n",
    "pg=pgcon1.groupby('Reference area')[[\"OBS_VALUE\"]].min().sort_values(by=\"OBS_VALUE\",ascending=True)\n",
    "pg[0:5].plot(kind=\"barh\",color=\"pink\")"
   ]
  },
  {
   "cell_type": "code",
   "execution_count": null,
   "id": "912416de-5d60-4431-98b5-e022a2b406a3",
   "metadata": {},
   "outputs": [],
   "source": [
    "##disrtibution of meat"
   ]
  },
  {
   "cell_type": "code",
   "execution_count": 130,
   "id": "c4825c2f-db96-4f30-b73e-05a12026e1fe",
   "metadata": {},
   "outputs": [
    {
     "data": {
      "text/plain": [
       "<Axes: xlabel='Reference area'>"
      ]
     },
     "execution_count": 130,
     "metadata": {},
     "output_type": "execute_result"
    },
    {
     "data": {
      "image/png": "[encoded data removed]",
      "text/plain": [
       "<Figure size 1500x600 with 1 Axes>"
      ]
     },
     "metadata": {},
     "output_type": "display_data"
    }
   ],
   "source": [
    "m=pd.crosstab(data[\"Commodity\"],data[\"Reference area\"],data[\"OBS_VALUE\"],aggfunc=\"max\")\n",
    "plt.figure(figsize=(15,6))\n",
    "sns.barplot(m)"
   ]
  },
  {
   "cell_type": "code",
   "execution_count": null,
   "id": "ef3c1c61-cd29-476c-8748-680e2b555244",
   "metadata": {},
   "outputs": [],
   "source": []
  },
  {
   "cell_type": "code",
   "execution_count": null,
   "id": "3003d05d-6513-40c0-8171-002ecf5a917a",
   "metadata": {},
   "outputs": [],
   "source": [
    "#c1.to_csv(\"clean_data.csv\")\n",
    "data.to_csv(\"mydata.csv\")"
   ]
  },
  {
   "cell_type": "code",
   "execution_count": null,
   "id": "7b8358fa-90a9-4f0e-b285-b655b7c9d0f2",
   "metadata": {},
   "outputs": [],
   "source": [
    "## in which country production number of egg is higher "
   ]
  },
  {
   "cell_type": "code",
   "execution_count": 132,
   "id": "c7e4cb19-6387-4d2b-b2cf-0299a510901e",
   "metadata": {},
   "outputs": [
    {
     "data": {
      "text/plain": [
       "<Axes: xlabel='Reference area', ylabel='OBS_VALUE'>"
      ]
     },
     "execution_count": 132,
     "metadata": {},
     "output_type": "execute_result"
    },
    {
     "data": {
      "image/png": "[encoded data removed]",
      "text/plain": [
       "<Figure size 1800x600 with 1 Axes>"
      ]
     },
     "metadata": {},
     "output_type": "display_data"
    }
   ],
   "source": [
    "egg=data[data['Measure']=='Production']\n",
    "egg1=egg[egg[\"Commodity\"]==\"Egg\"]\n",
    "plt.figure(figsize=(18,6))\n",
    "sns.lineplot(data=egg1, x=\"Reference area\", y=\"OBS_VALUE\")"
   ]
  },
  {
   "cell_type": "code",
   "execution_count": null,
   "id": "6f563ec1-3900-4fb0-87df-452aae60f30c",
   "metadata": {},
   "outputs": [],
   "source": [
    "### consumption of egg "
   ]
  },
  {
   "cell_type": "code",
   "execution_count": null,
   "id": "6c365c88-f8ec-4b0c-b628-b4586cd2655c",
   "metadata": {},
   "outputs": [],
   "source": [
    "ce1"
   ]
  },
  {
   "cell_type": "code",
   "execution_count": 134,
   "id": "77a111f7-c548-4f14-821b-6e08edc23d26",
   "metadata": {},
   "outputs": [
    {
     "data": {
      "text/plain": [
       "<Axes: xlabel='Reference area', ylabel='count'>"
      ]
     },
     "execution_count": 134,
     "metadata": {},
     "output_type": "execute_result"
    },
    {
     "data": {
      "image/png": "[encoded data removed]",
      "text/plain": [
       "<Figure size 700x600 with 1 Axes>"
      ]
     },
     "metadata": {},
     "output_type": "display_data"
    }
   ],
   "source": [
    "ce=data[data['Measure']=='Consumption']\n",
    "ce1=ce[ce[\"Commodity\"]==\"Egg\"]\n",
    "plt.figure(figsize=(7,6))\n",
    "sns.countplot(pg1,x=\"Reference area\",palette='coolwarm')"
   ]
  },
  {
   "cell_type": "code",
   "execution_count": null,
   "id": "e5d29d9e-78b1-4bdd-b113-ecd12d84d9cc",
   "metadata": {},
   "outputs": [],
   "source": [
    "###higher export"
   ]
  },
  {
   "cell_type": "code",
   "execution_count": 136,
   "id": "b59fcc39-0fbf-424a-bb6b-4797a119310d",
   "metadata": {},
   "outputs": [
    {
     "data": {
      "text/plain": [
       "<Axes: xlabel='Reference area', ylabel='OBS_VALUE'>"
      ]
     },
     "execution_count": 136,
     "metadata": {},
     "output_type": "execute_result"
    },
    {
     "data": {
      "image/png": "[encoded data removed]",
      "text/plain": [
       "<Figure size 1500x600 with 1 Axes>"
      ]
     },
     "metadata": {},
     "output_type": "display_data"
    }
   ],
   "source": [
    "he=data[data['Measure']=='Exports']\n",
    "he1=he[he[\"Commodity\"]==\"Egg\"]\n",
    "plt.figure(figsize=(15,6))\n",
    "sns.pointplot(he1, x=\"Reference area\", y=\"OBS_VALUE\",linestyles=\":\" ,palette=\"rocket\")"
   ]
  },
  {
   "cell_type": "code",
   "execution_count": null,
   "id": "229979f3-6949-4f33-83e0-618f642158a9",
   "metadata": {},
   "outputs": [],
   "source": [
    "## highest import\n",
    "hi1"
   ]
  },
  {
   "cell_type": "code",
   "execution_count": 138,
   "id": "bf74ea32-6931-4927-9203-091ec0909647",
   "metadata": {},
   "outputs": [
    {
     "data": {
      "text/plain": [
       "<Axes: xlabel='Reference area', ylabel='TIME_PERIOD'>"
      ]
     },
     "execution_count": 138,
     "metadata": {},
     "output_type": "execute_result"
    },
    {
     "data": {
      "image/png": "[encoded data removed]",
      "text/plain": [
       "<Figure size 1800x600 with 1 Axes>"
      ]
     },
     "metadata": {},
     "output_type": "display_data"
    }
   ],
   "source": [
    "hi=data[data['Measure']=='Imports']\n",
    "hi1=hi[hi[\"Commodity\"]==\"Egg\"]\n",
    "plt.figure(figsize=(18,6))\n",
    "sns.pointplot(hi1,x=\"Reference area\", y=\"TIME_PERIOD\",linestyles=\":\",color=\"orange\")"
   ]
  },
  {
   "cell_type": "code",
   "execution_count": null,
   "id": "df9a645a-0244-4a9e-811a-4ec9179db86a",
   "metadata": {},
   "outputs": [],
   "source": [
    "data[\"Commodity\"].unique()"
   ]
  },
  {
   "cell_type": "code",
   "execution_count": 140,
   "id": "4e18640c-074b-405c-ad64-2e2934344ea9",
   "metadata": {},
   "outputs": [],
   "source": [
    "#now store the specific data into new vriable and merge them\n",
    "polmt=data[data[\"Commodity\"]==\"Poultry meat\"]\n",
    "bv=data[data[\"Commodity\"]==\"Beef and veal\"]\n"
   ]
  },
  {
   "cell_type": "code",
   "execution_count": 142,
   "id": "7c7bfaf9-876b-4029-a55f-528e6230400c",
   "metadata": {},
   "outputs": [],
   "source": [
    "#merge the data\n",
    "pmbv=polmt.merge(bv,how=\"outer\")"
   ]
  },
  {
   "cell_type": "code",
   "execution_count": 148,
   "id": "3026e8ca-d3d1-440c-833f-165ed0b5b945",
   "metadata": {},
   "outputs": [
    {
     "data": {
      "text/plain": [
       "<seaborn.axisgrid.FacetGrid at 0x23477c9a390>"
      ]
     },
     "execution_count": 148,
     "metadata": {},
     "output_type": "execute_result"
    },
    {
     "data": {
      "text/plain": [
       "<Figure size 2000x600 with 0 Axes>"
      ]
     },
     "metadata": {},
     "output_type": "display_data"
    },
    {
     "data": {
      "image/png": "[encoded data removed]",
      "text/plain": [
       "<Figure size 1345.88x500 with 4 Axes>"
      ]
     },
     "metadata": {},
     "output_type": "display_data"
    }
   ],
   "source": [
    "plt.figure(figsize=(20,6))\n",
    "#sns.stripplot(pmbv, x=\"Reference area\", y=\"OBS_VALUE\", col=\"Measure\",dodge=True)\n",
    "sns.catplot(pmbv, x=\"OBS_VALUE\", y=\"Reference area\", hue=\"Commodity\", col=\"Measure\", aspect=.6, palette=\"PiYG\")"
   ]
  },
  {
   "cell_type": "code",
   "execution_count": 144,
   "id": "7ab60217-1976-4791-957b-1a4ef90cf50c",
   "metadata": {},
   "outputs": [],
   "source": [
    "spmt=data[data[\"Commodity\"]==\"Sheepmeat\"]"
   ]
  },
  {
   "cell_type": "code",
   "execution_count": 146,
   "id": "0c500302-8f03-4a83-a8a9-bab5c798c960",
   "metadata": {},
   "outputs": [
    {
     "data": {
      "text/plain": [
       "<seaborn.axisgrid.FacetGrid at 0x23477a4ff80>"
      ]
     },
     "execution_count": 146,
     "metadata": {},
     "output_type": "execute_result"
    },
    {
     "data": {
      "text/plain": [
       "<Figure size 2000x600 with 0 Axes>"
      ]
     },
     "metadata": {},
     "output_type": "display_data"
    },
    {
     "data": {
      "image/png": "[encoded data removed]",
      "text/plain": [
       "<Figure size 1200x500 with 4 Axes>"
      ]
     },
     "metadata": {},
     "output_type": "display_data"
    }
   ],
   "source": [
    "plt.figure(figsize=(20,6))\n",
    "#sns.stripplot(pmbv, x=\"Reference area\", y=\"OBS_VALUE\", col=\"Measure\",dodge=True)\n",
    "sns.catplot(spmt, x=\"OBS_VALUE\", y=\"Reference area\", col=\"Measure\", aspect=.6, palette=\"hot\")"
   ]
  },
  {
   "cell_type": "code",
   "execution_count": null,
   "id": "c416c59c-5307-40d3-9f6a-7d60546f3ee9",
   "metadata": {},
   "outputs": [],
   "source": []
  },
  {
   "cell_type": "code",
   "execution_count": null,
   "id": "bd0d2305-3401-4176-b934-eaad2360304b",
   "metadata": {},
   "outputs": [],
   "source": []
  }
 ],
 "metadata": {
  "kernelspec": {
   "display_name": "Python 3 (ipykernel)",
   "language": "python",
   "name": "python3"
  },
  "language_info": {
   "codemirror_mode": {
    "name": "ipython",
    "version": 3
   },
   "file_extension": ".py",
   "mimetype": "text/x-python",
   "name": "python",
   "nbconvert_exporter": "python",
   "pygments_lexer": "ipython3",
   "version": "3.12.4"
  }
 },
 "nbformat": 4,
 "nbformat_minor": 5
}
